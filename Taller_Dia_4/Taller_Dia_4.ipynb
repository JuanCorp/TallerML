{
 "cells": [
  {
   "cell_type": "code",
   "execution_count": 233,
   "metadata": {
    "collapsed": true,
    "slideshow": {
     "slide_type": "skip"
    }
   },
   "outputs": [],
   "source": [
    "import seaborn as sns\n",
    "import matplotlib.pyplot as plt\n",
    "import pandas as pd\n",
    "import numpy as np\n",
    "%matplotlib inline\n",
    "from matplotlib import rcParams \n",
    "# Parametros de las graficas.\n",
    "rcParams['figure.figsize'] = (4, 4)\n",
    "rcParams['figure.dpi'] = 150\n",
    "rcParams['font.size'] = 10"
   ]
  },
  {
   "cell_type": "markdown",
   "metadata": {
    "slideshow": {
     "slide_type": "skip"
    }
   },
   "source": [
    "# Aplicaciones:\n",
    "\n",
    "### 1. [Regularización: Venta de Casa](#regularizacion)\n",
    "### 2. [Arbol de Clasificación: Titanic](#titanic)\n",
    "### 3. [Arbol de Regresión: Millas por Galón](#mpg)\n",
    "### 4. [Optimización](#opt)\n",
    "\n",
    "# Implementaciones:\n",
    "### 1. [Arbol de Decisión](#decision)\n",
    "### 2. [Arbol de Regresión](#reg)"
   ]
  },
  {
   "cell_type": "markdown",
   "metadata": {
    "slideshow": {
     "slide_type": "slide"
    }
   },
   "source": [
    "![title](https://vignette3.wikia.nocookie.net/24wikia/images/3/39/Previouslyon24.jpg/revision/latest?cb=20110322215957&path-prefix=es)"
   ]
  },
  {
   "cell_type": "markdown",
   "metadata": {
    "slideshow": {
     "slide_type": "slide"
    }
   },
   "source": [
    "## Vimos los modelos lineales de: \n",
    "\n",
    "## Regresión Lineal\n",
    "\n",
    "![title](https://upload.wikimedia.org/wikipedia/commons/thumb/3/3a/Linear_regression.svg/350px-Linear_regression.svg.png)\n",
    "\n",
    "### En el cual asumimos que la hipotésis ideal es una linea que se acerca lo más posible a los datos, mientras deja espacio para generalizar."
   ]
  },
  {
   "cell_type": "markdown",
   "metadata": {
    "slideshow": {
     "slide_type": "subslide"
    }
   },
   "source": [
    "## Regresión Logistica\n",
    "\n",
    "\n",
    "![title](https://codesachin.files.wordpress.com/2015/08/linearly_separable_4.png)\n",
    "\n",
    "### En el cual separamos dos o más clases por medio de una linea."
   ]
  },
  {
   "cell_type": "markdown",
   "metadata": {
    "slideshow": {
     "slide_type": "subslide"
    }
   },
   "source": [
    "## Y Validación de modelos\n",
    "\n",
    "![title](https://qph.ec.quoracdn.net/main-qimg-6f4f40ac0fb1b33d17760d104f6c0864)\n",
    "\n",
    "### En el cual comparabamos el rendimiento del modelo con datos de entrenamiento y prueba para ver que tan bueno era generalizando. Entre los metodos para reducir la complejidad de un modelo está:"
   ]
  },
  {
   "cell_type": "markdown",
   "metadata": {
    "slideshow": {
     "slide_type": "slide"
    }
   },
   "source": [
    "## Regularización\n",
    "\n",
    "### La regularización es una forma de reducir la complejidad o libertad de un modelo, añadiendo una penalización a los parametros o pesos del mismo. Esta penalización esta basada en los mismos pesos, por lo que los valores de los mismos afectarán su actualización en el futuro. Existen tres tipos de regularización:\n",
    "\n",
    "### -Lasso o L1\n",
    "### -Ridge o L2\n",
    "### -ElasticNet o L1L2"
   ]
  },
  {
   "cell_type": "markdown",
   "metadata": {
    "slideshow": {
     "slide_type": "subslide"
    }
   },
   "source": [
    "### Lasso (L1)\n",
    "\n",
    "#### En la regularización Lasso, le sumamos al costo el valor absoluto de los pesos. \n",
    "\n",
    "#### $$ J(w)_{Lasso} = J(w) + \\frac{\\lambda}{m} \\sum_{i=1}^{n} |{w_i}|  $$\n",
    "\n",
    "#### donde $\\lambda$ es una constante que representa la fuerza de la regularización. El gradiente del mismo es:\n",
    "\n",
    "#### $$ \\nabla J(w)_{Lasso} = \\nabla J(w) + \\frac{\\lambda}{m} \\sum_{i=1}^{n} signo(w_i) $$ \n",
    "\n",
    "#### Donde el resultado de la función del signo es -1 para $w$ negativas, 1 para $w$ positivas y 0 para $w = 0$. Lo que hace esta regularización es que los pesos que son positivos tenderán a seguir aumentando, los pesos negativos seguirán disminuyendo mientras que los pesos que ya estan en 0, se quedarán en 0. De esta manera, algunas variables o características se quedarán en 0,  lo cual elimina esas variables, reduciendo la complejidad del modelo. Mientras más grande sea $\\lambda$, más coeficientes serán eliminados."
   ]
  },
  {
   "cell_type": "markdown",
   "metadata": {
    "slideshow": {
     "slide_type": "subslide"
    }
   },
   "source": [
    "### Ridge (L2)\n",
    "\n",
    "#### En la regularización Ridge, le sumamos al costo el valor cuadrado de los pesos. \n",
    "\n",
    "#### $$ J(w)_{Ridge} = J(w) + \\frac{\\lambda}{2m}\\sum_{i=1}^{n} {w^2}  $$\n",
    "\n",
    "#### donde $\\lambda$ es una constante que representa la fuerza de la regularización. El gradiente del mismo es:\n",
    "\n",
    "#### $$ \\nabla J(w)_{Ridge} = \\nabla J(w) + \\frac{\\lambda}{m} \\sum_{i=1}^{n}w_i $$ \n",
    "\n",
    "#### En esta regularización, los coeficientes que son muy grandes (ya sea positivamente o negativamente) son disminuidos  hasta estar cerca de 0. Esto hace que los coeficientes grandes sean disminuidos, dandole más importancia a los coeficientes pequeños también, y de esta forma haciendo el modelo más robusto en general."
   ]
  },
  {
   "cell_type": "markdown",
   "metadata": {
    "collapsed": true,
    "slideshow": {
     "slide_type": "subslide"
    }
   },
   "source": [
    "### ElasticNet (L1L2)\n",
    "\n",
    "#### En la regularización ElasticNet, combinamos ambas regularizaciones de una forma general. \n",
    "\n",
    "#### $$ J(w)_{L1L2} = J(w) + \\frac{\\lambda}{m}\\big(\\frac{(1 - \\gamma)}{2}\\sum_{i=1}^{n} {w_i^2} + \\gamma \\sum_{i=1}^{n} |{w_i}|  \\big)  $$\n",
    "\n",
    "#### donde $\\gamma$ es una constante que representa el coeficiente de regularización. Cuando $\\gamma = 0$, se convierte en la regularización Ridge. Cuando $\\gamma = 1$, se convierte en la regularización Lasso. Cualquier valor entre 0 y 1,  y utiliza ambas regularizaciones.  El gradiente del mismo es:\n",
    "\n",
    "#### $$ \\nabla J(w)_{L1L2} = \\nabla J(w) + \\frac{\\lambda}{m} \\big((1 - \\gamma)\\sum_{i=1}^{n}w_i + \\gamma\\sum_{i=1}^{n} signo(w_i)   \\big) $$ \n",
    "\n",
    "#### Esta regularización tiene un comportamiento híbrido. Los coeficientes son reducidos, y pueden ser reducidos a 0, pero de una manera más gradual. De esta manera se reducen los coeficientes grandes, y los coeficientes pequeños pueden llegar a ser reducidos a 0."
   ]
  },
  {
   "cell_type": "markdown",
   "metadata": {
    "slideshow": {
     "slide_type": "slide"
    }
   },
   "source": [
    "# Aplicación 1: Regularización en Venta de Casa.\n",
    "\n",
    "### Utilizando los mismos datos de la aplicación 5 del taller anterior, vamos a aplicar regularización L1 y L2 y ver como se comportan los pesos.\n",
    "\n",
    "![title](https://fishsouthbay.files.wordpress.com/2012/03/selling_a_home.jpg)\n",
    "<a id=\"regularizacion\"></a>"
   ]
  },
  {
   "cell_type": "code",
   "execution_count": 234,
   "metadata": {
    "slideshow": {
     "slide_type": "skip"
    }
   },
   "outputs": [
    {
     "data": {
      "text/html": [
       "<div>\n",
       "<style>\n",
       "    .dataframe thead tr:only-child th {\n",
       "        text-align: right;\n",
       "    }\n",
       "\n",
       "    .dataframe thead th {\n",
       "        text-align: left;\n",
       "    }\n",
       "\n",
       "    .dataframe tbody tr th {\n",
       "        vertical-align: top;\n",
       "    }\n",
       "</style>\n",
       "<table border=\"1\" class=\"dataframe\">\n",
       "  <thead>\n",
       "    <tr style=\"text-align: right;\">\n",
       "      <th></th>\n",
       "      <th>habitaciones</th>\n",
       "      <th>baños</th>\n",
       "      <th>area_estancia</th>\n",
       "      <th>area_lote</th>\n",
       "      <th>pisos</th>\n",
       "      <th>frenteagua</th>\n",
       "      <th>vista</th>\n",
       "      <th>condicion</th>\n",
       "      <th>grade</th>\n",
       "      <th>area_techo</th>\n",
       "      <th>año</th>\n",
       "      <th>renovada</th>\n",
       "      <th>sotano</th>\n",
       "      <th>precio</th>\n",
       "    </tr>\n",
       "  </thead>\n",
       "  <tbody>\n",
       "    <tr>\n",
       "      <th>0</th>\n",
       "      <td>3</td>\n",
       "      <td>1.00</td>\n",
       "      <td>1180</td>\n",
       "      <td>5650</td>\n",
       "      <td>1.0</td>\n",
       "      <td>0</td>\n",
       "      <td>0</td>\n",
       "      <td>3</td>\n",
       "      <td>7</td>\n",
       "      <td>1180</td>\n",
       "      <td>1955</td>\n",
       "      <td>0</td>\n",
       "      <td>0</td>\n",
       "      <td>221900.0</td>\n",
       "    </tr>\n",
       "    <tr>\n",
       "      <th>1</th>\n",
       "      <td>3</td>\n",
       "      <td>2.25</td>\n",
       "      <td>2570</td>\n",
       "      <td>7242</td>\n",
       "      <td>2.0</td>\n",
       "      <td>0</td>\n",
       "      <td>0</td>\n",
       "      <td>3</td>\n",
       "      <td>7</td>\n",
       "      <td>2170</td>\n",
       "      <td>1951</td>\n",
       "      <td>1</td>\n",
       "      <td>1</td>\n",
       "      <td>538000.0</td>\n",
       "    </tr>\n",
       "    <tr>\n",
       "      <th>2</th>\n",
       "      <td>2</td>\n",
       "      <td>1.00</td>\n",
       "      <td>770</td>\n",
       "      <td>10000</td>\n",
       "      <td>1.0</td>\n",
       "      <td>0</td>\n",
       "      <td>0</td>\n",
       "      <td>3</td>\n",
       "      <td>6</td>\n",
       "      <td>770</td>\n",
       "      <td>1933</td>\n",
       "      <td>0</td>\n",
       "      <td>0</td>\n",
       "      <td>180000.0</td>\n",
       "    </tr>\n",
       "    <tr>\n",
       "      <th>3</th>\n",
       "      <td>4</td>\n",
       "      <td>3.00</td>\n",
       "      <td>1960</td>\n",
       "      <td>5000</td>\n",
       "      <td>1.0</td>\n",
       "      <td>0</td>\n",
       "      <td>0</td>\n",
       "      <td>5</td>\n",
       "      <td>7</td>\n",
       "      <td>1050</td>\n",
       "      <td>1965</td>\n",
       "      <td>0</td>\n",
       "      <td>1</td>\n",
       "      <td>604000.0</td>\n",
       "    </tr>\n",
       "    <tr>\n",
       "      <th>4</th>\n",
       "      <td>3</td>\n",
       "      <td>2.00</td>\n",
       "      <td>1680</td>\n",
       "      <td>8080</td>\n",
       "      <td>1.0</td>\n",
       "      <td>0</td>\n",
       "      <td>0</td>\n",
       "      <td>3</td>\n",
       "      <td>8</td>\n",
       "      <td>1680</td>\n",
       "      <td>1987</td>\n",
       "      <td>0</td>\n",
       "      <td>0</td>\n",
       "      <td>510000.0</td>\n",
       "    </tr>\n",
       "  </tbody>\n",
       "</table>\n",
       "</div>"
      ],
      "text/plain": [
       "   habitaciones  baños  area_estancia  area_lote  pisos  frenteagua  vista  \\\n",
       "0             3   1.00           1180       5650    1.0           0      0   \n",
       "1             3   2.25           2570       7242    2.0           0      0   \n",
       "2             2   1.00            770      10000    1.0           0      0   \n",
       "3             4   3.00           1960       5000    1.0           0      0   \n",
       "4             3   2.00           1680       8080    1.0           0      0   \n",
       "\n",
       "   condicion  grade  area_techo   año  renovada  sotano    precio  \n",
       "0          3      7        1180  1955         0       0  221900.0  \n",
       "1          3      7        2170  1951         1       1  538000.0  \n",
       "2          3      6         770  1933         0       0  180000.0  \n",
       "3          5      7        1050  1965         0       1  604000.0  \n",
       "4          3      8        1680  1987         0       0  510000.0  "
      ]
     },
     "execution_count": 234,
     "metadata": {},
     "output_type": "execute_result"
    }
   ],
   "source": [
    "ventas_casa = pd.read_csv('ventas_casa.csv',encoding = 'latin1')\n",
    "ventas_casa.head()"
   ]
  },
  {
   "cell_type": "markdown",
   "metadata": {
    "slideshow": {
     "slide_type": "skip"
    }
   },
   "source": [
    "#### Transformar los datos primero."
   ]
  },
  {
   "cell_type": "code",
   "execution_count": 235,
   "metadata": {
    "slideshow": {
     "slide_type": "skip"
    }
   },
   "outputs": [
    {
     "data": {
      "text/html": [
       "<div>\n",
       "<style>\n",
       "    .dataframe thead tr:only-child th {\n",
       "        text-align: right;\n",
       "    }\n",
       "\n",
       "    .dataframe thead th {\n",
       "        text-align: left;\n",
       "    }\n",
       "\n",
       "    .dataframe tbody tr th {\n",
       "        vertical-align: top;\n",
       "    }\n",
       "</style>\n",
       "<table border=\"1\" class=\"dataframe\">\n",
       "  <thead>\n",
       "    <tr style=\"text-align: right;\">\n",
       "      <th></th>\n",
       "      <th>habitaciones</th>\n",
       "      <th>baños</th>\n",
       "      <th>area_estancia</th>\n",
       "      <th>area_lote</th>\n",
       "      <th>pisos</th>\n",
       "      <th>frenteagua</th>\n",
       "      <th>vista</th>\n",
       "      <th>condicion</th>\n",
       "      <th>grade</th>\n",
       "      <th>area_techo</th>\n",
       "      <th>año</th>\n",
       "      <th>renovada</th>\n",
       "      <th>sotano</th>\n",
       "      <th>precio</th>\n",
       "    </tr>\n",
       "  </thead>\n",
       "  <tbody>\n",
       "    <tr>\n",
       "      <th>0</th>\n",
       "      <td>3</td>\n",
       "      <td>1.00</td>\n",
       "      <td>1180</td>\n",
       "      <td>5650</td>\n",
       "      <td>1.0</td>\n",
       "      <td>0</td>\n",
       "      <td>0</td>\n",
       "      <td>3</td>\n",
       "      <td>7</td>\n",
       "      <td>1180</td>\n",
       "      <td>1955</td>\n",
       "      <td>0</td>\n",
       "      <td>0</td>\n",
       "      <td>221900.0</td>\n",
       "    </tr>\n",
       "    <tr>\n",
       "      <th>1</th>\n",
       "      <td>3</td>\n",
       "      <td>2.25</td>\n",
       "      <td>2570</td>\n",
       "      <td>7242</td>\n",
       "      <td>2.0</td>\n",
       "      <td>0</td>\n",
       "      <td>0</td>\n",
       "      <td>3</td>\n",
       "      <td>7</td>\n",
       "      <td>2170</td>\n",
       "      <td>1951</td>\n",
       "      <td>1</td>\n",
       "      <td>1</td>\n",
       "      <td>538000.0</td>\n",
       "    </tr>\n",
       "    <tr>\n",
       "      <th>2</th>\n",
       "      <td>2</td>\n",
       "      <td>1.00</td>\n",
       "      <td>770</td>\n",
       "      <td>10000</td>\n",
       "      <td>1.0</td>\n",
       "      <td>0</td>\n",
       "      <td>0</td>\n",
       "      <td>3</td>\n",
       "      <td>6</td>\n",
       "      <td>770</td>\n",
       "      <td>1933</td>\n",
       "      <td>0</td>\n",
       "      <td>0</td>\n",
       "      <td>180000.0</td>\n",
       "    </tr>\n",
       "    <tr>\n",
       "      <th>3</th>\n",
       "      <td>4</td>\n",
       "      <td>3.00</td>\n",
       "      <td>1960</td>\n",
       "      <td>5000</td>\n",
       "      <td>1.0</td>\n",
       "      <td>0</td>\n",
       "      <td>0</td>\n",
       "      <td>5</td>\n",
       "      <td>7</td>\n",
       "      <td>1050</td>\n",
       "      <td>1965</td>\n",
       "      <td>0</td>\n",
       "      <td>1</td>\n",
       "      <td>604000.0</td>\n",
       "    </tr>\n",
       "    <tr>\n",
       "      <th>4</th>\n",
       "      <td>3</td>\n",
       "      <td>2.00</td>\n",
       "      <td>1680</td>\n",
       "      <td>8080</td>\n",
       "      <td>1.0</td>\n",
       "      <td>0</td>\n",
       "      <td>0</td>\n",
       "      <td>3</td>\n",
       "      <td>8</td>\n",
       "      <td>1680</td>\n",
       "      <td>1987</td>\n",
       "      <td>0</td>\n",
       "      <td>0</td>\n",
       "      <td>510000.0</td>\n",
       "    </tr>\n",
       "  </tbody>\n",
       "</table>\n",
       "</div>"
      ],
      "text/plain": [
       "   habitaciones  baños  area_estancia  area_lote  pisos  frenteagua  vista  \\\n",
       "0             3   1.00           1180       5650    1.0           0      0   \n",
       "1             3   2.25           2570       7242    2.0           0      0   \n",
       "2             2   1.00            770      10000    1.0           0      0   \n",
       "3             4   3.00           1960       5000    1.0           0      0   \n",
       "4             3   2.00           1680       8080    1.0           0      0   \n",
       "\n",
       "   condicion  grade  area_techo   año  renovada  sotano    precio  \n",
       "0          3      7        1180  1955         0       0  221900.0  \n",
       "1          3      7        2170  1951         1       1  538000.0  \n",
       "2          3      6         770  1933         0       0  180000.0  \n",
       "3          5      7        1050  1965         0       1  604000.0  \n",
       "4          3      8        1680  1987         0       0  510000.0  "
      ]
     },
     "execution_count": 235,
     "metadata": {},
     "output_type": "execute_result"
    }
   ],
   "source": [
    "def normalizacion(x):\n",
    "    return (x - x.mean())/x.std()\n",
    "\n",
    "#ventas_casa.precio = np.log(ventas_casa.precio)\n",
    "#ventas_casa = normalizacion(ventas_casa)\n",
    "ventas_casa.head()"
   ]
  },
  {
   "cell_type": "markdown",
   "metadata": {
    "slideshow": {
     "slide_type": "skip"
    }
   },
   "source": [
    "### Vamos a utilizar la libreria de SKLearn para comparar los tres modos de regularización."
   ]
  },
  {
   "cell_type": "code",
   "execution_count": 236,
   "metadata": {
    "collapsed": true,
    "slideshow": {
     "slide_type": "skip"
    }
   },
   "outputs": [],
   "source": [
    "X = ventas_casa.drop('precio',axis = 1)\n",
    "y = ventas_casa.precio\n",
    "from sklearn.model_selection import train_test_split\n",
    "Xtrain,Xtest,ytrain,ytest = train_test_split(X,y,test_size = 0.8)"
   ]
  },
  {
   "cell_type": "code",
   "execution_count": 237,
   "metadata": {
    "slideshow": {
     "slide_type": "skip"
    }
   },
   "outputs": [
    {
     "name": "stdout",
     "output_type": "stream",
     "text": [
      "MSE de entrenamiento: 41276612401.09921\n",
      "MSE de prueba: 50232710287.85676\n"
     ]
    },
    {
     "data": {
      "text/plain": [
       "array([ -3.19854132e+04,   3.88805518e+04,   1.33584403e+02,\n",
       "        -1.88036228e-01,   1.39856658e+04,   1.45094425e+05,\n",
       "         6.35855221e+04,   1.21232628e+04,   1.25035120e+05,\n",
       "         1.85079276e+01,  -3.27982988e+03,   1.20340688e+04,\n",
       "         2.05753394e+04])"
      ]
     },
     "execution_count": 237,
     "metadata": {},
     "output_type": "execute_result"
    }
   ],
   "source": [
    "from sklearn import linear_model\n",
    "from sklearn.metrics import mean_squared_error\n",
    "\n",
    "Lasso = linear_model.Lasso(1000)\n",
    "Lasso.fit(Xtrain,ytrain)\n",
    "print(\"MSE de entrenamiento: {}\".format(mean_squared_error(ytrain,Lasso.predict(Xtrain))))\n",
    "print(\"MSE de prueba: {}\".format(mean_squared_error(ytest,Lasso.predict(Xtest))))\n",
    "Lasso.coef_"
   ]
  },
  {
   "cell_type": "code",
   "execution_count": 238,
   "metadata": {
    "slideshow": {
     "slide_type": "skip"
    }
   },
   "outputs": [
    {
     "name": "stdout",
     "output_type": "stream",
     "text": [
      "MSE de entrenamiento: 42787185084.80566\n",
      "MSE de prueba: 52276481926.78541\n"
     ]
    },
    {
     "data": {
      "text/plain": [
       "array([ -2.71095695e+04,   2.36160213e+04,   1.76506721e+02,\n",
       "        -2.14071188e-01,   1.50896753e+04,   9.36923837e+03,\n",
       "         5.36573417e+04,   9.07401582e+03,   9.01111000e+04,\n",
       "         1.77035041e+01,  -2.94906835e+03,   7.76434267e+03,\n",
       "         1.14563627e+04])"
      ]
     },
     "execution_count": 238,
     "metadata": {},
     "output_type": "execute_result"
    }
   ],
   "source": [
    "Ridge = linear_model.Ridge(1000)\n",
    "Ridge.fit(Xtrain,ytrain)\n",
    "print(\"MSE de entrenamiento: {}\".format(mean_squared_error(ytrain,Ridge.predict(Xtrain))))\n",
    "print(\"MSE de prueba: {}\".format(mean_squared_error(ytest,Ridge.predict(Xtest))))\n",
    "Ridge.coef_"
   ]
  },
  {
   "cell_type": "code",
   "execution_count": 239,
   "metadata": {
    "slideshow": {
     "slide_type": "skip"
    }
   },
   "outputs": [
    {
     "name": "stdout",
     "output_type": "stream",
     "text": [
      "MSE de entrenamiento: 57158988773.57253\n",
      "MSE de prueba: 66254722639.47652\n"
     ]
    },
    {
     "data": {
      "text/plain": [
       "array([ -6.78350229e+01,   1.29685496e+01,   2.84510442e+02,\n",
       "        -3.01773627e-01,   1.58842078e+01,   1.08964589e+01,\n",
       "         1.02706857e+02,   1.86656053e+01,   1.30488659e+02,\n",
       "         1.66929665e+01,  -1.47676723e+03,   7.81155427e+00,\n",
       "         6.72230500e+00])"
      ]
     },
     "execution_count": 239,
     "metadata": {},
     "output_type": "execute_result"
    }
   ],
   "source": [
    "ElasticNet = linear_model.ElasticNet(1000,l1_ratio = 0.5)\n",
    "ElasticNet.fit(X,y)\n",
    "print(\"MSE de entrenamiento: {}\".format(mean_squared_error(ytrain,ElasticNet.predict(Xtrain))))\n",
    "print(\"MSE de prueba: {}\".format(mean_squared_error(ytest,ElasticNet.predict(Xtest))))\n",
    "ElasticNet.coef_"
   ]
  },
  {
   "cell_type": "markdown",
   "metadata": {
    "slideshow": {
     "slide_type": "slide"
    }
   },
   "source": [
    "# Modelos de Arbol\n",
    "\n",
    "![title](https://raw.githubusercontent.com/dmlc/web-data/master/xgboost/model/cart.png)\n",
    "\n",
    "### Son modelos que están basados en  condiciones de los datos. Según separemos los datos con estas condiciones, podemos llegar a una hipotésis que cumpla para el mayor número de casos posibles."
   ]
  },
  {
   "cell_type": "markdown",
   "metadata": {
    "slideshow": {
     "slide_type": "subslide"
    }
   },
   "source": [
    "## Repasito: Tocón de Decisión \n",
    "\n",
    "![title](https://nonperfect.files.wordpress.com/2010/11/tocon.jpg) \n",
    "\n",
    "### Separamos los datos en dos partes, según un límite, y predecimos una clase según ese limite. Ejemplo:\n",
    "\n",
    "### Todas las personas menores a 160 cm de altura son mujeres, de lo contrario son hombres. La decisión seria:\n",
    "\n",
    "#### $$ Altura < 160 $$"
   ]
  },
  {
   "cell_type": "code",
   "execution_count": 240,
   "metadata": {
    "slideshow": {
     "slide_type": "subslide"
    }
   },
   "outputs": [
    {
     "data": {
      "text/html": [
       "<div>\n",
       "<style>\n",
       "    .dataframe thead tr:only-child th {\n",
       "        text-align: right;\n",
       "    }\n",
       "\n",
       "    .dataframe thead th {\n",
       "        text-align: left;\n",
       "    }\n",
       "\n",
       "    .dataframe tbody tr th {\n",
       "        vertical-align: top;\n",
       "    }\n",
       "</style>\n",
       "<table border=\"1\" class=\"dataframe\">\n",
       "  <thead>\n",
       "    <tr style=\"text-align: right;\">\n",
       "      <th></th>\n",
       "      <th>Altura</th>\n",
       "      <th>Sexo</th>\n",
       "    </tr>\n",
       "  </thead>\n",
       "  <tbody>\n",
       "    <tr>\n",
       "      <th>0</th>\n",
       "      <td>181</td>\n",
       "      <td>M</td>\n",
       "    </tr>\n",
       "    <tr>\n",
       "      <th>1</th>\n",
       "      <td>152</td>\n",
       "      <td>F</td>\n",
       "    </tr>\n",
       "    <tr>\n",
       "      <th>2</th>\n",
       "      <td>170</td>\n",
       "      <td>M</td>\n",
       "    </tr>\n",
       "    <tr>\n",
       "      <th>3</th>\n",
       "      <td>172</td>\n",
       "      <td>F</td>\n",
       "    </tr>\n",
       "    <tr>\n",
       "      <th>4</th>\n",
       "      <td>147</td>\n",
       "      <td>F</td>\n",
       "    </tr>\n",
       "    <tr>\n",
       "      <th>5</th>\n",
       "      <td>176</td>\n",
       "      <td>M</td>\n",
       "    </tr>\n",
       "  </tbody>\n",
       "</table>\n",
       "</div>"
      ],
      "text/plain": [
       "   Altura Sexo\n",
       "0     181    M\n",
       "1     152    F\n",
       "2     170    M\n",
       "3     172    F\n",
       "4     147    F\n",
       "5     176    M"
      ]
     },
     "execution_count": 240,
     "metadata": {},
     "output_type": "execute_result"
    }
   ],
   "source": [
    "alturas = pd.read_csv('alturas.csv')\n",
    "alturas"
   ]
  },
  {
   "cell_type": "markdown",
   "metadata": {
    "slideshow": {
     "slide_type": "subslide"
    }
   },
   "source": [
    "### Hipotésis\n",
    "\n",
    "#### Elegimos un límite para los datos, según todos los existentes de los mismos.  Separamos los datos según ese limite y predecimos una clase para diferente para los valores de cada lado del limite.\n",
    "\n",
    "#### $$ Altura \\leq 147  = F$$ "
   ]
  },
  {
   "cell_type": "markdown",
   "metadata": {
    "slideshow": {
     "slide_type": "subslide"
    }
   },
   "source": [
    "### Error \n",
    "\n",
    "#### Según esa separación evaluamos las predicciones de la hipotésis. Contamos el total de errores de la hipotésis, donde un error es cualquier predicción que no sea igual al valor real.\n",
    "\n",
    "#### $$ Errores = (147 = F) + (152 = M) + (170 = M) + (172 = M) + (176 = M) + (181 = M) = 0 + 1 + 0 + 1 + 0 + 0 = 2 $$"
   ]
  },
  {
   "cell_type": "markdown",
   "metadata": {
    "slideshow": {
     "slide_type": "subslide"
    }
   },
   "source": [
    "### Optimización\n",
    "\n",
    "#### Cambiamos el valor del límite o hipotésis y evaluamos el error de nuevo. Probamos todos los limites posibles y decidimos que la hipotésis ideal es aquel límite que nos da el menor total de errors. \n",
    "\n",
    "#### $$ Altura \\leq 152 = F $$ \n",
    "#### $$ Errores = 1 $$\n",
    "\n",
    "#### Otra hipotésis posible es:\n",
    "#### $$ Altura \\leq 172 = F $$\n",
    "#### $$ Errores = 1 $$\n",
    "\n",
    "#### De esta forma, llegamos a una hipotésis final que modela el problema de manera eficiente. Pero, usualmente en la vida real no se tiene una sola variable que al separarla, tendremos una cantidad aceptable de errores. ¿Cómo podemos agregarle complejidad a este modelo para que pueda aceptar varias variables?"
   ]
  },
  {
   "cell_type": "markdown",
   "metadata": {
    "slideshow": {
     "slide_type": "subslide"
    }
   },
   "source": [
    "# Imagina que sales esta noche a comer. ¿ Cómo decides a donde ir a comer?"
   ]
  },
  {
   "cell_type": "markdown",
   "metadata": {
    "slideshow": {
     "slide_type": "slide"
    }
   },
   "source": [
    "## Arbol de Decisión \n",
    "\n",
    "![title](https://3qeqpr26caki16dnhd19sv6by6v-wpengine.netdna-ssl.com/wp-content/uploads/2016/02/Example-Decision-Tree.png)\n"
   ]
  },
  {
   "cell_type": "markdown",
   "metadata": {
    "slideshow": {
     "slide_type": "fragment"
    }
   },
   "source": [
    "### Es un conjunto de tocones de decisión que modelan una decisión final. Los datos que cumplan con las condiciones de una ruta del arbol, serán clasificados según la predicción final de la ruta. A diferencia de los tocones de decisión, sería muy ineficiente probar todos los valores posibles para todas las combinaciones de rutas posibles. ¿ Cómo podemos determinar cual es la separación más optima?"
   ]
  },
  {
   "cell_type": "markdown",
   "metadata": {
    "slideshow": {
     "slide_type": "slide"
    }
   },
   "source": [
    "### Encontrado la mejor separación: Gini. \n",
    "\n",
    "#### Para encontrar la mejor separación debemos separar los datos de tal manera que hayan más numeros de una clase especifica de un lado que en el otro lado de los datos.\n",
    "\n",
    "![title](https://static1.squarespace.com/static/5206b718e4b0bdc26006bae2/t/5245b52ae4b08daa90d75510/1380306042980/SVM-line)\n",
    "\n",
    "#### Si separamos los datos de tal manera que la *proporción* de los valores de la clase sea casi igual de los dos lados, pues la separación no es buena. Por otro lado, si la *proporción* de lo valores de la clase es muy diferente en los dos lados, entonces la separación es buena."
   ]
  },
  {
   "cell_type": "markdown",
   "metadata": {
    "slideshow": {
     "slide_type": "subslide"
    }
   },
   "source": [
    "#### Para poder medir esto, podemos calcular el indice  *Gini*.  Este indice mide que tan buena es una condición de separación. Si calculamos la proporción  de los valores de la clase a predecir:\n",
    "\n",
    "#### $$ Proporción (P) = \\frac{Count(valor)}{Tamaño \\ Grupo} $$\n",
    "\n",
    "#### Para un limite cualquiera, tendriamos dos grupos:\n",
    "\n",
    "- Los que cumplen con la condición del limite.\n",
    "- Los que no cumplen con la condición del limite.\n",
    "\n",
    "#### Y para un problema con una clase binaria, esos dos grupos tendrian dos divisiones, los que pertenecen a una clase y los que pertenecen a la otra clase. El calculo del indice Gini vendría siendo el siguiente:\n",
    "\n",
    "#### $$ Gini = \\sum_{i =0} ^{4} P \\cdot (1 - P) $$\n",
    "\n",
    "#### Donde P es la proporción de los valores de una clase para un grupo. Como serían dos grupos, y la clase tendría dos divisiones, en total sería la suma de 4 valores. El Gini tiene valores en un rango de 0 a 1, mientras más cerca de 0 mejor."
   ]
  },
  {
   "cell_type": "code",
   "execution_count": 241,
   "metadata": {
    "slideshow": {
     "slide_type": "subslide"
    }
   },
   "outputs": [
    {
     "data": {
      "text/html": [
       "<div>\n",
       "<style>\n",
       "    .dataframe thead tr:only-child th {\n",
       "        text-align: right;\n",
       "    }\n",
       "\n",
       "    .dataframe thead th {\n",
       "        text-align: left;\n",
       "    }\n",
       "\n",
       "    .dataframe tbody tr th {\n",
       "        vertical-align: top;\n",
       "    }\n",
       "</style>\n",
       "<table border=\"1\" class=\"dataframe\">\n",
       "  <thead>\n",
       "    <tr style=\"text-align: right;\">\n",
       "      <th></th>\n",
       "      <th>Horas Mensuales</th>\n",
       "      <th>Promovido</th>\n",
       "      <th>Salario</th>\n",
       "      <th>Renuncio</th>\n",
       "    </tr>\n",
       "  </thead>\n",
       "  <tbody>\n",
       "    <tr>\n",
       "      <th>0</th>\n",
       "      <td>239</td>\n",
       "      <td>0</td>\n",
       "      <td>Alto</td>\n",
       "      <td>0</td>\n",
       "    </tr>\n",
       "    <tr>\n",
       "      <th>1</th>\n",
       "      <td>149</td>\n",
       "      <td>0</td>\n",
       "      <td>Bajo</td>\n",
       "      <td>1</td>\n",
       "    </tr>\n",
       "    <tr>\n",
       "      <th>2</th>\n",
       "      <td>160</td>\n",
       "      <td>0</td>\n",
       "      <td>Bajo</td>\n",
       "      <td>1</td>\n",
       "    </tr>\n",
       "    <tr>\n",
       "      <th>3</th>\n",
       "      <td>145</td>\n",
       "      <td>0</td>\n",
       "      <td>Bajo</td>\n",
       "      <td>1</td>\n",
       "    </tr>\n",
       "    <tr>\n",
       "      <th>4</th>\n",
       "      <td>249</td>\n",
       "      <td>0</td>\n",
       "      <td>Mediano</td>\n",
       "      <td>0</td>\n",
       "    </tr>\n",
       "    <tr>\n",
       "      <th>5</th>\n",
       "      <td>143</td>\n",
       "      <td>0</td>\n",
       "      <td>Bajo</td>\n",
       "      <td>1</td>\n",
       "    </tr>\n",
       "    <tr>\n",
       "      <th>6</th>\n",
       "      <td>275</td>\n",
       "      <td>0</td>\n",
       "      <td>Mediano</td>\n",
       "      <td>1</td>\n",
       "    </tr>\n",
       "    <tr>\n",
       "      <th>7</th>\n",
       "      <td>134</td>\n",
       "      <td>1</td>\n",
       "      <td>Bajo</td>\n",
       "      <td>0</td>\n",
       "    </tr>\n",
       "    <tr>\n",
       "      <th>8</th>\n",
       "      <td>198</td>\n",
       "      <td>1</td>\n",
       "      <td>Bajo</td>\n",
       "      <td>0</td>\n",
       "    </tr>\n",
       "    <tr>\n",
       "      <th>9</th>\n",
       "      <td>209</td>\n",
       "      <td>1</td>\n",
       "      <td>Mediano</td>\n",
       "      <td>0</td>\n",
       "    </tr>\n",
       "  </tbody>\n",
       "</table>\n",
       "</div>"
      ],
      "text/plain": [
       "   Horas Mensuales  Promovido  Salario  Renuncio\n",
       "0              239          0     Alto         0\n",
       "1              149          0     Bajo         1\n",
       "2              160          0     Bajo         1\n",
       "3              145          0     Bajo         1\n",
       "4              249          0  Mediano         0\n",
       "5              143          0     Bajo         1\n",
       "6              275          0  Mediano         1\n",
       "7              134          1     Bajo         0\n",
       "8              198          1     Bajo         0\n",
       "9              209          1  Mediano         0"
      ]
     },
     "execution_count": 241,
     "metadata": {},
     "output_type": "execute_result"
    }
   ],
   "source": [
    "HR = pd.read_csv(\"HR.csv\")\n",
    "HR"
   ]
  },
  {
   "cell_type": "code",
   "execution_count": 242,
   "metadata": {
    "slideshow": {
     "slide_type": "subslide"
    }
   },
   "outputs": [
    {
     "data": {
      "text/html": [
       "<div>\n",
       "<style>\n",
       "    .dataframe thead tr:only-child th {\n",
       "        text-align: right;\n",
       "    }\n",
       "\n",
       "    .dataframe thead th {\n",
       "        text-align: left;\n",
       "    }\n",
       "\n",
       "    .dataframe tbody tr th {\n",
       "        vertical-align: top;\n",
       "    }\n",
       "</style>\n",
       "<table border=\"1\" class=\"dataframe\">\n",
       "  <thead>\n",
       "    <tr style=\"text-align: right;\">\n",
       "      <th></th>\n",
       "      <th>Horas Mensuales</th>\n",
       "      <th>Promovido</th>\n",
       "      <th>Salario</th>\n",
       "      <th>Renuncio</th>\n",
       "    </tr>\n",
       "  </thead>\n",
       "  <tbody>\n",
       "    <tr>\n",
       "      <th>0</th>\n",
       "      <td>239</td>\n",
       "      <td>0</td>\n",
       "      <td>Alto</td>\n",
       "      <td>0</td>\n",
       "    </tr>\n",
       "    <tr>\n",
       "      <th>1</th>\n",
       "      <td>149</td>\n",
       "      <td>0</td>\n",
       "      <td>Bajo</td>\n",
       "      <td>1</td>\n",
       "    </tr>\n",
       "    <tr>\n",
       "      <th>2</th>\n",
       "      <td>160</td>\n",
       "      <td>0</td>\n",
       "      <td>Bajo</td>\n",
       "      <td>1</td>\n",
       "    </tr>\n",
       "    <tr>\n",
       "      <th>3</th>\n",
       "      <td>145</td>\n",
       "      <td>0</td>\n",
       "      <td>Bajo</td>\n",
       "      <td>1</td>\n",
       "    </tr>\n",
       "    <tr>\n",
       "      <th>4</th>\n",
       "      <td>249</td>\n",
       "      <td>0</td>\n",
       "      <td>Mediano</td>\n",
       "      <td>0</td>\n",
       "    </tr>\n",
       "    <tr>\n",
       "      <th>5</th>\n",
       "      <td>143</td>\n",
       "      <td>0</td>\n",
       "      <td>Bajo</td>\n",
       "      <td>1</td>\n",
       "    </tr>\n",
       "    <tr>\n",
       "      <th>6</th>\n",
       "      <td>275</td>\n",
       "      <td>0</td>\n",
       "      <td>Mediano</td>\n",
       "      <td>1</td>\n",
       "    </tr>\n",
       "  </tbody>\n",
       "</table>\n",
       "</div>"
      ],
      "text/plain": [
       "   Horas Mensuales  Promovido  Salario  Renuncio\n",
       "0              239          0     Alto         0\n",
       "1              149          0     Bajo         1\n",
       "2              160          0     Bajo         1\n",
       "3              145          0     Bajo         1\n",
       "4              249          0  Mediano         0\n",
       "5              143          0     Bajo         1\n",
       "6              275          0  Mediano         1"
      ]
     },
     "execution_count": 242,
     "metadata": {},
     "output_type": "execute_result"
    }
   ],
   "source": [
    "Promovidos = HR.loc[HR.Promovido == 1]\n",
    "No_Promovidos = HR.loc[HR.Promovido == 0]\n",
    "No_Promovidos"
   ]
  },
  {
   "cell_type": "code",
   "execution_count": 243,
   "metadata": {
    "slideshow": {
     "slide_type": "subslide"
    }
   },
   "outputs": [
    {
     "data": {
      "text/plain": [
       "0.7142857142857143"
      ]
     },
     "execution_count": 243,
     "metadata": {},
     "output_type": "execute_result"
    }
   ],
   "source": [
    "def Proporciones(total_clase,total_filas):\n",
    "    return (total_clase/total_filas)[-1] \n",
    "\n",
    "Promovidos_Renunciaron = Proporciones(Promovidos.loc[Promovidos.Renuncio == 1].count(),Promovidos.count())\n",
    "Promovidos_Quedaron = Proporciones(Promovidos.loc[Promovidos.Renuncio == 0].count(),Promovidos.count())\n",
    "No_Promovidos_Renunciaron = Proporciones(No_Promovidos.loc[No_Promovidos.Renuncio == 1].count(),No_Promovidos.count())\n",
    "No_Promovidos_Quedaron = Proporciones(No_Promovidos.loc[No_Promovidos.Renuncio == 0].count(),No_Promovidos.count())\n",
    "No_Promovidos_Renunciaron"
   ]
  },
  {
   "cell_type": "code",
   "execution_count": 244,
   "metadata": {
    "slideshow": {
     "slide_type": "subslide"
    }
   },
   "outputs": [
    {
     "data": {
      "text/plain": [
       "0.40816326530612246"
      ]
     },
     "execution_count": 244,
     "metadata": {},
     "output_type": "execute_result"
    }
   ],
   "source": [
    "def Calculo_Gini(proporciones):\n",
    "    return sum([(proporcion * (1 - proporcion)) for proporcion in proporciones])\n",
    "\n",
    "Calculo_Gini([Promovidos_Renunciaron,Promovidos_Quedaron,No_Promovidos_Renunciaron,No_Promovidos_Quedaron])"
   ]
  },
  {
   "cell_type": "markdown",
   "metadata": {
    "slideshow": {
     "slide_type": "slide"
    }
   },
   "source": [
    "### Para encontrar la mejor variable y limite de la misma,  calculamos el Gini para cada variable y para cada valor de la misma. Aquella combinación de variable y limite que obtenga el Gini minimo, sera considerada como la división de datos que nos dará la mejor hipotésis.\n",
    "\n",
    "<a id=\"decision\"></a>"
   ]
  },
  {
   "cell_type": "code",
   "execution_count": 245,
   "metadata": {
    "collapsed": true,
    "slideshow": {
     "slide_type": "skip"
    }
   },
   "outputs": [],
   "source": [
    "#Funcion para crear las proporciones y calcular el Gini de un solo fuetazo.\n",
    "def Gini(groups,class_values,target_name):\n",
    "    gini = 0.0\n",
    "    for value in class_values:\n",
    "        for group in groups:\n",
    "            group_size = group.shape[0]\n",
    "            split = group.loc[group[target_name] == value]\n",
    "            split_size = split.shape[0]\n",
    "            if split_size > 0:\n",
    "                proportion = split_size / group_size\n",
    "                gini += proportion * (1 - proportion)\n",
    "    return gini"
   ]
  },
  {
   "cell_type": "code",
   "execution_count": 246,
   "metadata": {
    "slideshow": {
     "slide_type": "skip"
    }
   },
   "outputs": [],
   "source": [
    "def Create_Split(data,split_column):\n",
    "    splits = []\n",
    "    \n",
    "    if data[split_column].dtype == object or len(data[split_column].unique()) <= 3:\n",
    "        #It's either a categorical column or a binary column.\n",
    "        values = data[split_column].unique()\n",
    "        if len(values) == 2:\n",
    "            values = [values[0]]\n",
    "        for value in values:\n",
    "            left_split = data.loc[data[split_column] == value]\n",
    "            right_split = data.loc[data[split_column]!= value]\n",
    "            split_name = split_column + \" = \" + str(value)\n",
    "            splits.append([left_split,right_split,split_name])\n",
    "    else:\n",
    "        #It's a numerical column.\n",
    "        summary = data[split_column].describe([.2,.4,.5,.6,.8])\n",
    "        values = np.asarray([summary[\"20%\"],summary[\"40%\"],summary[\"50%\"],summary[\"60%\"],summary[\"80%\"]])\n",
    "        #Make sure they are unique splits.\n",
    "        for value in np.unique(values):\n",
    "            left_split = data.loc[data[split_column] <= value]\n",
    "            right_split = data.loc[data[split_column] > value]\n",
    "            split_name = split_column + \" <= \" + str(value)\n",
    "            splits.append([left_split,right_split,split_name])\n",
    "    \n",
    "    return splits"
   ]
  },
  {
   "cell_type": "code",
   "execution_count": 247,
   "metadata": {
    "collapsed": true,
    "slideshow": {
     "slide_type": "subslide"
    }
   },
   "outputs": [],
   "source": [
    "def Get_Best_Column_Split(data,target,verbose = False):\n",
    "    temp = data.drop(target, axis = 1).copy()\n",
    "    best_gini = 1\n",
    "    best_split_condition = \"\"\n",
    "    best_split = {}\n",
    "    class_values = data[target].unique()\n",
    "    for column in temp.columns:\n",
    "        column_splits = Create_Split(data,column)\n",
    "        for split in column_splits:\n",
    "            \n",
    "            split_gini = Gini(split[0:2],class_values,target)\n",
    "            if verbose:\n",
    "                print(\"Splitting : \" + split[2] + \" Gini : \" + str(split_gini))\n",
    "            if split_gini < best_gini:\n",
    "                best_gini = split_gini\n",
    "                best_split_condition = split[2]\n",
    "                best_split[\"left\"] = split[0].drop(column,axis = 1)\n",
    "                best_split[\"right\"] = split[1].drop(column, axis = 1)\n",
    "                best_split[\"condition\"] = best_split_condition\n",
    "                \n",
    "    if verbose:\n",
    "        print(\"Mejor split: \" + best_split_condition + \" mejor Gini: \" + str(best_gini))\n",
    "    return best_split"
   ]
  },
  {
   "cell_type": "code",
   "execution_count": 248,
   "metadata": {
    "slideshow": {
     "slide_type": "subslide"
    }
   },
   "outputs": [
    {
     "name": "stdout",
     "output_type": "stream",
     "text": [
      "Splitting : Horas Mensuales <= 144.6 Gini : 1.0\n",
      "Splitting : Horas Mensuales <= 155.6 Gini : 0.8194444444444444\n",
      "Splitting : Horas Mensuales <= 179.0 Gini : 0.64\n",
      "Splitting : Horas Mensuales <= 202.4 Gini : 0.8194444444444444\n",
      "Splitting : Horas Mensuales <= 241.0 Gini : 1.0\n",
      "Splitting : Promovido = 0 Gini : 0.40816326530612246\n",
      "Splitting : Salario = Alto Gini : 0.49382716049382713\n",
      "Splitting : Salario = Bajo Gini : 0.8194444444444444\n",
      "Splitting : Salario = Mediano Gini : 0.9342403628117915\n",
      "Mejor split: Promovido = 0 mejor Gini: 0.40816326530612246\n"
     ]
    }
   ],
   "source": [
    "Mejor_Split = Get_Best_Column_Split(HR,\"Renuncio\",verbose = True)"
   ]
  },
  {
   "cell_type": "markdown",
   "metadata": {
    "slideshow": {
     "slide_type": "subslide"
    }
   },
   "source": [
    "### Luego de obtener la columna y limite que resulta con el,  tenemos una subdivisión de los datos.  Con las variables restantes podemos dividir los datos nuevamente y obtener otra subdivisión. De esta manera, podemos seguir subdividiendo los datos hasta crear un *Arbol de Decisión*. "
   ]
  },
  {
   "cell_type": "markdown",
   "metadata": {
    "slideshow": {
     "slide_type": "slide"
    }
   },
   "source": [
    "## Creación del Arbol\n",
    "\n",
    "### Para crear el arbol de decisión se deben tomar en cuenta 4 cosas:\n",
    "\n",
    "1. El arbol debe tener nodos que ya no se dividen. Estos son conocidos como nodos terminales, y representan las predicciones finales del arbol.\n",
    "2. El arbol debe dividirse a si mismo recursivamente. Esto es, encontrar la mejor división para cada división. \n",
    "3. Cada división debe tener un número minimo de datos.\n",
    "4. El arbol debe tener una cantidad de divisiones máxima (conocido como la profundidad del arbol).\n"
   ]
  },
  {
   "cell_type": "markdown",
   "metadata": {
    "slideshow": {
     "slide_type": "subslide"
    }
   },
   "source": [
    "### Nodo terminal\n",
    "\n",
    "### Para los nodos terminales, simplemente seleccionamos el valor más común  en los datos de la variable a predecir. Por ejemplo, si dividimos los datos por los empleados promovidos y no promovidos: \n"
   ]
  },
  {
   "cell_type": "code",
   "execution_count": 249,
   "metadata": {
    "slideshow": {
     "slide_type": "fragment"
    }
   },
   "outputs": [
    {
     "data": {
      "text/html": [
       "<div>\n",
       "<style>\n",
       "    .dataframe thead tr:only-child th {\n",
       "        text-align: right;\n",
       "    }\n",
       "\n",
       "    .dataframe thead th {\n",
       "        text-align: left;\n",
       "    }\n",
       "\n",
       "    .dataframe tbody tr th {\n",
       "        vertical-align: top;\n",
       "    }\n",
       "</style>\n",
       "<table border=\"1\" class=\"dataframe\">\n",
       "  <thead>\n",
       "    <tr style=\"text-align: right;\">\n",
       "      <th></th>\n",
       "      <th>Horas Mensuales</th>\n",
       "      <th>Salario</th>\n",
       "      <th>Renuncio</th>\n",
       "    </tr>\n",
       "  </thead>\n",
       "  <tbody>\n",
       "    <tr>\n",
       "      <th>0</th>\n",
       "      <td>239</td>\n",
       "      <td>Alto</td>\n",
       "      <td>0</td>\n",
       "    </tr>\n",
       "    <tr>\n",
       "      <th>1</th>\n",
       "      <td>149</td>\n",
       "      <td>Bajo</td>\n",
       "      <td>1</td>\n",
       "    </tr>\n",
       "    <tr>\n",
       "      <th>2</th>\n",
       "      <td>160</td>\n",
       "      <td>Bajo</td>\n",
       "      <td>1</td>\n",
       "    </tr>\n",
       "    <tr>\n",
       "      <th>3</th>\n",
       "      <td>145</td>\n",
       "      <td>Bajo</td>\n",
       "      <td>1</td>\n",
       "    </tr>\n",
       "    <tr>\n",
       "      <th>4</th>\n",
       "      <td>249</td>\n",
       "      <td>Mediano</td>\n",
       "      <td>0</td>\n",
       "    </tr>\n",
       "    <tr>\n",
       "      <th>5</th>\n",
       "      <td>143</td>\n",
       "      <td>Bajo</td>\n",
       "      <td>1</td>\n",
       "    </tr>\n",
       "    <tr>\n",
       "      <th>6</th>\n",
       "      <td>275</td>\n",
       "      <td>Mediano</td>\n",
       "      <td>1</td>\n",
       "    </tr>\n",
       "  </tbody>\n",
       "</table>\n",
       "</div>"
      ],
      "text/plain": [
       "   Horas Mensuales  Salario  Renuncio\n",
       "0              239     Alto         0\n",
       "1              149     Bajo         1\n",
       "2              160     Bajo         1\n",
       "3              145     Bajo         1\n",
       "4              249  Mediano         0\n",
       "5              143     Bajo         1\n",
       "6              275  Mediano         1"
      ]
     },
     "execution_count": 249,
     "metadata": {},
     "output_type": "execute_result"
    }
   ],
   "source": [
    "Mejor_Split[\"left\"]"
   ]
  },
  {
   "cell_type": "code",
   "execution_count": 250,
   "metadata": {
    "slideshow": {
     "slide_type": "fragment"
    }
   },
   "outputs": [
    {
     "data": {
      "text/html": [
       "<div>\n",
       "<style>\n",
       "    .dataframe thead tr:only-child th {\n",
       "        text-align: right;\n",
       "    }\n",
       "\n",
       "    .dataframe thead th {\n",
       "        text-align: left;\n",
       "    }\n",
       "\n",
       "    .dataframe tbody tr th {\n",
       "        vertical-align: top;\n",
       "    }\n",
       "</style>\n",
       "<table border=\"1\" class=\"dataframe\">\n",
       "  <thead>\n",
       "    <tr style=\"text-align: right;\">\n",
       "      <th></th>\n",
       "      <th>Horas Mensuales</th>\n",
       "      <th>Salario</th>\n",
       "      <th>Renuncio</th>\n",
       "    </tr>\n",
       "  </thead>\n",
       "  <tbody>\n",
       "    <tr>\n",
       "      <th>7</th>\n",
       "      <td>134</td>\n",
       "      <td>Bajo</td>\n",
       "      <td>0</td>\n",
       "    </tr>\n",
       "    <tr>\n",
       "      <th>8</th>\n",
       "      <td>198</td>\n",
       "      <td>Bajo</td>\n",
       "      <td>0</td>\n",
       "    </tr>\n",
       "    <tr>\n",
       "      <th>9</th>\n",
       "      <td>209</td>\n",
       "      <td>Mediano</td>\n",
       "      <td>0</td>\n",
       "    </tr>\n",
       "  </tbody>\n",
       "</table>\n",
       "</div>"
      ],
      "text/plain": [
       "   Horas Mensuales  Salario  Renuncio\n",
       "7              134     Bajo         0\n",
       "8              198     Bajo         0\n",
       "9              209  Mediano         0"
      ]
     },
     "execution_count": 250,
     "metadata": {},
     "output_type": "execute_result"
    }
   ],
   "source": [
    "Mejor_Split[\"right\"]"
   ]
  },
  {
   "cell_type": "markdown",
   "metadata": {
    "slideshow": {
     "slide_type": "fragment"
    }
   },
   "source": [
    "#### Vemos que la mayoria de los empleados renunciaron al no ser promovidos. Por ende, si solo esta decisión fuera nuestro arbol, prediciriamos que los empleados no promovidos renunciarán. Por otro lado, todos los empleados promovidos no renunciaron, por lo que si un empleado ha sido promovido, podemos asumir que no renunciará."
   ]
  },
  {
   "cell_type": "code",
   "execution_count": 251,
   "metadata": {
    "collapsed": true,
    "slideshow": {
     "slide_type": "subslide"
    }
   },
   "outputs": [],
   "source": [
    "def terminal_node(group,target):\n",
    "    outcomes = group[target].value_counts()\n",
    "    return outcomes.index[0]"
   ]
  },
  {
   "cell_type": "markdown",
   "metadata": {
    "slideshow": {
     "slide_type": "slide"
    }
   },
   "source": [
    "### Para la creación del arbol completo, nos basamos en un algoritmo *recursivo*. \n",
    "\n",
    "![title](https://www.cs.cmu.edu/~adamchik/15-121/lectures/Recursions/pix/fib.bmp)\n",
    "\n",
    "### Para cada división del arbol, creamos otro arbol en esa división. Seguimos creando sub arboles hasta que una división este vacia, una división no cumpla con el tamaño minimo, o lleguemos a la profundidad maxima establecida del arbol.  Cuando paremos de hacer crecer el arbol por una división, continuamos por la con el otro lado de la división anterior. Cuando en cada división y sub división se cumplan las condiciones de parar el crecimiento, el arbol esta finalizado."
   ]
  },
  {
   "cell_type": "code",
   "execution_count": 252,
   "metadata": {
    "slideshow": {
     "slide_type": "skip"
    }
   },
   "outputs": [],
   "source": [
    "def Split_Tree(split,cur_depth,min_size,target,max_depth=3,verbose = False):\n",
    "    left,right = split[\"left\"],split[\"right\"]\n",
    "    del split[\"left\"]\n",
    "    del split[\"right\"]\n",
    "    \n",
    "    \n",
    "    if  len(left) == 0 or  len(right) == 0:\n",
    "        split[\"left\"] = split[\"right\"] = terminal_node(left.append(right),target)\n",
    "        return\n",
    "    if cur_depth == max_depth:\n",
    "        split[\"left\"], split[\"right\"] = terminal_node(left,target), terminal_node(right,target)\n",
    "        return\n",
    "    #Calculate left\n",
    "    if len(left) <= min_size:\n",
    "        split[\"left\"] = terminal_node(left,target)\n",
    "    else:\n",
    "        split[\"left\"] = Get_Best_Column_Split(left,target,verbose = verbose)\n",
    "        Split_Tree(split[\"left\"],cur_depth + 1,min_size,target,max_depth,verbose = verbose)\n",
    "    \n",
    "    #Calculate right\n",
    "    if len(right) <= min_size:\n",
    "        split[\"right\"] = terminal_node(right,target)\n",
    "    else:\n",
    "        split[\"right\"] = Get_Best_Column_Split(right,target,verbose = verbose)\n",
    "        Split_Tree(split[\"right\"],cur_depth + 1,min_size,target,max_depth,verbose= verbose)"
   ]
  },
  {
   "cell_type": "code",
   "execution_count": 253,
   "metadata": {
    "collapsed": true,
    "slideshow": {
     "slide_type": "skip"
    }
   },
   "outputs": [],
   "source": [
    "def Crear_Arbol(data,target,max_depth= 3,min_size = 2,verbose = False):\n",
    "    root = Get_Best_Column_Split(data,target, verbose = verbose)\n",
    "    Split_Tree(root,1,min_size,target,max_depth,verbose = verbose)\n",
    "    return root\n",
    "\n",
    "\n",
    "def Imprimir_Arbol(Node, depth=0):\n",
    "    if isinstance(Node, dict):\n",
    "        print('{} {} : {} {}'.format(depth* ' ',depth, depth* ' ',Node['condition']))\n",
    "        Imprimir_Arbol(Node['left'], depth+1)\n",
    "        Imprimir_Arbol(Node['right'], depth+1)\n",
    "    else:\n",
    "        print('{} {} : {} {}'.format(depth* ' ',depth, depth * ' ',Node))"
   ]
  },
  {
   "cell_type": "markdown",
   "metadata": {
    "slideshow": {
     "slide_type": "slide"
    }
   },
   "source": [
    "### Podemos ver el resultado final de nuestro arbol para los datos de personas que renunciaron:"
   ]
  },
  {
   "cell_type": "code",
   "execution_count": 254,
   "metadata": {
    "slideshow": {
     "slide_type": "fragment"
    }
   },
   "outputs": [
    {
     "name": "stdout",
     "output_type": "stream",
     "text": [
      " 0 :  Promovido = 0\n",
      "  1 :   Salario = Alto\n",
      "   2 :    0\n",
      "   2 :    Horas Mensuales <= 249.0\n",
      "    3 :     1\n",
      "    3 :     1\n",
      "  1 :   Horas Mensuales = 134\n",
      "   2 :    0\n",
      "   2 :    0\n"
     ]
    }
   ],
   "source": [
    "root = Crear_Arbol(HR,target = \"Renuncio\")\n",
    "Imprimir_Arbol(root)"
   ]
  },
  {
   "cell_type": "markdown",
   "metadata": {
    "slideshow": {
     "slide_type": "slide"
    }
   },
   "source": [
    "### Pero para resultados visuales de mayor calidad, es mejor utilizar los aroles creados por una libreria."
   ]
  },
  {
   "cell_type": "code",
   "execution_count": 255,
   "metadata": {
    "slideshow": {
     "slide_type": "skip"
    }
   },
   "outputs": [
    {
     "data": {
      "text/plain": [
       "DecisionTreeClassifier(class_weight=None, criterion='gini', max_depth=None,\n",
       "            max_features=None, max_leaf_nodes=None,\n",
       "            min_impurity_split=1e-07, min_samples_leaf=1,\n",
       "            min_samples_split=2, min_weight_fraction_leaf=0.0,\n",
       "            presort=False, random_state=None, splitter='best')"
      ]
     },
     "execution_count": 255,
     "metadata": {},
     "output_type": "execute_result"
    }
   ],
   "source": [
    "from sklearn.tree import DecisionTreeClassifier\n",
    "from sklearn.preprocessing import LabelEncoder\n",
    "\n",
    "dtree = DecisionTreeClassifier()\n",
    "dtreeX = HR.copy()\n",
    "dtreeX.Salario = LabelEncoder().fit_transform(dtreeX.Salario)\n",
    "dtree.fit(dtreeX.drop(\"Renuncio\",axis = 1),dtreeX.Renuncio)"
   ]
  },
  {
   "cell_type": "code",
   "execution_count": 256,
   "metadata": {
    "slideshow": {
     "slide_type": "subslide"
    }
   },
   "outputs": [
    {
     "data": {
      "image/svg+xml": [
       "<?xml version=\"1.0\" encoding=\"UTF-8\" standalone=\"no\"?>\r\n",
       "<!DOCTYPE svg PUBLIC \"-//W3C//DTD SVG 1.1//EN\"\r\n",
       " \"http://www.w3.org/Graphics/SVG/1.1/DTD/svg11.dtd\">\r\n",
       "<!-- Generated by graphviz version 2.38.0 (20140413.2041)\r\n",
       " -->\r\n",
       "<!-- Title: Tree Pages: 1 -->\r\n",
       "<svg width=\"419pt\" height=\"373pt\"\r\n",
       " viewBox=\"0.00 0.00 418.50 373.00\" xmlns=\"http://www.w3.org/2000/svg\" xmlns:xlink=\"http://www.w3.org/1999/xlink\">\r\n",
       "<g id=\"graph0\" class=\"graph\" transform=\"scale(1 1) rotate(0) translate(4 369)\">\r\n",
       "<title>Tree</title>\r\n",
       "<polygon fill=\"white\" stroke=\"none\" points=\"-4,4 -4,-369 414.5,-369 414.5,4 -4,4\"/>\r\n",
       "<!-- 0 -->\r\n",
       "<g id=\"node1\" class=\"node\"><title>0</title>\r\n",
       "<path fill=\"none\" stroke=\"black\" d=\"M305.5,-365C305.5,-365 182.5,-365 182.5,-365 176.5,-365 170.5,-359 170.5,-353 170.5,-353 170.5,-309 170.5,-309 170.5,-303 176.5,-297 182.5,-297 182.5,-297 305.5,-297 305.5,-297 311.5,-297 317.5,-303 317.5,-309 317.5,-309 317.5,-353 317.5,-353 317.5,-359 311.5,-365 305.5,-365\"/>\r\n",
       "<text text-anchor=\"middle\" x=\"244\" y=\"-349.8\" font-family=\"Helvetica,sans-Serif\" font-size=\"14.00\">Promovido &lt;= 0.5</text>\r\n",
       "<text text-anchor=\"middle\" x=\"244\" y=\"-334.8\" font-family=\"Helvetica,sans-Serif\" font-size=\"14.00\">samples = 100.0%</text>\r\n",
       "<text text-anchor=\"middle\" x=\"244\" y=\"-319.8\" font-family=\"Helvetica,sans-Serif\" font-size=\"14.00\">value = [0.5, 0.5]</text>\r\n",
       "<text text-anchor=\"middle\" x=\"244\" y=\"-304.8\" font-family=\"Helvetica,sans-Serif\" font-size=\"14.00\">class = No Renuncio</text>\r\n",
       "</g>\r\n",
       "<!-- 1 -->\r\n",
       "<g id=\"node2\" class=\"node\"><title>1</title>\r\n",
       "<path fill=\"#399de5\" fill-opacity=\"0.600000\" stroke=\"black\" d=\"M233.5,-261C233.5,-261 70.5,-261 70.5,-261 64.5,-261 58.5,-255 58.5,-249 58.5,-249 58.5,-205 58.5,-205 58.5,-199 64.5,-193 70.5,-193 70.5,-193 233.5,-193 233.5,-193 239.5,-193 245.5,-199 245.5,-205 245.5,-205 245.5,-249 245.5,-249 245.5,-255 239.5,-261 233.5,-261\"/>\r\n",
       "<text text-anchor=\"middle\" x=\"152\" y=\"-245.8\" font-family=\"Helvetica,sans-Serif\" font-size=\"14.00\">Horas Mensuales &lt;= 199.5</text>\r\n",
       "<text text-anchor=\"middle\" x=\"152\" y=\"-230.8\" font-family=\"Helvetica,sans-Serif\" font-size=\"14.00\">samples = 70.0%</text>\r\n",
       "<text text-anchor=\"middle\" x=\"152\" y=\"-215.8\" font-family=\"Helvetica,sans-Serif\" font-size=\"14.00\">value = [0.29, 0.71]</text>\r\n",
       "<text text-anchor=\"middle\" x=\"152\" y=\"-200.8\" font-family=\"Helvetica,sans-Serif\" font-size=\"14.00\">class = Renuncio</text>\r\n",
       "</g>\r\n",
       "<!-- 0&#45;&gt;1 -->\r\n",
       "<g id=\"edge1\" class=\"edge\"><title>0&#45;&gt;1</title>\r\n",
       "<path fill=\"none\" stroke=\"black\" d=\"M214.13,-296.884C206.096,-287.976 197.31,-278.235 188.941,-268.957\"/>\r\n",
       "<polygon fill=\"black\" stroke=\"black\" points=\"191.331,-266.381 182.035,-261.299 186.133,-271.069 191.331,-266.381\"/>\r\n",
       "<text text-anchor=\"middle\" x=\"180.748\" y=\"-282.566\" font-family=\"Helvetica,sans-Serif\" font-size=\"14.00\">True</text>\r\n",
       "</g>\r\n",
       "<!-- 6 -->\r\n",
       "<g id=\"node7\" class=\"node\"><title>6</title>\r\n",
       "<path fill=\"#e58139\" stroke=\"black\" d=\"M398.5,-253.5C398.5,-253.5 275.5,-253.5 275.5,-253.5 269.5,-253.5 263.5,-247.5 263.5,-241.5 263.5,-241.5 263.5,-212.5 263.5,-212.5 263.5,-206.5 269.5,-200.5 275.5,-200.5 275.5,-200.5 398.5,-200.5 398.5,-200.5 404.5,-200.5 410.5,-206.5 410.5,-212.5 410.5,-212.5 410.5,-241.5 410.5,-241.5 410.5,-247.5 404.5,-253.5 398.5,-253.5\"/>\r\n",
       "<text text-anchor=\"middle\" x=\"337\" y=\"-238.3\" font-family=\"Helvetica,sans-Serif\" font-size=\"14.00\">samples = 30.0%</text>\r\n",
       "<text text-anchor=\"middle\" x=\"337\" y=\"-223.3\" font-family=\"Helvetica,sans-Serif\" font-size=\"14.00\">value = [1.0, 0.0]</text>\r\n",
       "<text text-anchor=\"middle\" x=\"337\" y=\"-208.3\" font-family=\"Helvetica,sans-Serif\" font-size=\"14.00\">class = No Renuncio</text>\r\n",
       "</g>\r\n",
       "<!-- 0&#45;&gt;6 -->\r\n",
       "<g id=\"edge6\" class=\"edge\"><title>0&#45;&gt;6</title>\r\n",
       "<path fill=\"none\" stroke=\"black\" d=\"M274.194,-296.884C284.623,-285.446 296.304,-272.634 306.738,-261.19\"/>\r\n",
       "<polygon fill=\"black\" stroke=\"black\" points=\"309.581,-263.268 313.732,-253.52 304.408,-258.551 309.581,-263.268\"/>\r\n",
       "<text text-anchor=\"middle\" x=\"314.884\" y=\"-274.793\" font-family=\"Helvetica,sans-Serif\" font-size=\"14.00\">False</text>\r\n",
       "</g>\r\n",
       "<!-- 2 -->\r\n",
       "<g id=\"node3\" class=\"node\"><title>2</title>\r\n",
       "<path fill=\"#399de5\" stroke=\"black\" d=\"M116,-149.5C116,-149.5 12,-149.5 12,-149.5 6,-149.5 0,-143.5 0,-137.5 0,-137.5 0,-108.5 0,-108.5 0,-102.5 6,-96.5 12,-96.5 12,-96.5 116,-96.5 116,-96.5 122,-96.5 128,-102.5 128,-108.5 128,-108.5 128,-137.5 128,-137.5 128,-143.5 122,-149.5 116,-149.5\"/>\r\n",
       "<text text-anchor=\"middle\" x=\"64\" y=\"-134.3\" font-family=\"Helvetica,sans-Serif\" font-size=\"14.00\">samples = 40.0%</text>\r\n",
       "<text text-anchor=\"middle\" x=\"64\" y=\"-119.3\" font-family=\"Helvetica,sans-Serif\" font-size=\"14.00\">value = [0.0, 1.0]</text>\r\n",
       "<text text-anchor=\"middle\" x=\"64\" y=\"-104.3\" font-family=\"Helvetica,sans-Serif\" font-size=\"14.00\">class = Renuncio</text>\r\n",
       "</g>\r\n",
       "<!-- 1&#45;&gt;2 -->\r\n",
       "<g id=\"edge2\" class=\"edge\"><title>1&#45;&gt;2</title>\r\n",
       "<path fill=\"none\" stroke=\"black\" d=\"M123.429,-192.884C113.561,-181.446 102.508,-168.634 92.6347,-157.19\"/>\r\n",
       "<polygon fill=\"black\" stroke=\"black\" points=\"95.1996,-154.805 86.0172,-149.52 89.8995,-159.378 95.1996,-154.805\"/>\r\n",
       "</g>\r\n",
       "<!-- 3 -->\r\n",
       "<g id=\"node4\" class=\"node\"><title>3</title>\r\n",
       "<path fill=\"#e58139\" fill-opacity=\"0.498039\" stroke=\"black\" d=\"M321.5,-157C321.5,-157 158.5,-157 158.5,-157 152.5,-157 146.5,-151 146.5,-145 146.5,-145 146.5,-101 146.5,-101 146.5,-95 152.5,-89 158.5,-89 158.5,-89 321.5,-89 321.5,-89 327.5,-89 333.5,-95 333.5,-101 333.5,-101 333.5,-145 333.5,-145 333.5,-151 327.5,-157 321.5,-157\"/>\r\n",
       "<text text-anchor=\"middle\" x=\"240\" y=\"-141.8\" font-family=\"Helvetica,sans-Serif\" font-size=\"14.00\">Horas Mensuales &lt;= 262.0</text>\r\n",
       "<text text-anchor=\"middle\" x=\"240\" y=\"-126.8\" font-family=\"Helvetica,sans-Serif\" font-size=\"14.00\">samples = 30.0%</text>\r\n",
       "<text text-anchor=\"middle\" x=\"240\" y=\"-111.8\" font-family=\"Helvetica,sans-Serif\" font-size=\"14.00\">value = [0.67, 0.33]</text>\r\n",
       "<text text-anchor=\"middle\" x=\"240\" y=\"-96.8\" font-family=\"Helvetica,sans-Serif\" font-size=\"14.00\">class = No Renuncio</text>\r\n",
       "</g>\r\n",
       "<!-- 1&#45;&gt;3 -->\r\n",
       "<g id=\"edge3\" class=\"edge\"><title>1&#45;&gt;3</title>\r\n",
       "<path fill=\"none\" stroke=\"black\" d=\"M180.571,-192.884C188.256,-183.976 196.66,-174.235 204.665,-164.957\"/>\r\n",
       "<polygon fill=\"black\" stroke=\"black\" points=\"207.389,-167.157 211.271,-157.299 202.089,-162.585 207.389,-167.157\"/>\r\n",
       "</g>\r\n",
       "<!-- 4 -->\r\n",
       "<g id=\"node5\" class=\"node\"><title>4</title>\r\n",
       "<path fill=\"#e58139\" stroke=\"black\" d=\"M223.5,-53C223.5,-53 100.5,-53 100.5,-53 94.5,-53 88.5,-47 88.5,-41 88.5,-41 88.5,-12 88.5,-12 88.5,-6 94.5,-0 100.5,-0 100.5,-0 223.5,-0 223.5,-0 229.5,-0 235.5,-6 235.5,-12 235.5,-12 235.5,-41 235.5,-41 235.5,-47 229.5,-53 223.5,-53\"/>\r\n",
       "<text text-anchor=\"middle\" x=\"162\" y=\"-37.8\" font-family=\"Helvetica,sans-Serif\" font-size=\"14.00\">samples = 20.0%</text>\r\n",
       "<text text-anchor=\"middle\" x=\"162\" y=\"-22.8\" font-family=\"Helvetica,sans-Serif\" font-size=\"14.00\">value = [1.0, 0.0]</text>\r\n",
       "<text text-anchor=\"middle\" x=\"162\" y=\"-7.8\" font-family=\"Helvetica,sans-Serif\" font-size=\"14.00\">class = No Renuncio</text>\r\n",
       "</g>\r\n",
       "<!-- 3&#45;&gt;4 -->\r\n",
       "<g id=\"edge4\" class=\"edge\"><title>3&#45;&gt;4</title>\r\n",
       "<path fill=\"none\" stroke=\"black\" d=\"M212.719,-88.9485C205.244,-79.892 197.136,-70.0682 189.64,-60.9875\"/>\r\n",
       "<polygon fill=\"black\" stroke=\"black\" points=\"192.308,-58.721 183.243,-53.2367 186.909,-63.1769 192.308,-58.721\"/>\r\n",
       "</g>\r\n",
       "<!-- 5 -->\r\n",
       "<g id=\"node6\" class=\"node\"><title>5</title>\r\n",
       "<path fill=\"#399de5\" stroke=\"black\" d=\"M370,-53C370,-53 266,-53 266,-53 260,-53 254,-47 254,-41 254,-41 254,-12 254,-12 254,-6 260,-0 266,-0 266,-0 370,-0 370,-0 376,-0 382,-6 382,-12 382,-12 382,-41 382,-41 382,-47 376,-53 370,-53\"/>\r\n",
       "<text text-anchor=\"middle\" x=\"318\" y=\"-37.8\" font-family=\"Helvetica,sans-Serif\" font-size=\"14.00\">samples = 10.0%</text>\r\n",
       "<text text-anchor=\"middle\" x=\"318\" y=\"-22.8\" font-family=\"Helvetica,sans-Serif\" font-size=\"14.00\">value = [0.0, 1.0]</text>\r\n",
       "<text text-anchor=\"middle\" x=\"318\" y=\"-7.8\" font-family=\"Helvetica,sans-Serif\" font-size=\"14.00\">class = Renuncio</text>\r\n",
       "</g>\r\n",
       "<!-- 3&#45;&gt;5 -->\r\n",
       "<g id=\"edge5\" class=\"edge\"><title>3&#45;&gt;5</title>\r\n",
       "<path fill=\"none\" stroke=\"black\" d=\"M267.281,-88.9485C274.756,-79.892 282.864,-70.0682 290.36,-60.9875\"/>\r\n",
       "<polygon fill=\"black\" stroke=\"black\" points=\"293.091,-63.1769 296.757,-53.2367 287.692,-58.721 293.091,-63.1769\"/>\r\n",
       "</g>\r\n",
       "</g>\r\n",
       "</svg>\r\n"
      ],
      "text/plain": [
       "<graphviz.files.Source at 0x1c75edd46d8>"
      ]
     },
     "execution_count": 256,
     "metadata": {},
     "output_type": "execute_result"
    }
   ],
   "source": [
    "from sklearn.tree import export_graphviz\n",
    "import graphviz\n",
    "export_graphviz(dtree.tree_,'HRTree.dot',feature_names = list(dtreeX.drop(\"Renuncio\",axis=1).columns),\n",
    "                class_names = ['No Renuncio','Renuncio'],proportion = True,\n",
    "                impurity = False,rounded = True,filled=True)\n",
    "\n",
    "with open(\"HRTree.dot\") as f:\n",
    "    dot_graph = f.read()\n",
    "graphviz.Source(dot_graph)"
   ]
  },
  {
   "cell_type": "markdown",
   "metadata": {
    "slideshow": {
     "slide_type": "slide"
    }
   },
   "source": [
    "# Aplicación 2: Sobrevivientes del Titanic. \n",
    "\n",
    "### Estas haciendo un estudio de los pasajeros del Titanic, y quieres ver que factores hacian  que un pasajero no fuera rescatado. Tienes varios datos sobre los pasajeros y si sobrevivieron o no. Decides elaborar un arbol de decisión para este problema.\n",
    "\n",
    "![title](http://thespiritscience.net/wp-content/uploads/2016/06/Titanic-sinking.jpg)\n",
    "<a id=\"titanic\"></a>"
   ]
  },
  {
   "cell_type": "markdown",
   "metadata": {
    "slideshow": {
     "slide_type": "skip"
    }
   },
   "source": [
    "### Primero, como siempre, le echamos un vistazo a los datos."
   ]
  },
  {
   "cell_type": "code",
   "execution_count": 257,
   "metadata": {
    "slideshow": {
     "slide_type": "skip"
    }
   },
   "outputs": [
    {
     "data": {
      "text/html": [
       "<div>\n",
       "<style>\n",
       "    .dataframe thead tr:only-child th {\n",
       "        text-align: right;\n",
       "    }\n",
       "\n",
       "    .dataframe thead th {\n",
       "        text-align: left;\n",
       "    }\n",
       "\n",
       "    .dataframe tbody tr th {\n",
       "        vertical-align: top;\n",
       "    }\n",
       "</style>\n",
       "<table border=\"1\" class=\"dataframe\">\n",
       "  <thead>\n",
       "    <tr style=\"text-align: right;\">\n",
       "      <th></th>\n",
       "      <th>Clase</th>\n",
       "      <th>Sexo</th>\n",
       "      <th>Edad</th>\n",
       "      <th>Hermanos/Parejas</th>\n",
       "      <th>Padres/hijos</th>\n",
       "      <th>Costo</th>\n",
       "      <th>Puerto</th>\n",
       "      <th>Sobrevivio</th>\n",
       "    </tr>\n",
       "  </thead>\n",
       "  <tbody>\n",
       "    <tr>\n",
       "      <th>0</th>\n",
       "      <td>3</td>\n",
       "      <td>male</td>\n",
       "      <td>22</td>\n",
       "      <td>1</td>\n",
       "      <td>0</td>\n",
       "      <td>7.2500</td>\n",
       "      <td>S</td>\n",
       "      <td>0</td>\n",
       "    </tr>\n",
       "    <tr>\n",
       "      <th>1</th>\n",
       "      <td>1</td>\n",
       "      <td>female</td>\n",
       "      <td>38</td>\n",
       "      <td>1</td>\n",
       "      <td>0</td>\n",
       "      <td>71.2833</td>\n",
       "      <td>C</td>\n",
       "      <td>1</td>\n",
       "    </tr>\n",
       "    <tr>\n",
       "      <th>2</th>\n",
       "      <td>3</td>\n",
       "      <td>female</td>\n",
       "      <td>26</td>\n",
       "      <td>0</td>\n",
       "      <td>0</td>\n",
       "      <td>7.9250</td>\n",
       "      <td>S</td>\n",
       "      <td>1</td>\n",
       "    </tr>\n",
       "    <tr>\n",
       "      <th>3</th>\n",
       "      <td>1</td>\n",
       "      <td>female</td>\n",
       "      <td>35</td>\n",
       "      <td>1</td>\n",
       "      <td>0</td>\n",
       "      <td>53.1000</td>\n",
       "      <td>S</td>\n",
       "      <td>1</td>\n",
       "    </tr>\n",
       "    <tr>\n",
       "      <th>4</th>\n",
       "      <td>3</td>\n",
       "      <td>male</td>\n",
       "      <td>35</td>\n",
       "      <td>0</td>\n",
       "      <td>0</td>\n",
       "      <td>8.0500</td>\n",
       "      <td>S</td>\n",
       "      <td>0</td>\n",
       "    </tr>\n",
       "    <tr>\n",
       "      <th>5</th>\n",
       "      <td>3</td>\n",
       "      <td>male</td>\n",
       "      <td>28</td>\n",
       "      <td>0</td>\n",
       "      <td>0</td>\n",
       "      <td>8.4583</td>\n",
       "      <td>Q</td>\n",
       "      <td>0</td>\n",
       "    </tr>\n",
       "    <tr>\n",
       "      <th>6</th>\n",
       "      <td>1</td>\n",
       "      <td>male</td>\n",
       "      <td>54</td>\n",
       "      <td>0</td>\n",
       "      <td>0</td>\n",
       "      <td>51.8625</td>\n",
       "      <td>S</td>\n",
       "      <td>0</td>\n",
       "    </tr>\n",
       "    <tr>\n",
       "      <th>7</th>\n",
       "      <td>3</td>\n",
       "      <td>male</td>\n",
       "      <td>2</td>\n",
       "      <td>3</td>\n",
       "      <td>1</td>\n",
       "      <td>21.0750</td>\n",
       "      <td>S</td>\n",
       "      <td>0</td>\n",
       "    </tr>\n",
       "    <tr>\n",
       "      <th>8</th>\n",
       "      <td>3</td>\n",
       "      <td>female</td>\n",
       "      <td>27</td>\n",
       "      <td>0</td>\n",
       "      <td>2</td>\n",
       "      <td>11.1333</td>\n",
       "      <td>S</td>\n",
       "      <td>1</td>\n",
       "    </tr>\n",
       "    <tr>\n",
       "      <th>9</th>\n",
       "      <td>2</td>\n",
       "      <td>female</td>\n",
       "      <td>14</td>\n",
       "      <td>1</td>\n",
       "      <td>0</td>\n",
       "      <td>30.0708</td>\n",
       "      <td>C</td>\n",
       "      <td>1</td>\n",
       "    </tr>\n",
       "  </tbody>\n",
       "</table>\n",
       "</div>"
      ],
      "text/plain": [
       "   Clase    Sexo  Edad  Hermanos/Parejas  Padres/hijos    Costo Puerto  \\\n",
       "0      3    male    22                 1             0   7.2500      S   \n",
       "1      1  female    38                 1             0  71.2833      C   \n",
       "2      3  female    26                 0             0   7.9250      S   \n",
       "3      1  female    35                 1             0  53.1000      S   \n",
       "4      3    male    35                 0             0   8.0500      S   \n",
       "5      3    male    28                 0             0   8.4583      Q   \n",
       "6      1    male    54                 0             0  51.8625      S   \n",
       "7      3    male     2                 3             1  21.0750      S   \n",
       "8      3  female    27                 0             2  11.1333      S   \n",
       "9      2  female    14                 1             0  30.0708      C   \n",
       "\n",
       "   Sobrevivio  \n",
       "0           0  \n",
       "1           1  \n",
       "2           1  \n",
       "3           1  \n",
       "4           0  \n",
       "5           0  \n",
       "6           0  \n",
       "7           0  \n",
       "8           1  \n",
       "9           1  "
      ]
     },
     "execution_count": 257,
     "metadata": {},
     "output_type": "execute_result"
    }
   ],
   "source": [
    "titanic = pd.read_csv('titanic_esp.csv')\n",
    "titanic.head(10)"
   ]
  },
  {
   "cell_type": "markdown",
   "metadata": {
    "slideshow": {
     "slide_type": "skip"
    }
   },
   "source": [
    "### Procedemos a crear el arbol."
   ]
  },
  {
   "cell_type": "code",
   "execution_count": 258,
   "metadata": {
    "slideshow": {
     "slide_type": "skip"
    }
   },
   "outputs": [
    {
     "name": "stdout",
     "output_type": "stream",
     "text": [
      " 0 :  Sexo = male\n",
      "  1 :   Puerto = Q\n",
      "   2 :    Clase = 1\n",
      "    3 :     0\n",
      "    3 :     0\n",
      "   2 :    Hermanos/Parejas <= 1.0\n",
      "    3 :     0\n",
      "    3 :     0\n",
      "  1 :   Costo <= 71.11332\n",
      "   2 :    Clase = 1\n",
      "    3 :     1\n",
      "    3 :     1\n",
      "   2 :    Clase = 1\n",
      "    3 :     1\n",
      "    3 :     1\n"
     ]
    }
   ],
   "source": [
    "titanic_root = Crear_Arbol(titanic,target = \"Sobrevivio\",max_depth=3)\n",
    "Imprimir_Arbol(titanic_root)"
   ]
  },
  {
   "cell_type": "markdown",
   "metadata": {
    "slideshow": {
     "slide_type": "skip"
    }
   },
   "source": [
    "### Vamos ahora a crear un metodo para recorrer el arbol, y crear predicciones basadas en el arbol creado."
   ]
  },
  {
   "cell_type": "code",
   "execution_count": 259,
   "metadata": {
    "collapsed": true,
    "slideshow": {
     "slide_type": "skip"
    }
   },
   "outputs": [],
   "source": [
    "def Parse_Value(value):\n",
    "    #Metodo para convertir los string  en valores.\n",
    "    if \".\" in value:\n",
    "        return float(value)\n",
    "    try:\n",
    "        return int(value)\n",
    "    except:\n",
    "        return value\n",
    "\n",
    "def Predict(Node,row):\n",
    "    #Recorre el arbol hasta llegar a una predicción, traversando el arbol de decisión.\n",
    "    if isinstance(Node,dict):\n",
    "        condition = Node['condition'].split()\n",
    "        column = condition[0]\n",
    "        comparison = condition[1]\n",
    "        value = Parse_Value(condition[2])\n",
    "        \n",
    "        if comparison == \"=\":\n",
    "            if row[column] == value:\n",
    "                return Predict(Node['left'],row)\n",
    "            else:\n",
    "                return Predict(Node['right'],row)\n",
    "        else:\n",
    "            if row[column] <= value:\n",
    "                return Predict(Node['left'],row)\n",
    "            else:\n",
    "                return Predict(Node['right'],row)\n",
    "        \n",
    "    else:\n",
    "        return Node\n",
    "    \n",
    "def Test(sample,tree,target, verbose = True):\n",
    "    #Metodo para evaluar el arbol.\n",
    "    total = 0\n",
    "    for index,row in sample.iterrows():\n",
    "        real = row[target]\n",
    "        prediction = Predict(tree,row)\n",
    "        if verbose:\n",
    "            print(\"Esperado: \" + str(real) + \" Predicción: \" + str(prediction))\n",
    "        total += real == prediction\n",
    "    accuracy = total/len(sample)\n",
    "    if verbose:\n",
    "        print(\"Accuracy = {}%\".format(round(accuracy*100,2)))\n",
    "    return accuracy"
   ]
  },
  {
   "cell_type": "markdown",
   "metadata": {
    "slideshow": {
     "slide_type": "skip"
    }
   },
   "source": [
    "### ¿Cómo cambia el arbol  según cambiamos la profundidad maxima?"
   ]
  },
  {
   "cell_type": "code",
   "execution_count": 260,
   "metadata": {
    "slideshow": {
     "slide_type": "skip"
    }
   },
   "outputs": [
    {
     "name": "stdout",
     "output_type": "stream",
     "text": [
      " 0 :  Sexo = female\n",
      "  1 :   Costo <= 70.13\n",
      "   2 :    Clase = 1\n",
      "    3 :     1\n",
      "    3 :     1\n",
      "   2 :    Clase = 1\n",
      "    3 :     1\n",
      "    3 :     1\n",
      "  1 :   Costo <= 7.775\n",
      "   2 :    Padres/hijos = 0\n",
      "    3 :     0\n",
      "    3 :     0\n",
      "   2 :    Puerto = Q\n",
      "    3 :     0\n",
      "    3 :     0\n"
     ]
    }
   ],
   "source": [
    "Xtrain,Xtest,ytrain,ytest = train_test_split(titanic.drop('Sobrevivio',axis = 1),titanic['Sobrevivio'],\n",
    "                                             test_size = 0.4,random_state = 777)\n",
    "Xtrain['Sobrevivio'] =  ytrain\n",
    "train_root = Crear_Arbol(Xtrain,target = \"Sobrevivio\",max_depth=3)\n",
    "Imprimir_Arbol(train_root)"
   ]
  },
  {
   "cell_type": "code",
   "execution_count": 261,
   "metadata": {
    "slideshow": {
     "slide_type": "skip"
    }
   },
   "outputs": [
    {
     "data": {
      "text/plain": [
       "0.7675070028011205"
      ]
     },
     "execution_count": 261,
     "metadata": {},
     "output_type": "execute_result"
    }
   ],
   "source": [
    "Xtest['Sobrevivio'] = ytest\n",
    "Test(Xtrain,train_root,'Sobrevivio',verbose = False)\n",
    "Test(Xtest,train_root,'Sobrevivio',verbose = False)"
   ]
  },
  {
   "cell_type": "markdown",
   "metadata": {
    "slideshow": {
     "slide_type": "skip"
    }
   },
   "source": [
    "### Lo comparamos con aquel creado por la libreria."
   ]
  },
  {
   "cell_type": "code",
   "execution_count": 262,
   "metadata": {
    "slideshow": {
     "slide_type": "skip"
    }
   },
   "outputs": [
    {
     "data": {
      "text/plain": [
       "0.79831932773109249"
      ]
     },
     "execution_count": 262,
     "metadata": {},
     "output_type": "execute_result"
    }
   ],
   "source": [
    "titanic_lib = pd.read_csv('titanic_friendly.csv')\n",
    "titanic_tree = DecisionTreeClassifier(max_depth = 3)\n",
    "Xtrain,Xtest,ytrain,ytest = train_test_split(titanic_lib.drop('Sobrevivio',axis = 1),titanic_lib['Sobrevivio'],\n",
    "                                             test_size = 0.4,random_state = 777)\n",
    "titanic_tree.fit(Xtrain,ytrain)\n",
    "titanic_tree.score(Xtest,ytest)"
   ]
  },
  {
   "cell_type": "code",
   "execution_count": 263,
   "metadata": {
    "slideshow": {
     "slide_type": "skip"
    }
   },
   "outputs": [
    {
     "data": {
      "image/svg+xml": [
       "<?xml version=\"1.0\" encoding=\"UTF-8\" standalone=\"no\"?>\r\n",
       "<!DOCTYPE svg PUBLIC \"-//W3C//DTD SVG 1.1//EN\"\r\n",
       " \"http://www.w3.org/Graphics/SVG/1.1/DTD/svg11.dtd\">\r\n",
       "<!-- Generated by graphviz version 2.38.0 (20140413.2041)\r\n",
       " -->\r\n",
       "<!-- Title: Tree Pages: 1 -->\r\n",
       "<svg width=\"1290pt\" height=\"373pt\"\r\n",
       " viewBox=\"0.00 0.00 1289.50 373.00\" xmlns=\"http://www.w3.org/2000/svg\" xmlns:xlink=\"http://www.w3.org/1999/xlink\">\r\n",
       "<g id=\"graph0\" class=\"graph\" transform=\"scale(1 1) rotate(0) translate(4 369)\">\r\n",
       "<title>Tree</title>\r\n",
       "<polygon fill=\"white\" stroke=\"none\" points=\"-4,4 -4,-369 1285.5,-369 1285.5,4 -4,4\"/>\r\n",
       "<!-- 0 -->\r\n",
       "<g id=\"node1\" class=\"node\"><title>0</title>\r\n",
       "<path fill=\"#e58139\" fill-opacity=\"0.431373\" stroke=\"black\" d=\"M683.5,-365C683.5,-365 553.5,-365 553.5,-365 547.5,-365 541.5,-359 541.5,-353 541.5,-353 541.5,-309 541.5,-309 541.5,-303 547.5,-297 553.5,-297 553.5,-297 683.5,-297 683.5,-297 689.5,-297 695.5,-303 695.5,-309 695.5,-309 695.5,-353 695.5,-353 695.5,-359 689.5,-365 683.5,-365\"/>\r\n",
       "<text text-anchor=\"middle\" x=\"618.5\" y=\"-349.8\" font-family=\"Helvetica,sans-Serif\" font-size=\"14.00\">Sexo &lt;= 0.5</text>\r\n",
       "<text text-anchor=\"middle\" x=\"618.5\" y=\"-334.8\" font-family=\"Helvetica,sans-Serif\" font-size=\"14.00\">samples = 100.0%</text>\r\n",
       "<text text-anchor=\"middle\" x=\"618.5\" y=\"-319.8\" font-family=\"Helvetica,sans-Serif\" font-size=\"14.00\">value = [0.64, 0.36]</text>\r\n",
       "<text text-anchor=\"middle\" x=\"618.5\" y=\"-304.8\" font-family=\"Helvetica,sans-Serif\" font-size=\"14.00\">class = No Sobrevivio</text>\r\n",
       "</g>\r\n",
       "<!-- 1 -->\r\n",
       "<g id=\"node2\" class=\"node\"><title>1</title>\r\n",
       "<path fill=\"#399de5\" fill-opacity=\"0.654902\" stroke=\"black\" d=\"M551,-261C551,-261 438,-261 438,-261 432,-261 426,-255 426,-249 426,-249 426,-205 426,-205 426,-199 432,-193 438,-193 438,-193 551,-193 551,-193 557,-193 563,-199 563,-205 563,-205 563,-249 563,-249 563,-255 557,-261 551,-261\"/>\r\n",
       "<text text-anchor=\"middle\" x=\"494.5\" y=\"-245.8\" font-family=\"Helvetica,sans-Serif\" font-size=\"14.00\">Clase &lt;= 2.5</text>\r\n",
       "<text text-anchor=\"middle\" x=\"494.5\" y=\"-230.8\" font-family=\"Helvetica,sans-Serif\" font-size=\"14.00\">samples = 33.5%</text>\r\n",
       "<text text-anchor=\"middle\" x=\"494.5\" y=\"-215.8\" font-family=\"Helvetica,sans-Serif\" font-size=\"14.00\">value = [0.26, 0.74]</text>\r\n",
       "<text text-anchor=\"middle\" x=\"494.5\" y=\"-200.8\" font-family=\"Helvetica,sans-Serif\" font-size=\"14.00\">class = Sobrevivio</text>\r\n",
       "</g>\r\n",
       "<!-- 0&#45;&gt;1 -->\r\n",
       "<g id=\"edge1\" class=\"edge\"><title>0&#45;&gt;1</title>\r\n",
       "<path fill=\"none\" stroke=\"black\" d=\"M578.241,-296.884C566.979,-287.62 554.622,-277.455 542.94,-267.845\"/>\r\n",
       "<polygon fill=\"black\" stroke=\"black\" points=\"544.928,-264.949 534.982,-261.299 540.481,-270.355 544.928,-264.949\"/>\r\n",
       "<text text-anchor=\"middle\" x=\"537.404\" y=\"-282.482\" font-family=\"Helvetica,sans-Serif\" font-size=\"14.00\">True</text>\r\n",
       "</g>\r\n",
       "<!-- 8 -->\r\n",
       "<g id=\"node9\" class=\"node\"><title>8</title>\r\n",
       "<path fill=\"#e58139\" fill-opacity=\"0.792157\" stroke=\"black\" d=\"M808.5,-261C808.5,-261 678.5,-261 678.5,-261 672.5,-261 666.5,-255 666.5,-249 666.5,-249 666.5,-205 666.5,-205 666.5,-199 672.5,-193 678.5,-193 678.5,-193 808.5,-193 808.5,-193 814.5,-193 820.5,-199 820.5,-205 820.5,-205 820.5,-249 820.5,-249 820.5,-255 814.5,-261 808.5,-261\"/>\r\n",
       "<text text-anchor=\"middle\" x=\"743.5\" y=\"-245.8\" font-family=\"Helvetica,sans-Serif\" font-size=\"14.00\">Edad &lt;= 13.0</text>\r\n",
       "<text text-anchor=\"middle\" x=\"743.5\" y=\"-230.8\" font-family=\"Helvetica,sans-Serif\" font-size=\"14.00\">samples = 66.5%</text>\r\n",
       "<text text-anchor=\"middle\" x=\"743.5\" y=\"-215.8\" font-family=\"Helvetica,sans-Serif\" font-size=\"14.00\">value = [0.83, 0.17]</text>\r\n",
       "<text text-anchor=\"middle\" x=\"743.5\" y=\"-200.8\" font-family=\"Helvetica,sans-Serif\" font-size=\"14.00\">class = No Sobrevivio</text>\r\n",
       "</g>\r\n",
       "<!-- 0&#45;&gt;8 -->\r\n",
       "<g id=\"edge8\" class=\"edge\"><title>0&#45;&gt;8</title>\r\n",
       "<path fill=\"none\" stroke=\"black\" d=\"M659.084,-296.884C670.436,-287.62 682.894,-277.455 694.67,-267.845\"/>\r\n",
       "<polygon fill=\"black\" stroke=\"black\" points=\"697.157,-270.333 702.692,-261.299 692.731,-264.91 697.157,-270.333\"/>\r\n",
       "<text text-anchor=\"middle\" x=\"700.172\" y=\"-282.472\" font-family=\"Helvetica,sans-Serif\" font-size=\"14.00\">False</text>\r\n",
       "</g>\r\n",
       "<!-- 2 -->\r\n",
       "<g id=\"node3\" class=\"node\"><title>2</title>\r\n",
       "<path fill=\"#399de5\" fill-opacity=\"0.956863\" stroke=\"black\" d=\"M278,-157C278,-157 165,-157 165,-157 159,-157 153,-151 153,-145 153,-145 153,-101 153,-101 153,-95 159,-89 165,-89 165,-89 278,-89 278,-89 284,-89 290,-95 290,-101 290,-101 290,-145 290,-145 290,-151 284,-157 278,-157\"/>\r\n",
       "<text text-anchor=\"middle\" x=\"221.5\" y=\"-141.8\" font-family=\"Helvetica,sans-Serif\" font-size=\"14.00\">Costo &lt;= 26.125</text>\r\n",
       "<text text-anchor=\"middle\" x=\"221.5\" y=\"-126.8\" font-family=\"Helvetica,sans-Serif\" font-size=\"14.00\">samples = 18.7%</text>\r\n",
       "<text text-anchor=\"middle\" x=\"221.5\" y=\"-111.8\" font-family=\"Helvetica,sans-Serif\" font-size=\"14.00\">value = [0.04, 0.96]</text>\r\n",
       "<text text-anchor=\"middle\" x=\"221.5\" y=\"-96.8\" font-family=\"Helvetica,sans-Serif\" font-size=\"14.00\">class = Sobrevivio</text>\r\n",
       "</g>\r\n",
       "<!-- 1&#45;&gt;2 -->\r\n",
       "<g id=\"edge2\" class=\"edge\"><title>1&#45;&gt;2</title>\r\n",
       "<path fill=\"none\" stroke=\"black\" d=\"M425.963,-200.393C387.506,-186.024 339.387,-168.046 299.492,-153.14\"/>\r\n",
       "<polygon fill=\"black\" stroke=\"black\" points=\"300.658,-149.839 290.065,-149.618 298.208,-156.396 300.658,-149.839\"/>\r\n",
       "</g>\r\n",
       "<!-- 5 -->\r\n",
       "<g id=\"node6\" class=\"node\"><title>5</title>\r\n",
       "<path fill=\"#e58139\" fill-opacity=\"0.117647\" stroke=\"black\" d=\"M559.5,-157C559.5,-157 429.5,-157 429.5,-157 423.5,-157 417.5,-151 417.5,-145 417.5,-145 417.5,-101 417.5,-101 417.5,-95 423.5,-89 429.5,-89 429.5,-89 559.5,-89 559.5,-89 565.5,-89 571.5,-95 571.5,-101 571.5,-101 571.5,-145 571.5,-145 571.5,-151 565.5,-157 559.5,-157\"/>\r\n",
       "<text text-anchor=\"middle\" x=\"494.5\" y=\"-141.8\" font-family=\"Helvetica,sans-Serif\" font-size=\"14.00\">Puerto S &lt;= 0.5</text>\r\n",
       "<text text-anchor=\"middle\" x=\"494.5\" y=\"-126.8\" font-family=\"Helvetica,sans-Serif\" font-size=\"14.00\">samples = 14.8%</text>\r\n",
       "<text text-anchor=\"middle\" x=\"494.5\" y=\"-111.8\" font-family=\"Helvetica,sans-Serif\" font-size=\"14.00\">value = [0.53, 0.47]</text>\r\n",
       "<text text-anchor=\"middle\" x=\"494.5\" y=\"-96.8\" font-family=\"Helvetica,sans-Serif\" font-size=\"14.00\">class = No Sobrevivio</text>\r\n",
       "</g>\r\n",
       "<!-- 1&#45;&gt;5 -->\r\n",
       "<g id=\"edge5\" class=\"edge\"><title>1&#45;&gt;5</title>\r\n",
       "<path fill=\"none\" stroke=\"black\" d=\"M494.5,-192.884C494.5,-184.778 494.5,-175.982 494.5,-167.472\"/>\r\n",
       "<polygon fill=\"black\" stroke=\"black\" points=\"498,-167.299 494.5,-157.299 491,-167.299 498,-167.299\"/>\r\n",
       "</g>\r\n",
       "<!-- 3 -->\r\n",
       "<g id=\"node4\" class=\"node\"><title>3</title>\r\n",
       "<path fill=\"#399de5\" fill-opacity=\"0.874510\" stroke=\"black\" d=\"M125,-53C125,-53 12,-53 12,-53 6,-53 0,-47 0,-41 0,-41 0,-12 0,-12 0,-6 6,-0 12,-0 12,-0 125,-0 125,-0 131,-0 137,-6 137,-12 137,-12 137,-41 137,-41 137,-47 131,-53 125,-53\"/>\r\n",
       "<text text-anchor=\"middle\" x=\"68.5\" y=\"-37.8\" font-family=\"Helvetica,sans-Serif\" font-size=\"14.00\">samples = 6.7%</text>\r\n",
       "<text text-anchor=\"middle\" x=\"68.5\" y=\"-22.8\" font-family=\"Helvetica,sans-Serif\" font-size=\"14.00\">value = [0.11, 0.89]</text>\r\n",
       "<text text-anchor=\"middle\" x=\"68.5\" y=\"-7.8\" font-family=\"Helvetica,sans-Serif\" font-size=\"14.00\">class = Sobrevivio</text>\r\n",
       "</g>\r\n",
       "<!-- 2&#45;&gt;3 -->\r\n",
       "<g id=\"edge3\" class=\"edge\"><title>2&#45;&gt;3</title>\r\n",
       "<path fill=\"none\" stroke=\"black\" d=\"M167.988,-88.9485C151.992,-79.0686 134.518,-68.2758 118.74,-58.5305\"/>\r\n",
       "<polygon fill=\"black\" stroke=\"black\" points=\"120.516,-55.5139 110.169,-53.2367 116.838,-61.4695 120.516,-55.5139\"/>\r\n",
       "</g>\r\n",
       "<!-- 4 -->\r\n",
       "<g id=\"node5\" class=\"node\"><title>4</title>\r\n",
       "<path fill=\"#399de5\" stroke=\"black\" d=\"M275.5,-53C275.5,-53 167.5,-53 167.5,-53 161.5,-53 155.5,-47 155.5,-41 155.5,-41 155.5,-12 155.5,-12 155.5,-6 161.5,-0 167.5,-0 167.5,-0 275.5,-0 275.5,-0 281.5,-0 287.5,-6 287.5,-12 287.5,-12 287.5,-41 287.5,-41 287.5,-47 281.5,-53 275.5,-53\"/>\r\n",
       "<text text-anchor=\"middle\" x=\"221.5\" y=\"-37.8\" font-family=\"Helvetica,sans-Serif\" font-size=\"14.00\">samples = 12.0%</text>\r\n",
       "<text text-anchor=\"middle\" x=\"221.5\" y=\"-22.8\" font-family=\"Helvetica,sans-Serif\" font-size=\"14.00\">value = [0.0, 1.0]</text>\r\n",
       "<text text-anchor=\"middle\" x=\"221.5\" y=\"-7.8\" font-family=\"Helvetica,sans-Serif\" font-size=\"14.00\">class = Sobrevivio</text>\r\n",
       "</g>\r\n",
       "<!-- 2&#45;&gt;4 -->\r\n",
       "<g id=\"edge4\" class=\"edge\"><title>2&#45;&gt;4</title>\r\n",
       "<path fill=\"none\" stroke=\"black\" d=\"M221.5,-88.9485C221.5,-80.7153 221.5,-71.848 221.5,-63.4814\"/>\r\n",
       "<polygon fill=\"black\" stroke=\"black\" points=\"225,-63.2367 221.5,-53.2367 218,-63.2367 225,-63.2367\"/>\r\n",
       "</g>\r\n",
       "<!-- 6 -->\r\n",
       "<g id=\"node7\" class=\"node\"><title>6</title>\r\n",
       "<path fill=\"#399de5\" fill-opacity=\"0.525490\" stroke=\"black\" d=\"M431,-53C431,-53 318,-53 318,-53 312,-53 306,-47 306,-41 306,-41 306,-12 306,-12 306,-6 312,-0 318,-0 318,-0 431,-0 431,-0 437,-0 443,-6 443,-12 443,-12 443,-41 443,-41 443,-47 437,-53 431,-53\"/>\r\n",
       "<text text-anchor=\"middle\" x=\"374.5\" y=\"-37.8\" font-family=\"Helvetica,sans-Serif\" font-size=\"14.00\">samples = 5.8%</text>\r\n",
       "<text text-anchor=\"middle\" x=\"374.5\" y=\"-22.8\" font-family=\"Helvetica,sans-Serif\" font-size=\"14.00\">value = [0.32, 0.68]</text>\r\n",
       "<text text-anchor=\"middle\" x=\"374.5\" y=\"-7.8\" font-family=\"Helvetica,sans-Serif\" font-size=\"14.00\">class = Sobrevivio</text>\r\n",
       "</g>\r\n",
       "<!-- 5&#45;&gt;6 -->\r\n",
       "<g id=\"edge6\" class=\"edge\"><title>5&#45;&gt;6</title>\r\n",
       "<path fill=\"none\" stroke=\"black\" d=\"M452.53,-88.9485C440.449,-79.4346 427.292,-69.074 415.284,-59.6175\"/>\r\n",
       "<polygon fill=\"black\" stroke=\"black\" points=\"417.203,-56.6739 407.182,-53.2367 412.872,-62.1734 417.203,-56.6739\"/>\r\n",
       "</g>\r\n",
       "<!-- 7 -->\r\n",
       "<g id=\"node8\" class=\"node\"><title>7</title>\r\n",
       "<path fill=\"#e58139\" fill-opacity=\"0.498039\" stroke=\"black\" d=\"M603.5,-53C603.5,-53 473.5,-53 473.5,-53 467.5,-53 461.5,-47 461.5,-41 461.5,-41 461.5,-12 461.5,-12 461.5,-6 467.5,-0 473.5,-0 473.5,-0 603.5,-0 603.5,-0 609.5,-0 615.5,-6 615.5,-12 615.5,-12 615.5,-41 615.5,-41 615.5,-47 609.5,-53 603.5,-53\"/>\r\n",
       "<text text-anchor=\"middle\" x=\"538.5\" y=\"-37.8\" font-family=\"Helvetica,sans-Serif\" font-size=\"14.00\">samples = 9.0%</text>\r\n",
       "<text text-anchor=\"middle\" x=\"538.5\" y=\"-22.8\" font-family=\"Helvetica,sans-Serif\" font-size=\"14.00\">value = [0.67, 0.33]</text>\r\n",
       "<text text-anchor=\"middle\" x=\"538.5\" y=\"-7.8\" font-family=\"Helvetica,sans-Serif\" font-size=\"14.00\">class = No Sobrevivio</text>\r\n",
       "</g>\r\n",
       "<!-- 5&#45;&gt;7 -->\r\n",
       "<g id=\"edge7\" class=\"edge\"><title>5&#45;&gt;7</title>\r\n",
       "<path fill=\"none\" stroke=\"black\" d=\"M509.889,-88.9485C513.893,-80.3494 518.219,-71.0586 522.265,-62.3689\"/>\r\n",
       "<polygon fill=\"black\" stroke=\"black\" points=\"525.469,-63.7796 526.517,-53.2367 519.123,-60.8249 525.469,-63.7796\"/>\r\n",
       "</g>\r\n",
       "<!-- 9 -->\r\n",
       "<g id=\"node10\" class=\"node\"><title>9</title>\r\n",
       "<path fill=\"#399de5\" fill-opacity=\"0.333333\" stroke=\"black\" d=\"M820.5,-157C820.5,-157 666.5,-157 666.5,-157 660.5,-157 654.5,-151 654.5,-145 654.5,-145 654.5,-101 654.5,-101 654.5,-95 660.5,-89 666.5,-89 666.5,-89 820.5,-89 820.5,-89 826.5,-89 832.5,-95 832.5,-101 832.5,-101 832.5,-145 832.5,-145 832.5,-151 826.5,-157 820.5,-157\"/>\r\n",
       "<text text-anchor=\"middle\" x=\"743.5\" y=\"-141.8\" font-family=\"Helvetica,sans-Serif\" font-size=\"14.00\">Hermanos/Parejas &lt;= 2.5</text>\r\n",
       "<text text-anchor=\"middle\" x=\"743.5\" y=\"-126.8\" font-family=\"Helvetica,sans-Serif\" font-size=\"14.00\">samples = 4.7%</text>\r\n",
       "<text text-anchor=\"middle\" x=\"743.5\" y=\"-111.8\" font-family=\"Helvetica,sans-Serif\" font-size=\"14.00\">value = [0.4, 0.6]</text>\r\n",
       "<text text-anchor=\"middle\" x=\"743.5\" y=\"-96.8\" font-family=\"Helvetica,sans-Serif\" font-size=\"14.00\">class = Sobrevivio</text>\r\n",
       "</g>\r\n",
       "<!-- 8&#45;&gt;9 -->\r\n",
       "<g id=\"edge9\" class=\"edge\"><title>8&#45;&gt;9</title>\r\n",
       "<path fill=\"none\" stroke=\"black\" d=\"M743.5,-192.884C743.5,-184.778 743.5,-175.982 743.5,-167.472\"/>\r\n",
       "<polygon fill=\"black\" stroke=\"black\" points=\"747,-167.299 743.5,-157.299 740,-167.299 747,-167.299\"/>\r\n",
       "</g>\r\n",
       "<!-- 12 -->\r\n",
       "<g id=\"node13\" class=\"node\"><title>12</title>\r\n",
       "<path fill=\"#e58139\" fill-opacity=\"0.839216\" stroke=\"black\" d=\"M1097.5,-157C1097.5,-157 967.5,-157 967.5,-157 961.5,-157 955.5,-151 955.5,-145 955.5,-145 955.5,-101 955.5,-101 955.5,-95 961.5,-89 967.5,-89 967.5,-89 1097.5,-89 1097.5,-89 1103.5,-89 1109.5,-95 1109.5,-101 1109.5,-101 1109.5,-145 1109.5,-145 1109.5,-151 1103.5,-157 1097.5,-157\"/>\r\n",
       "<text text-anchor=\"middle\" x=\"1032.5\" y=\"-141.8\" font-family=\"Helvetica,sans-Serif\" font-size=\"14.00\">Costo &lt;= 26.2687</text>\r\n",
       "<text text-anchor=\"middle\" x=\"1032.5\" y=\"-126.8\" font-family=\"Helvetica,sans-Serif\" font-size=\"14.00\">samples = 61.8%</text>\r\n",
       "<text text-anchor=\"middle\" x=\"1032.5\" y=\"-111.8\" font-family=\"Helvetica,sans-Serif\" font-size=\"14.00\">value = [0.86, 0.14]</text>\r\n",
       "<text text-anchor=\"middle\" x=\"1032.5\" y=\"-96.8\" font-family=\"Helvetica,sans-Serif\" font-size=\"14.00\">class = No Sobrevivio</text>\r\n",
       "</g>\r\n",
       "<!-- 8&#45;&gt;12 -->\r\n",
       "<g id=\"edge12\" class=\"edge\"><title>8&#45;&gt;12</title>\r\n",
       "<path fill=\"none\" stroke=\"black\" d=\"M820.567,-198.8C859.19,-185.168 906.098,-168.612 945.955,-154.545\"/>\r\n",
       "<polygon fill=\"black\" stroke=\"black\" points=\"947.132,-157.842 955.397,-151.213 944.802,-151.241 947.132,-157.842\"/>\r\n",
       "</g>\r\n",
       "<!-- 10 -->\r\n",
       "<g id=\"node11\" class=\"node\"><title>10</title>\r\n",
       "<path fill=\"#399de5\" stroke=\"black\" d=\"M753.5,-53C753.5,-53 645.5,-53 645.5,-53 639.5,-53 633.5,-47 633.5,-41 633.5,-41 633.5,-12 633.5,-12 633.5,-6 639.5,-0 645.5,-0 645.5,-0 753.5,-0 753.5,-0 759.5,-0 765.5,-6 765.5,-12 765.5,-12 765.5,-41 765.5,-41 765.5,-47 759.5,-53 753.5,-53\"/>\r\n",
       "<text text-anchor=\"middle\" x=\"699.5\" y=\"-37.8\" font-family=\"Helvetica,sans-Serif\" font-size=\"14.00\">samples = 2.6%</text>\r\n",
       "<text text-anchor=\"middle\" x=\"699.5\" y=\"-22.8\" font-family=\"Helvetica,sans-Serif\" font-size=\"14.00\">value = [0.0, 1.0]</text>\r\n",
       "<text text-anchor=\"middle\" x=\"699.5\" y=\"-7.8\" font-family=\"Helvetica,sans-Serif\" font-size=\"14.00\">class = Sobrevivio</text>\r\n",
       "</g>\r\n",
       "<!-- 9&#45;&gt;10 -->\r\n",
       "<g id=\"edge10\" class=\"edge\"><title>9&#45;&gt;10</title>\r\n",
       "<path fill=\"none\" stroke=\"black\" d=\"M728.111,-88.9485C724.107,-80.3494 719.781,-71.0586 715.735,-62.3689\"/>\r\n",
       "<polygon fill=\"black\" stroke=\"black\" points=\"718.877,-60.8249 711.483,-53.2367 712.531,-63.7796 718.877,-60.8249\"/>\r\n",
       "</g>\r\n",
       "<!-- 11 -->\r\n",
       "<g id=\"node12\" class=\"node\"><title>11</title>\r\n",
       "<path fill=\"#e58139\" fill-opacity=\"0.901961\" stroke=\"black\" d=\"M925.5,-53C925.5,-53 795.5,-53 795.5,-53 789.5,-53 783.5,-47 783.5,-41 783.5,-41 783.5,-12 783.5,-12 783.5,-6 789.5,-0 795.5,-0 795.5,-0 925.5,-0 925.5,-0 931.5,-0 937.5,-6 937.5,-12 937.5,-12 937.5,-41 937.5,-41 937.5,-47 931.5,-53 925.5,-53\"/>\r\n",
       "<text text-anchor=\"middle\" x=\"860.5\" y=\"-37.8\" font-family=\"Helvetica,sans-Serif\" font-size=\"14.00\">samples = 2.1%</text>\r\n",
       "<text text-anchor=\"middle\" x=\"860.5\" y=\"-22.8\" font-family=\"Helvetica,sans-Serif\" font-size=\"14.00\">value = [0.91, 0.09]</text>\r\n",
       "<text text-anchor=\"middle\" x=\"860.5\" y=\"-7.8\" font-family=\"Helvetica,sans-Serif\" font-size=\"14.00\">class = No Sobrevivio</text>\r\n",
       "</g>\r\n",
       "<!-- 9&#45;&gt;11 -->\r\n",
       "<g id=\"edge11\" class=\"edge\"><title>9&#45;&gt;11</title>\r\n",
       "<path fill=\"none\" stroke=\"black\" d=\"M784.421,-88.9485C796.2,-79.4346 809.027,-69.074 820.735,-59.6175\"/>\r\n",
       "<polygon fill=\"black\" stroke=\"black\" points=\"823.055,-62.2429 828.636,-53.2367 818.657,-56.7973 823.055,-62.2429\"/>\r\n",
       "</g>\r\n",
       "<!-- 13 -->\r\n",
       "<g id=\"node14\" class=\"node\"><title>13</title>\r\n",
       "<path fill=\"#e58139\" fill-opacity=\"0.921569\" stroke=\"black\" d=\"M1097.5,-53C1097.5,-53 967.5,-53 967.5,-53 961.5,-53 955.5,-47 955.5,-41 955.5,-41 955.5,-12 955.5,-12 955.5,-6 961.5,-0 967.5,-0 967.5,-0 1097.5,-0 1097.5,-0 1103.5,-0 1109.5,-6 1109.5,-12 1109.5,-12 1109.5,-41 1109.5,-41 1109.5,-47 1103.5,-53 1097.5,-53\"/>\r\n",
       "<text text-anchor=\"middle\" x=\"1032.5\" y=\"-37.8\" font-family=\"Helvetica,sans-Serif\" font-size=\"14.00\">samples = 44.8%</text>\r\n",
       "<text text-anchor=\"middle\" x=\"1032.5\" y=\"-22.8\" font-family=\"Helvetica,sans-Serif\" font-size=\"14.00\">value = [0.93, 0.07]</text>\r\n",
       "<text text-anchor=\"middle\" x=\"1032.5\" y=\"-7.8\" font-family=\"Helvetica,sans-Serif\" font-size=\"14.00\">class = No Sobrevivio</text>\r\n",
       "</g>\r\n",
       "<!-- 12&#45;&gt;13 -->\r\n",
       "<g id=\"edge13\" class=\"edge\"><title>12&#45;&gt;13</title>\r\n",
       "<path fill=\"none\" stroke=\"black\" d=\"M1032.5,-88.9485C1032.5,-80.7153 1032.5,-71.848 1032.5,-63.4814\"/>\r\n",
       "<polygon fill=\"black\" stroke=\"black\" points=\"1036,-63.2367 1032.5,-53.2367 1029,-63.2367 1036,-63.2367\"/>\r\n",
       "</g>\r\n",
       "<!-- 14 -->\r\n",
       "<g id=\"node15\" class=\"node\"><title>14</title>\r\n",
       "<path fill=\"#e58139\" fill-opacity=\"0.533333\" stroke=\"black\" d=\"M1269.5,-53C1269.5,-53 1139.5,-53 1139.5,-53 1133.5,-53 1127.5,-47 1127.5,-41 1127.5,-41 1127.5,-12 1127.5,-12 1127.5,-6 1133.5,-0 1139.5,-0 1139.5,-0 1269.5,-0 1269.5,-0 1275.5,-0 1281.5,-6 1281.5,-12 1281.5,-12 1281.5,-41 1281.5,-41 1281.5,-47 1275.5,-53 1269.5,-53\"/>\r\n",
       "<text text-anchor=\"middle\" x=\"1204.5\" y=\"-37.8\" font-family=\"Helvetica,sans-Serif\" font-size=\"14.00\">samples = 17.0%</text>\r\n",
       "<text text-anchor=\"middle\" x=\"1204.5\" y=\"-22.8\" font-family=\"Helvetica,sans-Serif\" font-size=\"14.00\">value = [0.68, 0.32]</text>\r\n",
       "<text text-anchor=\"middle\" x=\"1204.5\" y=\"-7.8\" font-family=\"Helvetica,sans-Serif\" font-size=\"14.00\">class = No Sobrevivio</text>\r\n",
       "</g>\r\n",
       "<!-- 12&#45;&gt;14 -->\r\n",
       "<g id=\"edge14\" class=\"edge\"><title>12&#45;&gt;14</title>\r\n",
       "<path fill=\"none\" stroke=\"black\" d=\"M1092.66,-88.9485C1110.89,-78.9318 1130.83,-67.9767 1148.76,-58.1263\"/>\r\n",
       "<polygon fill=\"black\" stroke=\"black\" points=\"1150.85,-60.9695 1157.93,-53.0867 1147.48,-54.8345 1150.85,-60.9695\"/>\r\n",
       "</g>\r\n",
       "</g>\r\n",
       "</svg>\r\n"
      ],
      "text/plain": [
       "<graphviz.files.Source at 0x1c75f506240>"
      ]
     },
     "execution_count": 263,
     "metadata": {},
     "output_type": "execute_result"
    }
   ],
   "source": [
    "export_graphviz(titanic_tree.tree_,'TitanicTree.dot',feature_names = list(titanic_lib.drop(\"Sobrevivio\",axis=1).columns),\n",
    "                class_names = ['No Sobrevivio','Sobrevivio'],proportion = True,\n",
    "                impurity = False,rounded = True,filled=True)\n",
    "\n",
    "with open(\"TitanicTree.dot\") as f:\n",
    "    dot_graph = f.read()\n",
    "graphviz.Source(dot_graph)"
   ]
  },
  {
   "cell_type": "markdown",
   "metadata": {
    "slideshow": {
     "slide_type": "slide"
    }
   },
   "source": [
    "## Regresión con Arbol de Decisión\n",
    "\n",
    "![title](https://boraberan.files.wordpress.com/2014/02/regressiontreeinr.png?w=660&h=269)\n",
    "\n",
    "### Los arboles de decisión también pueden ser utilizados para crear predicciones de valores continuos. Las unicas diferencias son como conseguimos la mejor división y como hacemos las predicciones. En el caso del gini, buscamos la división que hacia la proporción de valores cambiara drasticamente. Pero, como tenemos valores continuos, la proporción de valores seria más dificil de usar. ¿ Qué alternativa tenemos?"
   ]
  },
  {
   "cell_type": "markdown",
   "metadata": {
    "slideshow": {
     "slide_type": "subslide"
    }
   },
   "source": [
    "### Metodo de  reducción de la desviación estandar (SDR)\n",
    "\n",
    "#### La desviación  estandar es un valor que representa que tanto los valores de un grupo se diferencian del promedio del grupo. Si la distancia entre los valores del grupo es grande, la desviación estandar también es grande. En si, este valor representa que tan cerca estan los valores de un grupo del promedio.\n",
    "\n",
    "#### Para encontrar la mejor división en caso de valores continuos, queremos una división que contenga un subgrupo cuyos valores sean muy diferentes a los del grupo original sin dividir. Esto nos dice que encontramos una división donde los valores son tan diferentes, que serían una buena separación o condición de los datos para la predicción final. Ejemplo: "
   ]
  },
  {
   "cell_type": "code",
   "execution_count": 264,
   "metadata": {
    "slideshow": {
     "slide_type": "subslide"
    }
   },
   "outputs": [
    {
     "data": {
      "text/html": [
       "<div>\n",
       "<style>\n",
       "    .dataframe thead tr:only-child th {\n",
       "        text-align: right;\n",
       "    }\n",
       "\n",
       "    .dataframe thead th {\n",
       "        text-align: left;\n",
       "    }\n",
       "\n",
       "    .dataframe tbody tr th {\n",
       "        vertical-align: top;\n",
       "    }\n",
       "</style>\n",
       "<table border=\"1\" class=\"dataframe\">\n",
       "  <thead>\n",
       "    <tr style=\"text-align: right;\">\n",
       "      <th></th>\n",
       "      <th>Clase</th>\n",
       "      <th>Sexo</th>\n",
       "      <th>Edad</th>\n",
       "      <th>Hermanos/Parejas</th>\n",
       "      <th>Padres/hijos</th>\n",
       "      <th>Costo</th>\n",
       "      <th>Puerto</th>\n",
       "      <th>Sobrevivio</th>\n",
       "    </tr>\n",
       "  </thead>\n",
       "  <tbody>\n",
       "    <tr>\n",
       "      <th>709</th>\n",
       "      <td>3</td>\n",
       "      <td>male</td>\n",
       "      <td>30</td>\n",
       "      <td>1</td>\n",
       "      <td>1</td>\n",
       "      <td>15.2458</td>\n",
       "      <td>C</td>\n",
       "      <td>1</td>\n",
       "    </tr>\n",
       "    <tr>\n",
       "      <th>439</th>\n",
       "      <td>2</td>\n",
       "      <td>male</td>\n",
       "      <td>31</td>\n",
       "      <td>0</td>\n",
       "      <td>0</td>\n",
       "      <td>10.5000</td>\n",
       "      <td>S</td>\n",
       "      <td>0</td>\n",
       "    </tr>\n",
       "    <tr>\n",
       "      <th>840</th>\n",
       "      <td>3</td>\n",
       "      <td>male</td>\n",
       "      <td>20</td>\n",
       "      <td>0</td>\n",
       "      <td>0</td>\n",
       "      <td>7.9250</td>\n",
       "      <td>S</td>\n",
       "      <td>0</td>\n",
       "    </tr>\n",
       "    <tr>\n",
       "      <th>720</th>\n",
       "      <td>2</td>\n",
       "      <td>female</td>\n",
       "      <td>6</td>\n",
       "      <td>0</td>\n",
       "      <td>1</td>\n",
       "      <td>33.0000</td>\n",
       "      <td>S</td>\n",
       "      <td>1</td>\n",
       "    </tr>\n",
       "    <tr>\n",
       "      <th>39</th>\n",
       "      <td>3</td>\n",
       "      <td>female</td>\n",
       "      <td>14</td>\n",
       "      <td>1</td>\n",
       "      <td>0</td>\n",
       "      <td>11.2417</td>\n",
       "      <td>C</td>\n",
       "      <td>1</td>\n",
       "    </tr>\n",
       "    <tr>\n",
       "      <th>290</th>\n",
       "      <td>1</td>\n",
       "      <td>female</td>\n",
       "      <td>26</td>\n",
       "      <td>0</td>\n",
       "      <td>0</td>\n",
       "      <td>78.8500</td>\n",
       "      <td>S</td>\n",
       "      <td>1</td>\n",
       "    </tr>\n",
       "    <tr>\n",
       "      <th>300</th>\n",
       "      <td>3</td>\n",
       "      <td>female</td>\n",
       "      <td>28</td>\n",
       "      <td>0</td>\n",
       "      <td>0</td>\n",
       "      <td>7.7500</td>\n",
       "      <td>Q</td>\n",
       "      <td>1</td>\n",
       "    </tr>\n",
       "    <tr>\n",
       "      <th>333</th>\n",
       "      <td>3</td>\n",
       "      <td>male</td>\n",
       "      <td>16</td>\n",
       "      <td>2</td>\n",
       "      <td>0</td>\n",
       "      <td>18.0000</td>\n",
       "      <td>S</td>\n",
       "      <td>0</td>\n",
       "    </tr>\n",
       "    <tr>\n",
       "      <th>208</th>\n",
       "      <td>3</td>\n",
       "      <td>female</td>\n",
       "      <td>16</td>\n",
       "      <td>0</td>\n",
       "      <td>0</td>\n",
       "      <td>7.7500</td>\n",
       "      <td>Q</td>\n",
       "      <td>1</td>\n",
       "    </tr>\n",
       "    <tr>\n",
       "      <th>136</th>\n",
       "      <td>1</td>\n",
       "      <td>female</td>\n",
       "      <td>19</td>\n",
       "      <td>0</td>\n",
       "      <td>2</td>\n",
       "      <td>26.2833</td>\n",
       "      <td>S</td>\n",
       "      <td>1</td>\n",
       "    </tr>\n",
       "  </tbody>\n",
       "</table>\n",
       "</div>"
      ],
      "text/plain": [
       "     Clase    Sexo  Edad  Hermanos/Parejas  Padres/hijos    Costo Puerto  \\\n",
       "709      3    male    30                 1             1  15.2458      C   \n",
       "439      2    male    31                 0             0  10.5000      S   \n",
       "840      3    male    20                 0             0   7.9250      S   \n",
       "720      2  female     6                 0             1  33.0000      S   \n",
       "39       3  female    14                 1             0  11.2417      C   \n",
       "290      1  female    26                 0             0  78.8500      S   \n",
       "300      3  female    28                 0             0   7.7500      Q   \n",
       "333      3    male    16                 2             0  18.0000      S   \n",
       "208      3  female    16                 0             0   7.7500      Q   \n",
       "136      1  female    19                 0             2  26.2833      S   \n",
       "\n",
       "     Sobrevivio  \n",
       "709           1  \n",
       "439           0  \n",
       "840           0  \n",
       "720           1  \n",
       "39            1  \n",
       "290           1  \n",
       "300           1  \n",
       "333           0  \n",
       "208           1  \n",
       "136           1  "
      ]
     },
     "execution_count": 264,
     "metadata": {},
     "output_type": "execute_result"
    }
   ],
   "source": [
    "samp= titanic.sample(10,random_state=42)\n",
    "samp"
   ]
  },
  {
   "cell_type": "markdown",
   "metadata": {
    "slideshow": {
     "slide_type": "fragment"
    }
   },
   "source": [
    "### Si comparamos la desviación estandar de la variable de interés antes y despues de separarla, podemos notar una diferencia."
   ]
  },
  {
   "cell_type": "code",
   "execution_count": 265,
   "metadata": {
    "slideshow": {
     "slide_type": "fragment"
    }
   },
   "outputs": [
    {
     "name": "stdout",
     "output_type": "stream",
     "text": [
      "Desviación Estandar Original: 21.817212548953687\n",
      "Desviación Estandar Puerto C: 2.8313262625490547\n",
      "Desviación Estandar Puerto S: 26.137163710223035\n",
      "Desviación Estandar Puerto Q: 0.0\n"
     ]
    }
   ],
   "source": [
    "print(\"Desviación Estandar Original: {}\".format(samp.Costo.std()))\n",
    "print(\"Desviación Estandar Puerto C: {}\".format(samp.loc[samp.Puerto == 'C'].Costo.std()))\n",
    "print(\"Desviación Estandar Puerto S: {}\".format(samp.loc[samp.Puerto == 'S'].Costo.std()))\n",
    "print(\"Desviación Estandar Puerto Q: {}\".format(samp.loc[samp.Puerto == 'Q'].Costo.std()))"
   ]
  },
  {
   "cell_type": "code",
   "execution_count": 266,
   "metadata": {
    "slideshow": {
     "slide_type": "fragment"
    }
   },
   "outputs": [
    {
     "name": "stdout",
     "output_type": "stream",
     "text": [
      "Diferencia Desviación Estandar Puerto C: 18.985886286404632\n",
      "Diferencia Desviación Estandar Puerto S: -4.319951161269348\n",
      "Diferencia Desviación Estandar Puerto Q: 21.817212548953687\n"
     ]
    }
   ],
   "source": [
    "orig  = samp.Costo.std()\n",
    "print(\"Diferencia Desviación Estandar Puerto C: {}\".format(orig - samp.loc[samp.Puerto == 'C'].Costo.std()))\n",
    "print(\"Diferencia Desviación Estandar Puerto S: {}\".format(orig - samp.loc[samp.Puerto == 'S'].Costo.std()))\n",
    "print(\"Diferencia Desviación Estandar Puerto Q: {}\".format(orig - samp.loc[samp.Puerto == 'Q'].Costo.std()))"
   ]
  },
  {
   "cell_type": "markdown",
   "metadata": {
    "slideshow": {
     "slide_type": "subslide"
    }
   },
   "source": [
    "### De esta forma, llegamos al metodo de la reducción de la desviación estandar.  Decidimos que la mejor división es aquella en la cual la diferencia entre la desviación estandar total y la desviación estandar del grupo luego de dividir sea mayor.\n",
    "\n",
    "#### $$ SDR(y,x) = SD(y) - SD(y,x) $$\n",
    "\n",
    "### Esto nos dice, que la mejor división es aquella que es más homogenea, o diferente a la original.\n",
    "\n",
    "<a id=\"reg\"></a>"
   ]
  },
  {
   "cell_type": "code",
   "execution_count": 267,
   "metadata": {
    "collapsed": true,
    "slideshow": {
     "slide_type": "fragment"
    }
   },
   "outputs": [],
   "source": [
    "def SdevReduction(groups,sdev,target_name):\n",
    "    best_sdev = 0\n",
    "    best_group = None\n",
    "    for group in groups:\n",
    "        groupsdev = group[target_name].std()\n",
    "        diff = sdev - groupsdev\n",
    "        if diff > best_sdev:\n",
    "            best_sdev = diff\n",
    "            best_group = group\n",
    "            \n",
    "    return best_sdev"
   ]
  },
  {
   "cell_type": "code",
   "execution_count": 268,
   "metadata": {
    "collapsed": true,
    "slideshow": {
     "slide_type": "skip"
    }
   },
   "outputs": [],
   "source": [
    "def Get_Best_Column_Reg(data,target,verbose = False):\n",
    "    temp = data.drop(target, axis = 1).copy()\n",
    "    best_sdev = 0\n",
    "    best_split_condition = \"\"\n",
    "    best_split = {}\n",
    "    orig_sdev = data[target].std()\n",
    "    for column in temp.columns:\n",
    "        column_splits = Create_Split(data,column)\n",
    "        for split in column_splits:\n",
    "            split_sdev = SdevReduction(split[0:2],orig_sdev,target)\n",
    "            if verbose:\n",
    "                print(\"Splitting : \" + split[2] + \" SDEV : \" + str(split_sdev))\n",
    "            if split_sdev > best_sdev:\n",
    "                best_sdev = split_sdev\n",
    "                best_split_condition = split[2]\n",
    "                best_split[\"left\"] = split[0].drop(column,axis = 1)\n",
    "                best_split[\"right\"] = split[1].drop(column, axis = 1)\n",
    "                best_split[\"condition\"] = best_split_condition\n",
    "                \n",
    "    if verbose:\n",
    "        print(\"Best split: \" + best_split_condition + \" best SDEV: \" + str(best_sdev))\n",
    "    return best_split"
   ]
  },
  {
   "cell_type": "markdown",
   "metadata": {
    "slideshow": {
     "slide_type": "slide"
    }
   },
   "source": [
    "## Para las predicciones, en vez de escoger el valor más común de la división, escogemos el valor que mejor representa la división: la media."
   ]
  },
  {
   "cell_type": "code",
   "execution_count": 269,
   "metadata": {
    "collapsed": true,
    "slideshow": {
     "slide_type": "fragment"
    }
   },
   "outputs": [],
   "source": [
    "def terminal_reg(group,target):\n",
    "    return group[target].mean()"
   ]
  },
  {
   "cell_type": "code",
   "execution_count": 270,
   "metadata": {
    "slideshow": {
     "slide_type": "skip"
    }
   },
   "outputs": [],
   "source": [
    "def Reg_Split(split,cur_depth,min_size,target,max_depth=3,verbose = False):\n",
    "    left,right = split[\"left\"],split[\"right\"]\n",
    "    #In case our depth is too large.\n",
    "    del split[\"left\"]\n",
    "    del split[\"right\"]\n",
    "    \n",
    "    \n",
    "    if  len(left) == 0 or  len(right) == 0:\n",
    "        split[\"left\"] = split[\"right\"] = terminal_reg(left.append(right),target)\n",
    "        return\n",
    "    if cur_depth == max_depth:\n",
    "        split[\"left\"], split[\"right\"] = terminal_reg(left,target), terminal_reg(right,target)\n",
    "        return\n",
    "    #Calculate left\n",
    "    if len(left) <= min_size:\n",
    "        split[\"left\"] = terminal_reg(left,target)\n",
    "    else:\n",
    "        split[\"left\"] = Get_Best_Column_Reg(left,target,verbose = verbose)\n",
    "        Reg_Split(split[\"left\"],cur_depth + 1,min_size,target,max_depth,verbose = verbose)\n",
    "    \n",
    "    #Calculate right\n",
    "    if len(right) <= min_size:\n",
    "        split[\"right\"] = terminal_reg(right,target)\n",
    "    else:\n",
    "        split[\"right\"] = Get_Best_Column_Reg(right,target,verbose = verbose)\n",
    "        Reg_Split(split[\"right\"],cur_depth + 1,min_size,target,max_depth,verbose= verbose)"
   ]
  },
  {
   "cell_type": "code",
   "execution_count": 271,
   "metadata": {
    "slideshow": {
     "slide_type": "skip"
    }
   },
   "outputs": [],
   "source": [
    "def Build_Reg_Tree(data,target,min_size= 2,max_depth= 3,verbose = False):\n",
    "    root = Get_Best_Column_Reg(data,target, verbose = verbose)\n",
    "    Reg_Split(root,1,min_size,target,max_depth,verbose = verbose)\n",
    "    return root"
   ]
  },
  {
   "cell_type": "markdown",
   "metadata": {
    "slideshow": {
     "slide_type": "slide"
    }
   },
   "source": [
    "## Al final, la construcción del arbol es la misma, solo difieren los metodos mencionados anteriormente."
   ]
  },
  {
   "cell_type": "code",
   "execution_count": 272,
   "metadata": {
    "slideshow": {
     "slide_type": "subslide"
    }
   },
   "outputs": [
    {
     "name": "stdout",
     "output_type": "stream",
     "text": [
      " 0 :  Puerto = Q\n",
      "  1 :   7.75\n",
      "  1 :   Hermanos/Parejas = 1\n",
      "   2 :    13.243749999999999\n",
      "   2 :    Padres/hijos = 0\n",
      "    3 :     28.818749999999998\n",
      "    3 :     29.64165\n"
     ]
    }
   ],
   "source": [
    "costo_tree = Build_Reg_Tree(samp,'Costo',max_depth = 3)\n",
    "Imprimir_Arbol(costo_tree)"
   ]
  },
  {
   "cell_type": "markdown",
   "metadata": {
    "collapsed": true,
    "slideshow": {
     "slide_type": "fragment"
    }
   },
   "source": [
    "### De nuevo, veamoslo más claro con un arbol creado por una libreria."
   ]
  },
  {
   "cell_type": "code",
   "execution_count": 273,
   "metadata": {
    "slideshow": {
     "slide_type": "skip"
    }
   },
   "outputs": [
    {
     "data": {
      "text/plain": [
       "DecisionTreeRegressor(criterion='mse', max_depth=3, max_features=None,\n",
       "           max_leaf_nodes=None, min_impurity_split=1e-07,\n",
       "           min_samples_leaf=1, min_samples_split=2,\n",
       "           min_weight_fraction_leaf=0.0, presort=False, random_state=None,\n",
       "           splitter='best')"
      ]
     },
     "execution_count": 273,
     "metadata": {},
     "output_type": "execute_result"
    }
   ],
   "source": [
    "from sklearn.tree import DecisionTreeRegressor\n",
    "\n",
    "dtreereg = DecisionTreeRegressor(max_depth=3)\n",
    "dtreeregX = samp.copy()\n",
    "dtreeregX.Puerto = LabelEncoder().fit_transform(dtreeregX.Puerto)\n",
    "dtreeregX.Sexo = LabelEncoder().fit_transform(dtreeregX.Sexo)\n",
    "dtreereg.fit(dtreeregX.drop(\"Costo\",axis = 1),dtreeregX.Costo)"
   ]
  },
  {
   "cell_type": "code",
   "execution_count": 274,
   "metadata": {
    "slideshow": {
     "slide_type": "subslide"
    }
   },
   "outputs": [
    {
     "data": {
      "image/svg+xml": [
       "<?xml version=\"1.0\" encoding=\"UTF-8\" standalone=\"no\"?>\r\n",
       "<!DOCTYPE svg PUBLIC \"-//W3C//DTD SVG 1.1//EN\"\r\n",
       " \"http://www.w3.org/Graphics/SVG/1.1/DTD/svg11.dtd\">\r\n",
       "<!-- Generated by graphviz version 2.38.0 (20140413.2041)\r\n",
       " -->\r\n",
       "<!-- Title: Tree Pages: 1 -->\r\n",
       "<svg width=\"672pt\" height=\"313pt\"\r\n",
       " viewBox=\"0.00 0.00 672.00 313.00\" xmlns=\"http://www.w3.org/2000/svg\" xmlns:xlink=\"http://www.w3.org/1999/xlink\">\r\n",
       "<g id=\"graph0\" class=\"graph\" transform=\"scale(1 1) rotate(0) translate(4 309)\">\r\n",
       "<title>Tree</title>\r\n",
       "<polygon fill=\"white\" stroke=\"none\" points=\"-4,4 -4,-309 668,-309 668,4 -4,4\"/>\r\n",
       "<!-- 0 -->\r\n",
       "<g id=\"node1\" class=\"node\"><title>0</title>\r\n",
       "<path fill=\"#e58139\" fill-opacity=\"0.188235\" stroke=\"black\" d=\"M339,-305C339,-305 227,-305 227,-305 221,-305 215,-299 215,-293 215,-293 215,-264 215,-264 215,-258 221,-252 227,-252 227,-252 339,-252 339,-252 345,-252 351,-258 351,-264 351,-264 351,-293 351,-293 351,-299 345,-305 339,-305\"/>\r\n",
       "<text text-anchor=\"middle\" x=\"283\" y=\"-289.8\" font-family=\"Helvetica,sans-Serif\" font-size=\"14.00\">Clase &lt;= 1.5</text>\r\n",
       "<text text-anchor=\"middle\" x=\"283\" y=\"-274.8\" font-family=\"Helvetica,sans-Serif\" font-size=\"14.00\">samples = 100.0%</text>\r\n",
       "<text text-anchor=\"middle\" x=\"283\" y=\"-259.8\" font-family=\"Helvetica,sans-Serif\" font-size=\"14.00\">value = 21.6546</text>\r\n",
       "</g>\r\n",
       "<!-- 1 -->\r\n",
       "<g id=\"node2\" class=\"node\"><title>1</title>\r\n",
       "<path fill=\"#e58139\" fill-opacity=\"0.627451\" stroke=\"black\" d=\"M262,-216C262,-216 158,-216 158,-216 152,-216 146,-210 146,-204 146,-204 146,-175 146,-175 146,-169 152,-163 158,-163 158,-163 262,-163 262,-163 268,-163 274,-169 274,-175 274,-175 274,-204 274,-204 274,-210 268,-216 262,-216\"/>\r\n",
       "<text text-anchor=\"middle\" x=\"210\" y=\"-200.8\" font-family=\"Helvetica,sans-Serif\" font-size=\"14.00\">Edad &lt;= 22.5</text>\r\n",
       "<text text-anchor=\"middle\" x=\"210\" y=\"-185.8\" font-family=\"Helvetica,sans-Serif\" font-size=\"14.00\">samples = 20.0%</text>\r\n",
       "<text text-anchor=\"middle\" x=\"210\" y=\"-170.8\" font-family=\"Helvetica,sans-Serif\" font-size=\"14.00\">value = 52.5666</text>\r\n",
       "</g>\r\n",
       "<!-- 0&#45;&gt;1 -->\r\n",
       "<g id=\"edge1\" class=\"edge\"><title>0&#45;&gt;1</title>\r\n",
       "<path fill=\"none\" stroke=\"black\" d=\"M261.492,-251.868C254.206,-243.184 245.955,-233.35 238.226,-224.139\"/>\r\n",
       "<polygon fill=\"black\" stroke=\"black\" points=\"240.715,-221.661 231.606,-216.25 235.353,-226.16 240.715,-221.661\"/>\r\n",
       "<text text-anchor=\"middle\" x=\"229.427\" y=\"-237.455\" font-family=\"Helvetica,sans-Serif\" font-size=\"14.00\">True</text>\r\n",
       "</g>\r\n",
       "<!-- 4 -->\r\n",
       "<g id=\"node5\" class=\"node\"><title>4</title>\r\n",
       "<path fill=\"#e58139\" fill-opacity=\"0.078431\" stroke=\"black\" d=\"M408,-216C408,-216 304,-216 304,-216 298,-216 292,-210 292,-204 292,-204 292,-175 292,-175 292,-169 298,-163 304,-163 304,-163 408,-163 408,-163 414,-163 420,-169 420,-175 420,-175 420,-204 420,-204 420,-210 414,-216 408,-216\"/>\r\n",
       "<text text-anchor=\"middle\" x=\"356\" y=\"-200.8\" font-family=\"Helvetica,sans-Serif\" font-size=\"14.00\">Edad &lt;= 10.0</text>\r\n",
       "<text text-anchor=\"middle\" x=\"356\" y=\"-185.8\" font-family=\"Helvetica,sans-Serif\" font-size=\"14.00\">samples = 80.0%</text>\r\n",
       "<text text-anchor=\"middle\" x=\"356\" y=\"-170.8\" font-family=\"Helvetica,sans-Serif\" font-size=\"14.00\">value = 13.9266</text>\r\n",
       "</g>\r\n",
       "<!-- 0&#45;&gt;4 -->\r\n",
       "<g id=\"edge4\" class=\"edge\"><title>0&#45;&gt;4</title>\r\n",
       "<path fill=\"none\" stroke=\"black\" d=\"M304.508,-251.868C311.794,-243.184 320.045,-233.35 327.774,-224.139\"/>\r\n",
       "<polygon fill=\"black\" stroke=\"black\" points=\"330.647,-226.16 334.394,-216.25 325.285,-221.661 330.647,-226.16\"/>\r\n",
       "<text text-anchor=\"middle\" x=\"336.573\" y=\"-237.455\" font-family=\"Helvetica,sans-Serif\" font-size=\"14.00\">False</text>\r\n",
       "</g>\r\n",
       "<!-- 2 -->\r\n",
       "<g id=\"node3\" class=\"node\"><title>2</title>\r\n",
       "<path fill=\"#e58139\" fill-opacity=\"0.254902\" stroke=\"black\" d=\"M116,-119.5C116,-119.5 12,-119.5 12,-119.5 6,-119.5 0,-113.5 0,-107.5 0,-107.5 0,-93.5 0,-93.5 0,-87.5 6,-81.5 12,-81.5 12,-81.5 116,-81.5 116,-81.5 122,-81.5 128,-87.5 128,-93.5 128,-93.5 128,-107.5 128,-107.5 128,-113.5 122,-119.5 116,-119.5\"/>\r\n",
       "<text text-anchor=\"middle\" x=\"64\" y=\"-104.3\" font-family=\"Helvetica,sans-Serif\" font-size=\"14.00\">samples = 10.0%</text>\r\n",
       "<text text-anchor=\"middle\" x=\"64\" y=\"-89.3\" font-family=\"Helvetica,sans-Serif\" font-size=\"14.00\">value = 26.2833</text>\r\n",
       "</g>\r\n",
       "<!-- 1&#45;&gt;2 -->\r\n",
       "<g id=\"edge2\" class=\"edge\"><title>1&#45;&gt;2</title>\r\n",
       "<path fill=\"none\" stroke=\"black\" d=\"M166.985,-162.868C146.707,-150.784 122.693,-136.474 102.956,-124.714\"/>\r\n",
       "<polygon fill=\"black\" stroke=\"black\" points=\"104.6,-121.619 94.2181,-119.507 101.017,-127.632 104.6,-121.619\"/>\r\n",
       "</g>\r\n",
       "<!-- 3 -->\r\n",
       "<g id=\"node4\" class=\"node\"><title>3</title>\r\n",
       "<path fill=\"#e58139\" stroke=\"black\" d=\"M262,-119.5C262,-119.5 158,-119.5 158,-119.5 152,-119.5 146,-113.5 146,-107.5 146,-107.5 146,-93.5 146,-93.5 146,-87.5 152,-81.5 158,-81.5 158,-81.5 262,-81.5 262,-81.5 268,-81.5 274,-87.5 274,-93.5 274,-93.5 274,-107.5 274,-107.5 274,-113.5 268,-119.5 262,-119.5\"/>\r\n",
       "<text text-anchor=\"middle\" x=\"210\" y=\"-104.3\" font-family=\"Helvetica,sans-Serif\" font-size=\"14.00\">samples = 10.0%</text>\r\n",
       "<text text-anchor=\"middle\" x=\"210\" y=\"-89.3\" font-family=\"Helvetica,sans-Serif\" font-size=\"14.00\">value = 78.85</text>\r\n",
       "</g>\r\n",
       "<!-- 1&#45;&gt;3 -->\r\n",
       "<g id=\"edge3\" class=\"edge\"><title>1&#45;&gt;3</title>\r\n",
       "<path fill=\"none\" stroke=\"black\" d=\"M210,-162.868C210,-152.417 210,-140.301 210,-129.609\"/>\r\n",
       "<polygon fill=\"black\" stroke=\"black\" points=\"213.5,-129.507 210,-119.507 206.5,-129.507 213.5,-129.507\"/>\r\n",
       "</g>\r\n",
       "<!-- 5 -->\r\n",
       "<g id=\"node6\" class=\"node\"><title>5</title>\r\n",
       "<path fill=\"#e58139\" fill-opacity=\"0.349020\" stroke=\"black\" d=\"M408,-119.5C408,-119.5 304,-119.5 304,-119.5 298,-119.5 292,-113.5 292,-107.5 292,-107.5 292,-93.5 292,-93.5 292,-87.5 298,-81.5 304,-81.5 304,-81.5 408,-81.5 408,-81.5 414,-81.5 420,-87.5 420,-93.5 420,-93.5 420,-107.5 420,-107.5 420,-113.5 414,-119.5 408,-119.5\"/>\r\n",
       "<text text-anchor=\"middle\" x=\"356\" y=\"-104.3\" font-family=\"Helvetica,sans-Serif\" font-size=\"14.00\">samples = 10.0%</text>\r\n",
       "<text text-anchor=\"middle\" x=\"356\" y=\"-89.3\" font-family=\"Helvetica,sans-Serif\" font-size=\"14.00\">value = 33.0</text>\r\n",
       "</g>\r\n",
       "<!-- 4&#45;&gt;5 -->\r\n",
       "<g id=\"edge5\" class=\"edge\"><title>4&#45;&gt;5</title>\r\n",
       "<path fill=\"none\" stroke=\"black\" d=\"M356,-162.868C356,-152.417 356,-140.301 356,-129.609\"/>\r\n",
       "<polygon fill=\"black\" stroke=\"black\" points=\"359.5,-129.507 356,-119.507 352.5,-129.507 359.5,-129.507\"/>\r\n",
       "</g>\r\n",
       "<!-- 6 -->\r\n",
       "<g id=\"node7\" class=\"node\"><title>6</title>\r\n",
       "<path fill=\"#e58139\" fill-opacity=\"0.039216\" stroke=\"black\" d=\"M604,-127C604,-127 450,-127 450,-127 444,-127 438,-121 438,-115 438,-115 438,-86 438,-86 438,-80 444,-74 450,-74 450,-74 604,-74 604,-74 610,-74 616,-80 616,-86 616,-86 616,-115 616,-115 616,-121 610,-127 604,-127\"/>\r\n",
       "<text text-anchor=\"middle\" x=\"527\" y=\"-111.8\" font-family=\"Helvetica,sans-Serif\" font-size=\"14.00\">Hermanos/Parejas &lt;= 0.5</text>\r\n",
       "<text text-anchor=\"middle\" x=\"527\" y=\"-96.8\" font-family=\"Helvetica,sans-Serif\" font-size=\"14.00\">samples = 70.0%</text>\r\n",
       "<text text-anchor=\"middle\" x=\"527\" y=\"-81.8\" font-family=\"Helvetica,sans-Serif\" font-size=\"14.00\">value = 11.2018</text>\r\n",
       "</g>\r\n",
       "<!-- 4&#45;&gt;6 -->\r\n",
       "<g id=\"edge6\" class=\"edge\"><title>4&#45;&gt;6</title>\r\n",
       "<path fill=\"none\" stroke=\"black\" d=\"M406.381,-162.868C425.603,-153.088 447.692,-141.85 467.671,-131.685\"/>\r\n",
       "<polygon fill=\"black\" stroke=\"black\" points=\"469.358,-134.753 476.684,-127.099 466.184,-128.514 469.358,-134.753\"/>\r\n",
       "</g>\r\n",
       "<!-- 7 -->\r\n",
       "<g id=\"node8\" class=\"node\"><title>7</title>\r\n",
       "<path fill=\"none\" stroke=\"black\" d=\"M506,-38C506,-38 402,-38 402,-38 396,-38 390,-32 390,-26 390,-26 390,-12 390,-12 390,-6 396,-0 402,-0 402,-0 506,-0 506,-0 512,-0 518,-6 518,-12 518,-12 518,-26 518,-26 518,-32 512,-38 506,-38\"/>\r\n",
       "<text text-anchor=\"middle\" x=\"454\" y=\"-22.8\" font-family=\"Helvetica,sans-Serif\" font-size=\"14.00\">samples = 40.0%</text>\r\n",
       "<text text-anchor=\"middle\" x=\"454\" y=\"-7.8\" font-family=\"Helvetica,sans-Serif\" font-size=\"14.00\">value = 8.4812</text>\r\n",
       "</g>\r\n",
       "<!-- 6&#45;&gt;7 -->\r\n",
       "<g id=\"edge7\" class=\"edge\"><title>6&#45;&gt;7</title>\r\n",
       "<path fill=\"none\" stroke=\"black\" d=\"M503.501,-73.9081C495.248,-64.9206 485.975,-54.8223 477.706,-45.8165\"/>\r\n",
       "<polygon fill=\"black\" stroke=\"black\" points=\"480.089,-43.2375 470.748,-38.2389 474.933,-47.972 480.089,-43.2375\"/>\r\n",
       "</g>\r\n",
       "<!-- 8 -->\r\n",
       "<g id=\"node9\" class=\"node\"><title>8</title>\r\n",
       "<path fill=\"#e58139\" fill-opacity=\"0.090196\" stroke=\"black\" d=\"M652,-38C652,-38 548,-38 548,-38 542,-38 536,-32 536,-26 536,-26 536,-12 536,-12 536,-6 542,-0 548,-0 548,-0 652,-0 652,-0 658,-0 664,-6 664,-12 664,-12 664,-26 664,-26 664,-32 658,-38 652,-38\"/>\r\n",
       "<text text-anchor=\"middle\" x=\"600\" y=\"-22.8\" font-family=\"Helvetica,sans-Serif\" font-size=\"14.00\">samples = 30.0%</text>\r\n",
       "<text text-anchor=\"middle\" x=\"600\" y=\"-7.8\" font-family=\"Helvetica,sans-Serif\" font-size=\"14.00\">value = 14.8292</text>\r\n",
       "</g>\r\n",
       "<!-- 6&#45;&gt;8 -->\r\n",
       "<g id=\"edge8\" class=\"edge\"><title>6&#45;&gt;8</title>\r\n",
       "<path fill=\"none\" stroke=\"black\" d=\"M550.499,-73.9081C558.752,-64.9206 568.025,-54.8223 576.294,-45.8165\"/>\r\n",
       "<polygon fill=\"black\" stroke=\"black\" points=\"579.067,-47.972 583.252,-38.2389 573.911,-43.2375 579.067,-47.972\"/>\r\n",
       "</g>\r\n",
       "</g>\r\n",
       "</svg>\r\n"
      ],
      "text/plain": [
       "<graphviz.files.Source at 0x1c7615de048>"
      ]
     },
     "execution_count": 274,
     "metadata": {},
     "output_type": "execute_result"
    }
   ],
   "source": [
    "export_graphviz(dtreereg.tree_,'RegTree.dot',feature_names = list(dtreeregX.drop(\"Costo\",axis=1).columns)\n",
    "                ,proportion = True,impurity = False,rounded = True,filled=True)\n",
    "\n",
    "with open(\"RegTree.dot\") as f:\n",
    "    dot_graph = f.read()\n",
    "graphviz.Source(dot_graph)"
   ]
  },
  {
   "cell_type": "markdown",
   "metadata": {
    "slideshow": {
     "slide_type": "slide"
    }
   },
   "source": [
    "## Aplicación 3 : Millas por Galón de un Vehículo\n",
    "\n",
    "#### Estas investigando que vehículo comprar con un prestamo de vehículo que conseguiste. No te interesa mucho el costo, pero si cuantas millas por galón de gasolina puede recorrer. Tienes información de algunos vehículos, pero quieres saber cuanto puede recorrer solo con la información del vehículo. Creas un arbol de regresión con este proposito.\n",
    "\n",
    "![title](https://article.images.consumerreports.org/w_767,ar_32:11,c_lfill/prod/content/dam/cro/news_articles/cars/CR-BG-Sports-Car-Hero-08-16)\n",
    "<a id=\"mpg\"></a>"
   ]
  },
  {
   "cell_type": "markdown",
   "metadata": {
    "slideshow": {
     "slide_type": "skip"
    }
   },
   "source": [
    "#### Visualicemos los datos."
   ]
  },
  {
   "cell_type": "code",
   "execution_count": 275,
   "metadata": {
    "slideshow": {
     "slide_type": "skip"
    }
   },
   "outputs": [
    {
     "data": {
      "text/html": [
       "<div>\n",
       "<style>\n",
       "    .dataframe thead tr:only-child th {\n",
       "        text-align: right;\n",
       "    }\n",
       "\n",
       "    .dataframe thead th {\n",
       "        text-align: left;\n",
       "    }\n",
       "\n",
       "    .dataframe tbody tr th {\n",
       "        vertical-align: top;\n",
       "    }\n",
       "</style>\n",
       "<table border=\"1\" class=\"dataframe\">\n",
       "  <thead>\n",
       "    <tr style=\"text-align: right;\">\n",
       "      <th></th>\n",
       "      <th>mpg</th>\n",
       "      <th>cilindros</th>\n",
       "      <th>disp</th>\n",
       "      <th>CDF</th>\n",
       "      <th>Peso</th>\n",
       "      <th>Aceleracion</th>\n",
       "    </tr>\n",
       "  </thead>\n",
       "  <tbody>\n",
       "    <tr>\n",
       "      <th>0</th>\n",
       "      <td>18.0</td>\n",
       "      <td>8</td>\n",
       "      <td>307.0</td>\n",
       "      <td>130</td>\n",
       "      <td>3504</td>\n",
       "      <td>12.0</td>\n",
       "    </tr>\n",
       "    <tr>\n",
       "      <th>1</th>\n",
       "      <td>15.0</td>\n",
       "      <td>8</td>\n",
       "      <td>350.0</td>\n",
       "      <td>165</td>\n",
       "      <td>3693</td>\n",
       "      <td>11.5</td>\n",
       "    </tr>\n",
       "    <tr>\n",
       "      <th>2</th>\n",
       "      <td>18.0</td>\n",
       "      <td>8</td>\n",
       "      <td>318.0</td>\n",
       "      <td>150</td>\n",
       "      <td>3436</td>\n",
       "      <td>11.0</td>\n",
       "    </tr>\n",
       "    <tr>\n",
       "      <th>3</th>\n",
       "      <td>16.0</td>\n",
       "      <td>8</td>\n",
       "      <td>304.0</td>\n",
       "      <td>150</td>\n",
       "      <td>3433</td>\n",
       "      <td>12.0</td>\n",
       "    </tr>\n",
       "    <tr>\n",
       "      <th>4</th>\n",
       "      <td>17.0</td>\n",
       "      <td>8</td>\n",
       "      <td>302.0</td>\n",
       "      <td>140</td>\n",
       "      <td>3449</td>\n",
       "      <td>10.5</td>\n",
       "    </tr>\n",
       "    <tr>\n",
       "      <th>5</th>\n",
       "      <td>15.0</td>\n",
       "      <td>8</td>\n",
       "      <td>429.0</td>\n",
       "      <td>198</td>\n",
       "      <td>4341</td>\n",
       "      <td>10.0</td>\n",
       "    </tr>\n",
       "    <tr>\n",
       "      <th>6</th>\n",
       "      <td>14.0</td>\n",
       "      <td>8</td>\n",
       "      <td>454.0</td>\n",
       "      <td>220</td>\n",
       "      <td>4354</td>\n",
       "      <td>9.0</td>\n",
       "    </tr>\n",
       "    <tr>\n",
       "      <th>7</th>\n",
       "      <td>14.0</td>\n",
       "      <td>8</td>\n",
       "      <td>440.0</td>\n",
       "      <td>215</td>\n",
       "      <td>4312</td>\n",
       "      <td>8.5</td>\n",
       "    </tr>\n",
       "    <tr>\n",
       "      <th>8</th>\n",
       "      <td>14.0</td>\n",
       "      <td>8</td>\n",
       "      <td>455.0</td>\n",
       "      <td>225</td>\n",
       "      <td>4425</td>\n",
       "      <td>10.0</td>\n",
       "    </tr>\n",
       "    <tr>\n",
       "      <th>9</th>\n",
       "      <td>15.0</td>\n",
       "      <td>8</td>\n",
       "      <td>390.0</td>\n",
       "      <td>190</td>\n",
       "      <td>3850</td>\n",
       "      <td>8.5</td>\n",
       "    </tr>\n",
       "  </tbody>\n",
       "</table>\n",
       "</div>"
      ],
      "text/plain": [
       "    mpg  cilindros   disp  CDF  Peso  Aceleracion\n",
       "0  18.0          8  307.0  130  3504         12.0\n",
       "1  15.0          8  350.0  165  3693         11.5\n",
       "2  18.0          8  318.0  150  3436         11.0\n",
       "3  16.0          8  304.0  150  3433         12.0\n",
       "4  17.0          8  302.0  140  3449         10.5\n",
       "5  15.0          8  429.0  198  4341         10.0\n",
       "6  14.0          8  454.0  220  4354          9.0\n",
       "7  14.0          8  440.0  215  4312          8.5\n",
       "8  14.0          8  455.0  225  4425         10.0\n",
       "9  15.0          8  390.0  190  3850          8.5"
      ]
     },
     "execution_count": 275,
     "metadata": {},
     "output_type": "execute_result"
    }
   ],
   "source": [
    "cars = pd.read_csv('carros.csv')\n",
    "cars.head(10)"
   ]
  },
  {
   "cell_type": "markdown",
   "metadata": {
    "slideshow": {
     "slide_type": "skip"
    }
   },
   "source": [
    "### Creamos el arbol y lo evaluamos con el error cuadrado promedio."
   ]
  },
  {
   "cell_type": "code",
   "execution_count": 276,
   "metadata": {
    "slideshow": {
     "slide_type": "skip"
    }
   },
   "outputs": [
    {
     "name": "stdout",
     "output_type": "stream",
     "text": [
      " 0 :  disp <= 304.0\n",
      "  1 :   cilindros <= 6.0\n",
      "   2 :    CDF <= 100.0\n",
      "    3 :     Peso <= 2045.0\n",
      "     4 :      32.675000000000004\n",
      "     4 :      26.800833333333333\n",
      "    3 :     Peso <= 3490.0\n",
      "     4 :      21.900000000000002\n",
      "     4 :      17.099999999999998\n",
      "   2 :    Aceleracion <= 11.5\n",
      "    3 :     CDF = 139\n",
      "     4 :      18.1\n",
      "     4 :      17.0\n",
      "    3 :     Peso <= 3810.0\n",
      "     4 :      20.03333333333333\n",
      "     4 :      12.9\n",
      "  1 :   Peso <= 4665.8\n",
      "   2 :    Aceleracion <= 13.5\n",
      "    3 :     CDF <= 150.8\n",
      "     4 :      15.76923076923077\n",
      "     4 :      13.578947368421053\n",
      "    3 :     CDF <= 147.4\n",
      "     4 :      16.25\n",
      "     4 :      16.3\n",
      "   2 :    CDF <= 177.0\n",
      "    3 :     Aceleracion <= 12.0\n",
      "     4 :      14.0\n",
      "     4 :      12.0\n",
      "    3 :     Aceleracion = 11.5\n",
      "     4 :      12.0\n",
      "     4 :      12.5\n"
     ]
    }
   ],
   "source": [
    "Xtrain,Xtest,ytrain,ytest = train_test_split(cars.drop('mpg',axis = 1),cars['mpg'],\n",
    "                                             test_size = 0.4,random_state = 777)\n",
    "Xtrain['mpg'] = ytrain\n",
    "carros_tree = Build_Reg_Tree(Xtrain,'mpg',max_depth = 4)\n",
    "Imprimir_Arbol(carros_tree)"
   ]
  },
  {
   "cell_type": "code",
   "execution_count": 277,
   "metadata": {
    "collapsed": true,
    "slideshow": {
     "slide_type": "skip"
    }
   },
   "outputs": [],
   "source": [
    "def Reg_Test(sample,tree,target, verbose = True):\n",
    "    error = 0\n",
    "    for index,row in sample.iterrows():\n",
    "        real = row[target]\n",
    "        prediction = Predict(tree,row)\n",
    "        if verbose:\n",
    "            print(\"Expected: \" + str(real) + \" Predicted: \" + str(prediction))\n",
    "        error += (real - prediction) ** 2\n",
    "    MSE  = error/len(sample)\n",
    "    print(\"MSE final: {}\".format(MSE))\n",
    "    return MSE"
   ]
  },
  {
   "cell_type": "code",
   "execution_count": 278,
   "metadata": {
    "slideshow": {
     "slide_type": "skip"
    }
   },
   "outputs": [
    {
     "name": "stdout",
     "output_type": "stream",
     "text": [
      "MSE final: 22.20077004834157\n"
     ]
    },
    {
     "data": {
      "text/plain": [
       "22.200770048341571"
      ]
     },
     "execution_count": 278,
     "metadata": {},
     "output_type": "execute_result"
    }
   ],
   "source": [
    "Xtest['mpg'] = ytest\n",
    "Reg_Test(Xtest,carros_tree,'mpg',verbose = False)"
   ]
  },
  {
   "cell_type": "markdown",
   "metadata": {
    "slideshow": {
     "slide_type": "skip"
    }
   },
   "source": [
    "### Vamos a compararlo con un arbol de sklearn y visualizarlo por ahi mismo."
   ]
  },
  {
   "cell_type": "code",
   "execution_count": 279,
   "metadata": {
    "slideshow": {
     "slide_type": "skip"
    }
   },
   "outputs": [
    {
     "name": "stdout",
     "output_type": "stream",
     "text": [
      "MSE del modelo 18.385944800450478\n"
     ]
    }
   ],
   "source": [
    "carroreg = DecisionTreeRegressor(max_depth=2)\n",
    "carroreg.fit(Xtrain.drop('mpg',axis = 1),Xtrain['mpg'])\n",
    "print(\"MSE del modelo {}\".format(mean_squared_error(ytest,carroreg.predict(Xtest.drop('mpg',axis = 1)))))"
   ]
  },
  {
   "cell_type": "code",
   "execution_count": 280,
   "metadata": {
    "slideshow": {
     "slide_type": "skip"
    }
   },
   "outputs": [
    {
     "data": {
      "image/svg+xml": [
       "<?xml version=\"1.0\" encoding=\"UTF-8\" standalone=\"no\"?>\r\n",
       "<!DOCTYPE svg PUBLIC \"-//W3C//DTD SVG 1.1//EN\"\r\n",
       " \"http://www.w3.org/Graphics/SVG/1.1/DTD/svg11.dtd\">\r\n",
       "<!-- Generated by graphviz version 2.38.0 (20140413.2041)\r\n",
       " -->\r\n",
       "<!-- Title: Tree Pages: 1 -->\r\n",
       "<svg width=\"574pt\" height=\"224pt\"\r\n",
       " viewBox=\"0.00 0.00 574.00 224.00\" xmlns=\"http://www.w3.org/2000/svg\" xmlns:xlink=\"http://www.w3.org/1999/xlink\">\r\n",
       "<g id=\"graph0\" class=\"graph\" transform=\"scale(1 1) rotate(0) translate(4 220)\">\r\n",
       "<title>Tree</title>\r\n",
       "<polygon fill=\"white\" stroke=\"none\" points=\"-4,4 -4,-220 570,-220 570,4 -4,4\"/>\r\n",
       "<!-- 0 -->\r\n",
       "<g id=\"node1\" class=\"node\"><title>0</title>\r\n",
       "<path fill=\"#e58139\" fill-opacity=\"0.513725\" stroke=\"black\" d=\"M339,-216C339,-216 227,-216 227,-216 221,-216 215,-210 215,-204 215,-204 215,-175 215,-175 215,-169 221,-163 227,-163 227,-163 339,-163 339,-163 345,-163 351,-169 351,-175 351,-175 351,-204 351,-204 351,-210 345,-216 339,-216\"/>\r\n",
       "<text text-anchor=\"middle\" x=\"283\" y=\"-200.8\" font-family=\"Helvetica,sans-Serif\" font-size=\"14.00\">disp &lt;= 190.5</text>\r\n",
       "<text text-anchor=\"middle\" x=\"283\" y=\"-185.8\" font-family=\"Helvetica,sans-Serif\" font-size=\"14.00\">samples = 100.0%</text>\r\n",
       "<text text-anchor=\"middle\" x=\"283\" y=\"-170.8\" font-family=\"Helvetica,sans-Serif\" font-size=\"14.00\">value = 23.9252</text>\r\n",
       "</g>\r\n",
       "<!-- 1 -->\r\n",
       "<g id=\"node2\" class=\"node\"><title>1</title>\r\n",
       "<path fill=\"#e58139\" fill-opacity=\"0.780392\" stroke=\"black\" d=\"M262,-127C262,-127 158,-127 158,-127 152,-127 146,-121 146,-115 146,-115 146,-86 146,-86 146,-80 152,-74 158,-74 158,-74 262,-74 262,-74 268,-74 274,-80 274,-86 274,-86 274,-115 274,-115 274,-121 268,-127 262,-127\"/>\r\n",
       "<text text-anchor=\"middle\" x=\"210\" y=\"-111.8\" font-family=\"Helvetica,sans-Serif\" font-size=\"14.00\">CDF &lt;= 76.5</text>\r\n",
       "<text text-anchor=\"middle\" x=\"210\" y=\"-96.8\" font-family=\"Helvetica,sans-Serif\" font-size=\"14.00\">samples = 59.2%</text>\r\n",
       "<text text-anchor=\"middle\" x=\"210\" y=\"-81.8\" font-family=\"Helvetica,sans-Serif\" font-size=\"14.00\">value = 28.9645</text>\r\n",
       "</g>\r\n",
       "<!-- 0&#45;&gt;1 -->\r\n",
       "<g id=\"edge1\" class=\"edge\"><title>0&#45;&gt;1</title>\r\n",
       "<path fill=\"none\" stroke=\"black\" d=\"M261.492,-162.868C254.206,-154.184 245.955,-144.35 238.226,-135.139\"/>\r\n",
       "<polygon fill=\"black\" stroke=\"black\" points=\"240.715,-132.661 231.606,-127.25 235.353,-137.16 240.715,-132.661\"/>\r\n",
       "<text text-anchor=\"middle\" x=\"229.427\" y=\"-148.455\" font-family=\"Helvetica,sans-Serif\" font-size=\"14.00\">True</text>\r\n",
       "</g>\r\n",
       "<!-- 4 -->\r\n",
       "<g id=\"node5\" class=\"node\"><title>4</title>\r\n",
       "<path fill=\"#e58139\" fill-opacity=\"0.129412\" stroke=\"black\" d=\"M408,-127C408,-127 304,-127 304,-127 298,-127 292,-121 292,-115 292,-115 292,-86 292,-86 292,-80 298,-74 304,-74 304,-74 408,-74 408,-74 414,-74 420,-80 420,-86 420,-86 420,-115 420,-115 420,-121 414,-127 408,-127\"/>\r\n",
       "<text text-anchor=\"middle\" x=\"356\" y=\"-111.8\" font-family=\"Helvetica,sans-Serif\" font-size=\"14.00\">Peso &lt;= 3701.0</text>\r\n",
       "<text text-anchor=\"middle\" x=\"356\" y=\"-96.8\" font-family=\"Helvetica,sans-Serif\" font-size=\"14.00\">samples = 40.8%</text>\r\n",
       "<text text-anchor=\"middle\" x=\"356\" y=\"-81.8\" font-family=\"Helvetica,sans-Serif\" font-size=\"14.00\">value = 16.6</text>\r\n",
       "</g>\r\n",
       "<!-- 0&#45;&gt;4 -->\r\n",
       "<g id=\"edge4\" class=\"edge\"><title>0&#45;&gt;4</title>\r\n",
       "<path fill=\"none\" stroke=\"black\" d=\"M304.508,-162.868C311.794,-154.184 320.045,-144.35 327.774,-135.139\"/>\r\n",
       "<polygon fill=\"black\" stroke=\"black\" points=\"330.647,-137.16 334.394,-127.25 325.285,-132.661 330.647,-137.16\"/>\r\n",
       "<text text-anchor=\"middle\" x=\"336.573\" y=\"-148.455\" font-family=\"Helvetica,sans-Serif\" font-size=\"14.00\">False</text>\r\n",
       "</g>\r\n",
       "<!-- 2 -->\r\n",
       "<g id=\"node3\" class=\"node\"><title>2</title>\r\n",
       "<path fill=\"#e58139\" stroke=\"black\" d=\"M116,-38C116,-38 12,-38 12,-38 6,-38 0,-32 0,-26 0,-26 0,-12 0,-12 0,-6 6,-0 12,-0 12,-0 116,-0 116,-0 122,-0 128,-6 128,-12 128,-12 128,-26 128,-26 128,-32 122,-38 116,-38\"/>\r\n",
       "<text text-anchor=\"middle\" x=\"64\" y=\"-22.8\" font-family=\"Helvetica,sans-Serif\" font-size=\"14.00\">samples = 25.6%</text>\r\n",
       "<text text-anchor=\"middle\" x=\"64\" y=\"-7.8\" font-family=\"Helvetica,sans-Serif\" font-size=\"14.00\">value = 33.1836</text>\r\n",
       "</g>\r\n",
       "<!-- 1&#45;&gt;2 -->\r\n",
       "<g id=\"edge2\" class=\"edge\"><title>1&#45;&gt;2</title>\r\n",
       "<path fill=\"none\" stroke=\"black\" d=\"M163.001,-73.9081C144.828,-64.0128 124.183,-52.771 106.465,-43.1232\"/>\r\n",
       "<polygon fill=\"black\" stroke=\"black\" points=\"107.952,-39.9473 97.4953,-38.2389 104.604,-46.095 107.952,-39.9473\"/>\r\n",
       "</g>\r\n",
       "<!-- 3 -->\r\n",
       "<g id=\"node4\" class=\"node\"><title>3</title>\r\n",
       "<path fill=\"#e58139\" fill-opacity=\"0.607843\" stroke=\"black\" d=\"M262,-38C262,-38 158,-38 158,-38 152,-38 146,-32 146,-26 146,-26 146,-12 146,-12 146,-6 152,-0 158,-0 158,-0 262,-0 262,-0 268,-0 274,-6 274,-12 274,-12 274,-26 274,-26 274,-32 268,-38 262,-38\"/>\r\n",
       "<text text-anchor=\"middle\" x=\"210\" y=\"-22.8\" font-family=\"Helvetica,sans-Serif\" font-size=\"14.00\">samples = 33.6%</text>\r\n",
       "<text text-anchor=\"middle\" x=\"210\" y=\"-7.8\" font-family=\"Helvetica,sans-Serif\" font-size=\"14.00\">value = 25.7475</text>\r\n",
       "</g>\r\n",
       "<!-- 1&#45;&gt;3 -->\r\n",
       "<g id=\"edge3\" class=\"edge\"><title>1&#45;&gt;3</title>\r\n",
       "<path fill=\"none\" stroke=\"black\" d=\"M210,-73.9081C210,-65.7377 210,-56.6492 210,-48.2981\"/>\r\n",
       "<polygon fill=\"black\" stroke=\"black\" points=\"213.5,-48.2389 210,-38.2389 206.5,-48.2389 213.5,-48.2389\"/>\r\n",
       "</g>\r\n",
       "<!-- 5 -->\r\n",
       "<g id=\"node6\" class=\"node\"><title>5</title>\r\n",
       "<path fill=\"#e58139\" fill-opacity=\"0.274510\" stroke=\"black\" d=\"M408,-38C408,-38 304,-38 304,-38 298,-38 292,-32 292,-26 292,-26 292,-12 292,-12 292,-6 298,-0 304,-0 304,-0 408,-0 408,-0 414,-0 420,-6 420,-12 420,-12 420,-26 420,-26 420,-32 414,-38 408,-38\"/>\r\n",
       "<text text-anchor=\"middle\" x=\"356\" y=\"-22.8\" font-family=\"Helvetica,sans-Serif\" font-size=\"14.00\">samples = 19.3%</text>\r\n",
       "<text text-anchor=\"middle\" x=\"356\" y=\"-7.8\" font-family=\"Helvetica,sans-Serif\" font-size=\"14.00\">value = 19.3326</text>\r\n",
       "</g>\r\n",
       "<!-- 4&#45;&gt;5 -->\r\n",
       "<g id=\"edge5\" class=\"edge\"><title>4&#45;&gt;5</title>\r\n",
       "<path fill=\"none\" stroke=\"black\" d=\"M356,-73.9081C356,-65.7377 356,-56.6492 356,-48.2981\"/>\r\n",
       "<polygon fill=\"black\" stroke=\"black\" points=\"359.5,-48.2389 356,-38.2389 352.5,-48.2389 359.5,-48.2389\"/>\r\n",
       "</g>\r\n",
       "<!-- 6 -->\r\n",
       "<g id=\"node7\" class=\"node\"><title>6</title>\r\n",
       "<path fill=\"none\" stroke=\"black\" d=\"M554,-38C554,-38 450,-38 450,-38 444,-38 438,-32 438,-26 438,-26 438,-12 438,-12 438,-6 444,-0 450,-0 450,-0 554,-0 554,-0 560,-0 566,-6 566,-12 566,-12 566,-26 566,-26 566,-32 560,-38 554,-38\"/>\r\n",
       "<text text-anchor=\"middle\" x=\"502\" y=\"-22.8\" font-family=\"Helvetica,sans-Serif\" font-size=\"14.00\">samples = 21.4%</text>\r\n",
       "<text text-anchor=\"middle\" x=\"502\" y=\"-7.8\" font-family=\"Helvetica,sans-Serif\" font-size=\"14.00\">value = 14.1353</text>\r\n",
       "</g>\r\n",
       "<!-- 4&#45;&gt;6 -->\r\n",
       "<g id=\"edge6\" class=\"edge\"><title>4&#45;&gt;6</title>\r\n",
       "<path fill=\"none\" stroke=\"black\" d=\"M402.999,-73.9081C421.172,-64.0128 441.817,-52.771 459.535,-43.1232\"/>\r\n",
       "<polygon fill=\"black\" stroke=\"black\" points=\"461.396,-46.095 468.505,-38.2389 458.048,-39.9473 461.396,-46.095\"/>\r\n",
       "</g>\r\n",
       "</g>\r\n",
       "</svg>\r\n"
      ],
      "text/plain": [
       "<graphviz.files.Source at 0x1c7615de7b8>"
      ]
     },
     "execution_count": 280,
     "metadata": {},
     "output_type": "execute_result"
    }
   ],
   "source": [
    "export_graphviz(carroreg.tree_,'CarroTree.dot',feature_names = list(Xtrain.drop(\"mpg\",axis=1).columns)\n",
    "                ,proportion = True,impurity = False,rounded = True,filled=True)\n",
    "\n",
    "with open(\"CarroTree.dot\") as f:\n",
    "    dot_graph = f.read()\n",
    "graphviz.Source(dot_graph)"
   ]
  },
  {
   "cell_type": "markdown",
   "metadata": {
    "slideshow": {
     "slide_type": "slide"
    }
   },
   "source": [
    "## Validación en cruz\n",
    "\n",
    "### Hasta ahora, hemos estado validando nuestro modelo separando los datos entre datos de entrenamiento y datos de prueba. Pero que pasa si tenemos suerte (o en realidad, mala suerte) y los datos de prueba que utilizamos para validar son exactamente como los de entrenamiento y nuestro modelo en realidad no generalizó bien? \n"
   ]
  },
  {
   "cell_type": "markdown",
   "metadata": {
    "slideshow": {
     "slide_type": "subslide"
    }
   },
   "source": [
    "### Para evitar esto, empleamos *validación en cruz*. Dividimos los datos en entrenamiento y prueba y validamos el modelo.  Luego, agremos los datos que utilizamos para probar el modelo a los datos de entrenamiento, y  utilizamos como datos de prueba, datos diferentes a los utilizados para validar la vez anterior. Y así sucesivamente, hasta validar con todos los datos. \n",
    "\n",
    "![title](http://www.thefactmachine.com/wp-content/uploads/2015/03/13-Kfold-CrossValidation.gif)"
   ]
  },
  {
   "cell_type": "markdown",
   "metadata": {
    "slideshow": {
     "slide_type": "fragment"
    }
   },
   "source": [
    "### Si promediamos el rendimiento en cada validación, sabremos si el modelo en verdad pudo generalizar bien.  Esto tambien nos ayuda a saber si escogimos bien los parametros del modelo, el cual nos lleva a..."
   ]
  },
  {
   "cell_type": "markdown",
   "metadata": {
    "slideshow": {
     "slide_type": "slide"
    }
   },
   "source": [
    "## Optimización de parametros del modelo\n",
    "\n",
    "### En regresión lineal y logistica, solo teniamos que buscar el mejor valor para el ritmo de aprendizaje, el cual podiamos buscar hasta de manera manual. Pero, hemos visto en los modelos de regularización y en los arboles de decisión, que algunos modelos pueden tener varios parametros. Esto hace que buscar los parametros manualmente sea demasiado tedioso. \n",
    "\n",
    "### Utilizando validación en cruz, y diferentes combinaciones de los parametros del modelo, podemos encontrar la combinación que generalice mejor. Hay dos maneras comunes de buscar estos parametros:"
   ]
  },
  {
   "cell_type": "markdown",
   "metadata": {
    "slideshow": {
     "slide_type": "subslide"
    }
   },
   "source": [
    "### Busqueda  Exhaustiva\n",
    "\n",
    "#### En la busqueda exhaustiva, definimos en una lista los posibles valores de cada parametro. Ejemplo:\n",
    "\n",
    "#### $$ max \\ depth = [1,2,3,4,5] $$\n",
    "#### $$ min \\ size = [2,10,20,30] $$\n",
    "\n",
    "#### Probamos todas las combinaciones posibles de max_depth y min_size hasta obtener la combinación que nos da el mejor error de validación. Este procedimiento esta casi seguro de encontrar la mejor combinación de parametros, con la desventaja de que es lento, ya que tiene que entrenar un modelo para cada combinación."
   ]
  },
  {
   "cell_type": "markdown",
   "metadata": {
    "slideshow": {
     "slide_type": "subslide"
    }
   },
   "source": [
    "### Busqueda Aleatoria \n",
    "\n",
    "#### En la busqueda aleatoria, definimos un rango de los posibles valores de cada parametro. Ejemplo: \n",
    "\n",
    "#### $$ max \\ depth = [1,8] $$\n",
    "#### $$ min \\ size = [1,100] $$ \n",
    "\n",
    "#### Probamos varias combinaciones de max_depth y min_size hasta y nos quedamos con la combinación que nos da el mejor error de validación. Este procedimiento es tan rápido como deseamos, pero nos podemos perder del mejor parametro posible, ya que probamos aleatoriamente."
   ]
  },
  {
   "cell_type": "markdown",
   "metadata": {
    "slideshow": {
     "slide_type": "slide"
    }
   },
   "source": [
    "## Aplicación 4 Optimizar Arbol Titanic\n",
    "\n",
    "### Basandonos en el arbol creado anteriormente, creemos un arbol que minimice el error de validación para los datos del Titanic vistos anteriormente.\n",
    "\n",
    "![title](https://upload.wikimedia.org/wikipedia/commons/f/f3/CART_tree_titanic_survivors.png)\n",
    "<a id=\"opt\"></a>"
   ]
  },
  {
   "cell_type": "markdown",
   "metadata": {
    "slideshow": {
     "slide_type": "skip"
    }
   },
   "source": [
    "### Primero, vamos a definir la validación en cruz. "
   ]
  },
  {
   "cell_type": "code",
   "execution_count": 281,
   "metadata": {
    "slideshow": {
     "slide_type": "skip"
    }
   },
   "outputs": [
    {
     "name": "stdout",
     "output_type": "stream",
     "text": [
      "Creando folde 1\n",
      "Certeza en el folde 1: 0.8146067415730337\n",
      "Creando folde 2\n",
      "Certeza en el folde 2: 0.797752808988764\n",
      "Creando folde 3\n",
      "Certeza en el folde 3: 0.7865168539325843\n",
      "Creando folde 4\n",
      "Certeza en el folde 4: 0.7359550561797753\n",
      "Creando folde 5\n",
      "Certeza en el folde 5: 0.797752808988764\n",
      "Error CV: 0.7865168539325842\n"
     ]
    },
    {
     "data": {
      "text/plain": [
       "0.78651685393258419"
      ]
     },
     "execution_count": 281,
     "metadata": {},
     "output_type": "execute_result"
    }
   ],
   "source": [
    "def Validacion_Cruz(datos,target,min_size,max_depth,tamaño = 5,verbose = False):\n",
    "    datos = datos.sample(frac = 1.) # Mezclar los datos\n",
    "    test_size = len(datos) // tamaño\n",
    "    errores = []\n",
    "    full_size = len(datos)\n",
    "    for i in range(tamaño):\n",
    "        if verbose:\n",
    "            print(\"Creando folde {}\".format(i+1))\n",
    "        test =  titanic.iloc[i * test_size :(i + 1) * test_size] #Conseguir datos de prueba\n",
    "        train_mask = np.logical_not(titanic.index.isin(test.index)) #Conseguir los datos que no estan en prueba\n",
    "        train = titanic.loc[train_mask] #Setear datos de entrenamiento\n",
    "        \n",
    "        train_root = Crear_Arbol(train,target = target,min_size = min_size, max_depth= max_depth)\n",
    "        error = Test(test,train_root,target,verbose = False)\n",
    "        if verbose:\n",
    "            print(\"Certeza en el folde {}: {}\".format(i+1,error))\n",
    "        errores.append(error)\n",
    "    promedio = np.array(errores).mean()\n",
    "    print(\"Error CV: {}\".format(promedio))\n",
    "    \n",
    "    return promedio\n",
    "\n",
    "Validacion_Cruz(titanic,\"Sobrevivio\",min_size = 2,max_depth = 3,verbose = True)"
   ]
  },
  {
   "cell_type": "markdown",
   "metadata": {
    "slideshow": {
     "slide_type": "skip"
    }
   },
   "source": [
    "### Ahora, creamos ambas formas de optimizar los paremetros.  Para el exhaustivo, definimos todos los valores posibles."
   ]
  },
  {
   "cell_type": "code",
   "execution_count": 282,
   "metadata": {
    "slideshow": {
     "slide_type": "skip"
    }
   },
   "outputs": [
    {
     "name": "stdout",
     "output_type": "stream",
     "text": [
      "Probando para profundidad 1 y min size 2\n",
      "Error CV: 0.7865168539325842\n",
      "Probando para profundidad 1 y min size 148\n",
      "Error CV: 0.7865168539325842\n",
      "Probando para profundidad 1 y min size 222\n",
      "Error CV: 0.7865168539325842\n",
      "Probando para profundidad 3 y min size 2\n",
      "Error CV: 0.7865168539325842\n",
      "Probando para profundidad 3 y min size 148\n",
      "Error CV: 0.7865168539325842\n",
      "Probando para profundidad 3 y min size 222\n",
      "Error CV: 0.7865168539325842\n",
      "Probando para profundidad 5 y min size 2\n",
      "Error CV: 0.7898876404494382\n",
      "Probando para profundidad 5 y min size 148\n",
      "Error CV: 0.7865168539325843\n",
      "Probando para profundidad 5 y min size 222\n",
      "Error CV: 0.7865168539325842\n",
      "Mejor combinación fue profunidad 5 y min size 2. Accuracy: 0.7899\n"
     ]
    },
    {
     "data": {
      "text/plain": [
       "[5, 2]"
      ]
     },
     "execution_count": 282,
     "metadata": {},
     "output_type": "execute_result"
    }
   ],
   "source": [
    "def Busqueda_Exhaustiva(datos,target,profundidades,sizes,tamaño = 5,verbose = False):\n",
    "    best_accuracy = 0\n",
    "    best_depth = 0\n",
    "    best_size = 0\n",
    "    #Probar todas las combinaciones\n",
    "    for d in profundidades:\n",
    "        for size in sizes:\n",
    "            print(\"Probando para profundidad {} y min size {}\".format(d,size))\n",
    "            rendimiento = Validacion_Cruz(datos,target,size,d,tamaño,verbose)\n",
    "            if rendimiento > best_accuracy:\n",
    "                best_accuracy = rendimiento\n",
    "                best_depth = d\n",
    "                best_size = size\n",
    "    \n",
    "    print(\"Mejor combinación fue profunidad {} y min size {}. Accuracy: {}\".format(best_depth,best_size,round(best_accuracy,4)))\n",
    "    return [best_depth,best_size]\n",
    "    \n",
    "profundidades = [1,3,5]\n",
    "sizes = [2,len(titanic)//6,len(titanic)//4]\n",
    "Busqueda_Exhaustiva(titanic,'Sobrevivio',profundidades,sizes)"
   ]
  },
  {
   "cell_type": "markdown",
   "metadata": {
    "slideshow": {
     "slide_type": "skip"
    }
   },
   "source": [
    "#### Para la busqueda aleatoria, definimos los rangos de los cuales queremos sacar los valores de los parametros, y establecemos un numero de intentos de la busqueda."
   ]
  },
  {
   "cell_type": "code",
   "execution_count": 283,
   "metadata": {
    "slideshow": {
     "slide_type": "skip"
    }
   },
   "outputs": [
    {
     "name": "stdout",
     "output_type": "stream",
     "text": [
      "Probando para profundidad 4 y min size 181\n",
      "Error CV: 0.7867564534231201\n",
      "Probando para profundidad 6 y min size 71\n",
      "Error CV: 0.7789001122334455\n",
      "Probando para profundidad 6 y min size 208\n",
      "Error CV: 0.7867564534231201\n",
      "Probando para profundidad 3 y min size 24\n",
      "Error CV: 0.7867564534231201\n",
      "Probando para profundidad 4 y min size 99\n",
      "Error CV: 0.7777777777777778\n",
      "Probando para profundidad 3 y min size 80\n",
      "Error CV: 0.7867564534231201\n",
      "Probando para profundidad 1 y min size 123\n",
      "Error CV: 0.7867564534231201\n",
      "Mejor combinación fue profunidad 4 y min size 181. Accuracy: 0.79\n"
     ]
    },
    {
     "data": {
      "text/plain": [
       "[4, 181]"
      ]
     },
     "execution_count": 283,
     "metadata": {},
     "output_type": "execute_result"
    }
   ],
   "source": [
    "def Busqueda_Aleatoria(datos,target,profundidad_range,sizes_range,tamaño = 3,intentos = 7,verbose = False):\n",
    "    best_accuracy = 0\n",
    "    best_depth = 0\n",
    "    best_size = 0\n",
    "    #Probar combinaciones hasta agotar intentos.\n",
    "    for i in range(intentos):\n",
    "        d = np.random.randint(profundidad_range[0],profundidad_range[1])\n",
    "        size = np.random.randint(sizes_range[0],sizes_range[1])\n",
    "        print(\"Probando para profundidad {} y min size {}\".format(d,size))\n",
    "        rendimiento = Validacion_Cruz(datos,target,size,d,tamaño,verbose)\n",
    "        if rendimiento > best_accuracy:\n",
    "            best_accuracy = rendimiento\n",
    "            best_depth = d\n",
    "            best_size = size\n",
    "    \n",
    "    print(\"Mejor combinación fue profunidad {} y min size {}. Accuracy: {}\".format(best_depth,best_size,round(best_accuracy,2)))\n",
    "    return [best_depth,best_size]\n",
    "\n",
    "profundidad_range = [1,(titanic.shape[1] - 1)]\n",
    "sizes_range = [2,len(titanic)//4]\n",
    "Busqueda_Aleatoria(titanic,'Sobrevivio',profundidad_range,sizes_range)"
   ]
  },
  {
   "cell_type": "markdown",
   "metadata": {
    "slideshow": {
     "slide_type": "slide"
    }
   },
   "source": [
    "### Para cerrar, estas no son las unicas formas de obtener los mejores \"splits\" o divisiones en un arbol. Tambien existen:\n",
    "\n",
    "#### Information Gain: \n",
    "![title](https://wikimedia.org/api/rest_v1/media/math/render/svg/70b8bc9f2666c42790b5aa20b13a55bdc503dbb7)\n",
    "![title](https://wikimedia.org/api/rest_v1/media/math/render/svg/ce0dd99cf3953982028c7a568dafaaf0c82bc0a9)\n",
    "\n",
    "#### Minimización SSE:\n",
    "\n",
    "$$ SSE = \\sum(y_i - \\bar{y_1})^2 + \\sum(y_i - \\bar{y_2})^2$$\n",
    "\n",
    "#### Minimización MAE: \n",
    "\n",
    "$$ MAE = \\sum|y_i - \\bar{y_1}| + \\sum|y_i - \\bar{y_2}|$$\n",
    "\n",
    "#### Entre otros..."
   ]
  },
  {
   "cell_type": "markdown",
   "metadata": {
    "slideshow": {
     "slide_type": "slide"
    }
   },
   "source": [
    "# Preguntas?"
   ]
  }
 ],
 "metadata": {
  "celltoolbar": "Slideshow",
  "kernelspec": {
   "display_name": "Python 3",
   "language": "python",
   "name": "python3"
  },
  "language_info": {
   "codemirror_mode": {
    "name": "ipython",
    "version": 3
   },
   "file_extension": ".py",
   "mimetype": "text/x-python",
   "name": "python",
   "nbconvert_exporter": "python",
   "pygments_lexer": "ipython3",
   "version": "3.6.1"
  }
 },
 "nbformat": 4,
 "nbformat_minor": 2
}
