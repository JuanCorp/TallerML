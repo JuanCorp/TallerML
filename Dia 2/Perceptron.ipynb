{
 "cells": [
  {
   "cell_type": "markdown",
   "metadata": {},
   "source": [
    "# PercepTRON\n",
    "\n",
    "![title](https://upload.wikimedia.org/wikipedia/commons/thumb/b/b0/Perceptr%C3%B3n_5_unidades.svg/400px-Perceptr%C3%B3n_5_unidades.svg.png)\n",
    "<sub> Fuente: https://es.wikipedia.org/wiki/Perceptr%C3%B3n </sub>"
   ]
  },
  {
   "cell_type": "markdown",
   "metadata": {},
   "source": [
    "Ya visto lo que es un perceptrón en la presentación, podemos proceder a implementar un perceptrón en código. El perceptrón nos permitirá modelar decisiones, según caracteristicas o pasos que pertenecen a la decisión. El perceptrón esta dividido en cuatro partes: \n",
    "\n",
    "- La  suma de la multiplicación entre las señales de entrada y los pesos.\n",
    "- Las activaciones de la función de activación sobre la suma. \n",
    "- Calcular el error de las activaciones\n",
    "- Actualizar los pesos según el error u optimización.\n",
    "\n",
    "\n",
    "Vamos a implentarlos paso a paso.\n",
    "\n",
    "## Suma ponderada\n",
    "\n",
    "Lo primero es la suma de los productos entre los pesos $w$ y las entradas $x$, sumados por la predisposición o bias $b$.A esta suma le  llamamos $z$. Esto puede ser definido de dos maneras: \n",
    "\n",
    "- Como una sumatoria de los productos:\n",
    "\n",
    "    $$z = \\sum_{i=1}^{m} x \\cdot w + b $$\n",
    "    \n",
    "- Como un producto punto entre dos matrices:\n",
    "\n",
    "    $$z = X \\cdot w  + b$$\n",
    "    \n",
    "siendo X una matriz con dimensiones (m,n) donde m es la cantidad de ejemplos o filas y n es la cantidad de dimensiones o variables;w es una matriz con dimensions (n,1) y b es una matriz con dimensiones (m,1). Como resultado de la multiplicación se obtiene una matriz con dimensiones (m,1), la cual contiene el resultado de la suma ponderada de cada fila. El bias es añadido a los datos X como una columna que tambien tendra su propio peso. Este metodo es más eficiente a la hora de calcular y funciona de maravilla aún con muchos ejemplos. Por lo tanto implementaremos este producto de vectores con la libreria de algebra lineal **Numpy**. "
   ]
  },
  {
   "cell_type": "code",
   "execution_count": 10,
   "metadata": {},
   "outputs": [],
   "source": [
    "import numpy as np #Primero importamos la libreria numpy. \n",
    "import pandas as pd\n",
    "def suma_ponderada(X,w):\n",
    "    #Funcion que retorna el producto punto entre la matriz de ejemplos X y la matriz de pesos w, sumado por el bias b.\n",
    "    return np.dot(X,w)"
   ]
  },
  {
   "cell_type": "markdown",
   "metadata": {},
   "source": [
    "El siguiente paso es la función de activación.\n",
    "\n",
    "## Función de Activación\n",
    "\n",
    "La función de activación es aquella que determina la solución final del perceptrón. Esta tiene que estar ajustada para que devuelva resultados de la misma magnitud que los resultados reales. Por ejemplo, si los resultados reales que tenemos son solamente $1$ y $0$, nuestra función de activación  tambien solo debe devolver $1$ y $0$ o numeros entre 1 y 0 para ser redondeados hacia el digito más cercano. Una función que hace exactamente esto es la función del  **paso unitario**. Su definición lo dice todo: \n",
    "$$f(z) = \\begin{cases}\n",
    "  0 \\ \\text{if }z < 0\\\\    \n",
    "  1 \\ \\text{if }z \\geq 0    \n",
    "\\end{cases}$$\n",
    "\n",
    "Esto hace que cualquier entrada a la función resulte en un 1 o un 0 como salida. Podemos comprobar esto graficando la función misma para varios valores de z. Para graficar podemos utilizar la libreria **matplotlib** en conjunto con la libreria **seaborn** para hacer graficas que no causen ganas de haber visto el eclipse sin protección. "
   ]
  },
  {
   "cell_type": "code",
   "execution_count": 11,
   "metadata": {},
   "outputs": [
    {
     "data": {
      "image/png": "[encoded data removed]",
      "text/plain": [
       "<matplotlib.figure.Figure at 0xa769a90>"
      ]
     },
     "metadata": {},
     "output_type": "display_data"
    }
   ],
   "source": [
    "import matplotlib.pyplot as plt\n",
    "import seaborn as sns\n",
    "\n",
    "def paso_unitario(z):\n",
    "    #Funcion que transforma las entradas positivas en 1 y las entradas negativas en 0.\n",
    "    activacion = z >= 0 # Transforma los numeros del vector en True y False\n",
    "    return activacion.astype(int) # Transforma los True y False en 1 y 0 respectivamente\n",
    "\n",
    "\n",
    "z = np.arange(-10,10,0.1) #Lista con los numeros del -5 al 5, con a espacios de 0.1 de distancia. \n",
    "y = paso_unitario(z)\n",
    "plt.plot(z,y) #Grafica lineal con z como el eje x, y como el eje...y\n",
    "plt.show() #Despliega la grafica resultante."
   ]
  },
  {
   "cell_type": "markdown",
   "metadata": {},
   "source": [
    "El proximo paso es el calculo del error.\n",
    "\n",
    "## Error\n",
    "\n",
    "Despues de haber realizado la hipotesis sobre cual sería el valor final de la solución, tenemos que evaluar nuestra solución con el valor real del ejemplo. Si nuestra solución se asemeja a la correcta pues el error es minimo  :), si esta lejos a la solución correcta pues el error es grande :(. En este caso, nuestra función es muy estricta con las soluciones, ya que solo puede tener como valor 1 o 0, y si se equivoca el error es máximo. Para calcularlo, es tan simple como restar el valor de nuestra hipotesis del valor esperado."
   ]
  },
  {
   "cell_type": "code",
   "execution_count": 12,
   "metadata": {},
   "outputs": [],
   "source": [
    "def error(esperado,hipotesis):\n",
    "    return esperado - hipotesis\n"
   ]
  },
  {
   "cell_type": "markdown",
   "metadata": {},
   "source": [
    "Luego de haber calculado donde la hipotesis se equivocó, hay que actualizar los pesos del perceptron para minimizar futuras equivocaciones. A este procedimiento se le llama **optimización**.\n",
    "\n",
    "## Optimización.\n",
    "\n",
    "En la optimización, se actualizan los valores de los pesos según el valor del error. Esto se hace sumando una parte del error calculado anteriormente a los pesos actuales $w$. En este sentido, si el valor de la hipotesis es menor que el valor esperado, se le agregaría más valor a ese peso. Por otro lado, si el valor de la hipotesis es mayor que el valor esperado, se le quitaría valor a ese peso. Esto hace que, luego de varias optimizaciones, los pesos converjan en ciertos valores que minimizan el error obtenido.  \n",
    "\n",
    "Sin embargo, si los pesos no están en la misma magnitud que los valores de los ejemplos $x$, el valor actualizado de los pesos no estaría alineado con los datos de ejemplo. Por esto, primero se multiplican los datos de ejemplo por sus respectivos errores, y luego se actualizan los pesos de acuerdo a este producto.Al producto de $x$ y los errores tambien se le multiplica una tasa de aprendizaje $(\\alpha)$, la cual determina que tan grandes son las actualizaciones de los pesos. De tal manera terminamos con la siguiente ecuación:\n",
    "\n",
    "$$ w = w +  \\alpha (X^T  \\cdot  d) $$\n",
    "\n",
    "Donde $d$ es el vector de los errores con dimensiones $(m,1)$ y  $X^T$ es la traspuesta de la matriz de ejemplos, con dimensiones $(n,m)$. Al obtener el producto entre ellas, se obtiene una matriz con dimensiones $(n,1)$, el cual concuerda con las dimensiones del peso $w$. Podemos codificar esta ecuación de la siguiente manera:"
   ]
  },
  {
   "cell_type": "code",
   "execution_count": 13,
   "metadata": {
    "collapsed": true
   },
   "outputs": [],
   "source": [
    "def actualizacion_pesos(X,w,error, alpha = 1):\n",
    "    #funcion que actualiza al vector de pesos w según el error d, los datos X y una taza de aprendizaje alpha.\n",
    "    error_datos = np.dot(X.T,error)\n",
    "    error_reducido = alpha * error_datos\n",
    "    actualizacion = w + error_reducido\n",
    "    return actualizacion"
   ]
  },
  {
   "cell_type": "markdown",
   "metadata": {},
   "source": [
    "Ya con las partes del perceptron completadas, podemos proceder a juntarlas todas en nuestro Perceptron. Este perceptron repetirá estos cuatro pasos por N iteraciones, hasta que el error sea minimizado. Entonces, nuestro modelo de aprendizaje se verá de la siguiente forma:\n",
    "\n",
    "##### Algoritmo del Perceptron\n",
    "    Inicializamos: t = rand(), w = vectorzero()\n",
    "    repetir:\n",
    "        for cada ejemplo de entrenamiento (x,y) do:\n",
    "            for cada parametro j do:\n",
    "                w_j = w_j - (hipotesis - y) * x_j\n",
    "            end for\n",
    "            t = t * (hipotesis - y)\n",
    "        end for\n",
    "    Hasta que el cambio en los parametros sea 0.\n",
    "\n",
    "\n",
    "\n",
    "\n",
    "\n",
    "Vamos a demostrar esto con la funcion booleana logica **NAND**, la cual tiene los siguientes valores: \n",
    "\n",
    "$0 \\ NAND \\  0 = 1 \\\\ \n",
    " 1 \\ NAND \\ 0 = 1 \\\\\n",
    " 0 \\ NAND \\ 1 = 1 \\\\\n",
    " 1 \\ NAND \\ 1 = 0 $\n",
    " "
   ]
  },
  {
   "cell_type": "code",
   "execution_count": 23,
   "metadata": {},
   "outputs": [],
   "source": [
    "def Graficar_Perceptron(X,y,w):\n",
    "    datos = pd.DataFrame({'p':X[:,1],'q':X[:,2],'Valor':y})\n",
    "    sns.lmplot(x = 'p', y ='q', hue = 'Valor', data = datos,fit_reg = False)\n",
    "    x_min = datos.p.min()\n",
    "    x_max = datos.p.max()\n",
    "    y_min = w[0] + x_min * w[1]\n",
    "    y_max = w[0] + x_max * w[1]\n",
    "    plt.plot([x_min,x_max],[y_min,y_max],linewidth = 1)\n",
    "    plt.show()"
   ]
  },
  {
   "cell_type": "code",
   "execution_count": 25,
   "metadata": {
    "scrolled": false
   },
   "outputs": [
    {
     "data": {
      "image/png": "[encoded data removed]",
      "text/plain": [
       "<matplotlib.figure.Figure at 0xbc42c50>"
      ]
     },
     "metadata": {},
     "output_type": "display_data"
    },
    {
     "name": "stdout",
     "output_type": "stream",
     "text": [
      "Errores en la iteracion 1: 1\n",
      "Pesos en la iteracion 1: [-1. -1. -1.]\n"
     ]
    },
    {
     "data": {
      "image/png": "[encoded data removed]",
      "text/plain": [
       "<matplotlib.figure.Figure at 0xbe45fd0>"
      ]
     },
     "metadata": {},
     "output_type": "display_data"
    },
    {
     "name": "stdout",
     "output_type": "stream",
     "text": [
      "Errores en la iteracion 2: 3\n",
      "Pesos en la iteracion 2: [ 2.  0.  0.]\n"
     ]
    },
    {
     "data": {
      "image/png": "[encoded data removed]",
      "text/plain": [
       "<matplotlib.figure.Figure at 0xbe4f748>"
      ]
     },
     "metadata": {},
     "output_type": "display_data"
    },
    {
     "name": "stdout",
     "output_type": "stream",
     "text": [
      "Errores en la iteracion 3: 1\n",
      "Pesos en la iteracion 3: [ 1. -1. -1.]\n"
     ]
    },
    {
     "data": {
      "image/png": "[encoded data removed]",
      "text/plain": [
       "<matplotlib.figure.Figure at 0xa4307f0>"
      ]
     },
     "metadata": {},
     "output_type": "display_data"
    },
    {
     "name": "stdout",
     "output_type": "stream",
     "text": [
      "Errores en la iteracion 4: 0\n",
      "Pesos en la iteracion 4: [ 1. -1. -1.]\n",
      "Tomo 4 iteraciones\n"
     ]
    },
    {
     "data": {
      "image/png": "[encoded data removed]",
      "text/plain": [
       "<matplotlib.figure.Figure at 0xa6f3e10>"
      ]
     },
     "metadata": {},
     "output_type": "display_data"
    },
    {
     "name": "stdout",
     "output_type": "stream",
     "text": [
      "Pesos finales [ 1. -1. -1.]\n"
     ]
    }
   ],
   "source": [
    "def Perceptron(X,y,N = 10):\n",
    "    weights = np.zeros(X.shape[1]) #Inicializar los pesos en 0, y ajustado al numero de columnas en X. \n",
    "    errores = []\n",
    "    \n",
    "    total_errores = 1  #Pararemos cuando ya no hayan erorres \n",
    "    i = 0 # O pasemos de las iteraciones maximas.\n",
    "    while total_errores and i < N:\n",
    "        # los 4 pasos.\n",
    "        Graficar_Perceptron(X,y,weights)\n",
    "        z = suma_ponderada(X,weights)\n",
    "        hipotesis = paso_unitario(z)\n",
    "        d = error(y,hipotesis)\n",
    "        weights = actualizacion_pesos(X,weights,d)\n",
    "        \n",
    "        total_errores = sum(np.absolute(d))\n",
    "        errores.append(total_errores)\n",
    "        i += 1\n",
    "        print(\"Errores en la iteracion {}: {}\".format(i,total_errores))\n",
    "        print(\"Pesos en la iteracion {}: {}\".format(i,weights))\n",
    "             \n",
    "    print(\"Tomo {} iteraciones\".format(i))\n",
    "    \n",
    "    #Grafica sobre los errores a lo largo de las iteraciones.\n",
    "    plt.plot(range(i),errores)\n",
    "    plt.title(\"Errores a lo largo de las iteraciones\")\n",
    "    plt.xlabel(\"Iteraciones\")\n",
    "    plt.ylabel(\"Errores\")\n",
    "    plt.show()\n",
    "    print(\"Pesos finales {}\".format(weights))\n",
    "    return weights\n",
    "\n",
    "\n",
    "X = np.array([[0,0],[0,1],[1,0],[1,1]]) #Crear la matriz con las posibles combinaciones logicas.\n",
    "y = np.logical_not(np.logical_and(X[:,0],X[:,1])) #Calcular los valores de \n",
    "bias=  np.ones((X.shape[0],1))\n",
    "X = np.hstack((bias,X))\n",
    "\n",
    "opt = Perceptron(X,y)"
   ]
  },
  {
   "cell_type": "markdown",
   "metadata": {
    "collapsed": true
   },
   "source": [
    "Ya estos pesos finales representan una funcion de manera que: \n",
    "\n",
    "$ 0.1 - 0.1x_0 - 0.1x_1 = NAND$  donde el 0.1 solitario equivale al bias.\n",
    "\n",
    "\n",
    "Vamos a comprobarlo con varias pruebas y con un codigo que representa esta función descrita."
   ]
  },
  {
   "cell_type": "code",
   "execution_count": 26,
   "metadata": {},
   "outputs": [
    {
     "data": {
      "text/html": [
       "<div>\n",
       "<style>\n",
       "    .dataframe thead tr:only-child th {\n",
       "        text-align: right;\n",
       "    }\n",
       "\n",
       "    .dataframe thead th {\n",
       "        text-align: left;\n",
       "    }\n",
       "\n",
       "    .dataframe tbody tr th {\n",
       "        vertical-align: top;\n",
       "    }\n",
       "</style>\n",
       "<table border=\"1\" class=\"dataframe\">\n",
       "  <thead>\n",
       "    <tr style=\"text-align: right;\">\n",
       "      <th></th>\n",
       "      <th>duracion_credito</th>\n",
       "      <th>cantidad_credito</th>\n",
       "      <th>edad</th>\n",
       "      <th>buen_historial_crediticio</th>\n",
       "      <th>incumplimiento</th>\n",
       "    </tr>\n",
       "  </thead>\n",
       "  <tbody>\n",
       "    <tr>\n",
       "      <th>0</th>\n",
       "      <td>6</td>\n",
       "      <td>33187.91</td>\n",
       "      <td>67</td>\n",
       "      <td>0</td>\n",
       "      <td>0</td>\n",
       "    </tr>\n",
       "    <tr>\n",
       "      <th>1</th>\n",
       "      <td>48</td>\n",
       "      <td>168948.89</td>\n",
       "      <td>22</td>\n",
       "      <td>1</td>\n",
       "      <td>1</td>\n",
       "    </tr>\n",
       "    <tr>\n",
       "      <th>2</th>\n",
       "      <td>12</td>\n",
       "      <td>59505.44</td>\n",
       "      <td>49</td>\n",
       "      <td>0</td>\n",
       "      <td>0</td>\n",
       "    </tr>\n",
       "    <tr>\n",
       "      <th>3</th>\n",
       "      <td>42</td>\n",
       "      <td>223769.98</td>\n",
       "      <td>45</td>\n",
       "      <td>1</td>\n",
       "      <td>0</td>\n",
       "    </tr>\n",
       "    <tr>\n",
       "      <th>4</th>\n",
       "      <td>24</td>\n",
       "      <td>138259.30</td>\n",
       "      <td>53</td>\n",
       "      <td>1</td>\n",
       "      <td>1</td>\n",
       "    </tr>\n",
       "    <tr>\n",
       "      <th>5</th>\n",
       "      <td>36</td>\n",
       "      <td>257071.45</td>\n",
       "      <td>35</td>\n",
       "      <td>1</td>\n",
       "      <td>0</td>\n",
       "    </tr>\n",
       "    <tr>\n",
       "      <th>6</th>\n",
       "      <td>24</td>\n",
       "      <td>80485.65</td>\n",
       "      <td>53</td>\n",
       "      <td>1</td>\n",
       "      <td>0</td>\n",
       "    </tr>\n",
       "    <tr>\n",
       "      <th>7</th>\n",
       "      <td>36</td>\n",
       "      <td>197253.72</td>\n",
       "      <td>35</td>\n",
       "      <td>1</td>\n",
       "      <td>0</td>\n",
       "    </tr>\n",
       "    <tr>\n",
       "      <th>8</th>\n",
       "      <td>12</td>\n",
       "      <td>86845.01</td>\n",
       "      <td>61</td>\n",
       "      <td>1</td>\n",
       "      <td>0</td>\n",
       "    </tr>\n",
       "    <tr>\n",
       "      <th>9</th>\n",
       "      <td>30</td>\n",
       "      <td>148593.26</td>\n",
       "      <td>28</td>\n",
       "      <td>0</td>\n",
       "      <td>1</td>\n",
       "    </tr>\n",
       "  </tbody>\n",
       "</table>\n",
       "</div>"
      ],
      "text/plain": [
       "   duracion_credito  cantidad_credito  edad  buen_historial_crediticio  \\\n",
       "0                 6          33187.91    67                          0   \n",
       "1                48         168948.89    22                          1   \n",
       "2                12          59505.44    49                          0   \n",
       "3                42         223769.98    45                          1   \n",
       "4                24         138259.30    53                          1   \n",
       "5                36         257071.45    35                          1   \n",
       "6                24          80485.65    53                          1   \n",
       "7                36         197253.72    35                          1   \n",
       "8                12          86845.01    61                          1   \n",
       "9                30         148593.26    28                          0   \n",
       "\n",
       "   incumplimiento  \n",
       "0               0  \n",
       "1               1  \n",
       "2               0  \n",
       "3               0  \n",
       "4               1  \n",
       "5               0  \n",
       "6               0  \n",
       "7               0  \n",
       "8               0  \n",
       "9               1  "
      ]
     },
     "execution_count": 26,
     "metadata": {},
     "output_type": "execute_result"
    }
   ],
   "source": [
    "datos_credito = pd.read_csv(\"datos_credito.csv\")\n",
    "datos_credito.head(10)"
   ]
  },
  {
   "cell_type": "code",
   "execution_count": null,
   "metadata": {
    "collapsed": true
   },
   "outputs": [],
   "source": []
  }
 ],
 "metadata": {
  "kernelspec": {
   "display_name": "Python 3",
   "language": "python",
   "name": "python3"
  },
  "language_info": {
   "codemirror_mode": {
    "name": "ipython",
    "version": 3
   },
   "file_extension": ".py",
   "mimetype": "text/x-python",
   "name": "python",
   "nbconvert_exporter": "python",
   "pygments_lexer": "ipython3",
   "version": "3.6.1"
  }
 },
 "nbformat": 4,
 "nbformat_minor": 2
}
